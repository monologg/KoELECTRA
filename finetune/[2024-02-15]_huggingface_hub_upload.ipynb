{
 "cells": [
  {
   "cell_type": "code",
   "execution_count": 17,
   "metadata": {},
   "outputs": [],
   "source": [
    "from huggingface_hub import notebook_login, create_repo, delete_repo, Repository, upload_file, delete_file\n",
    "import shutil\n",
    "import os\n",
    "from glob import glob\n"
   ]
  },
  {
   "cell_type": "code",
   "execution_count": 2,
   "metadata": {},
   "outputs": [
    {
     "data": {
      "application/vnd.jupyter.widget-view+json": {
       "model_id": "22662045365f47b3b88e27f8ac0d370d",
       "version_major": 2,
       "version_minor": 0
      },
      "text/plain": [
       "VBox(children=(HTML(value='<center> <img\\nsrc=https://huggingface.co/front/assets/huggingface_logo-noborder.sv…"
      ]
     },
     "metadata": {},
     "output_type": "display_data"
    }
   ],
   "source": [
    "### 로그인\n",
    "# 토큰링크: https://huggingface.co/settings/tokens\n",
    "notebook_login()\n"
   ]
  },
  {
   "cell_type": "code",
   "execution_count": 6,
   "metadata": {},
   "outputs": [
    {
     "data": {
      "text/plain": [
       "RepoUrl('https://huggingface.co/cujabes/koelectra-small-v3-discriminator', endpoint='https://huggingface.co', repo_type='model', repo_id='cujabes/koelectra-small-v3-discriminator')"
      ]
     },
     "execution_count": 6,
     "metadata": {},
     "output_type": "execute_result"
    }
   ],
   "source": [
    "# Repository 생성\n",
    "REPO_NAME = \"cujabes/koelectra-small-v3-discriminator\"\n",
    "create_repo(REPO_NAME)"
   ]
  },
  {
   "cell_type": "code",
   "execution_count": 4,
   "metadata": {},
   "outputs": [],
   "source": [
    "# Repository 삭제\n",
    "REPO_NAME = \"cujabes/koelectra-small-v3-discriminator\"\n",
    "delete_repo(REPO_NAME)\n"
   ]
  },
  {
   "cell_type": "code",
   "execution_count": 11,
   "metadata": {},
   "outputs": [
    {
     "name": "stderr",
     "output_type": "stream",
     "text": [
      "/root/anaconda3/envs/CSU/lib/python3.8/site-packages/huggingface_hub/utils/_deprecation.py:131: FutureWarning: 'Repository' (from 'huggingface_hub.repository') is deprecated and will be removed from version '1.0'. Please prefer the http-based alternatives instead. Given its large adoption in legacy code, the complete removal is only planned on next major release.\n",
      "For more details, please read https://huggingface.co/docs/huggingface_hub/concepts/git_vs_http.\n",
      "  warnings.warn(warning_message, FutureWarning)\n",
      "Cloning https://huggingface.co/cujabes/koelectra-small-v3-discriminator into local empty directory.\n"
     ]
    }
   ],
   "source": [
    "# Repository 객체생성\n",
    "LOCAL_DIR_NAME = \"../../../../models/KoELECTRA/repo\" # 비어있는 폴더를 선택해야함.\n",
    "REPO_NAME = \"cujabes/koelectra-small-v3-discriminator\"\n",
    "repo = Repository(LOCAL_DIR_NAME, clone_from=REPO_NAME)"
   ]
  },
  {
   "cell_type": "code",
   "execution_count": 28,
   "metadata": {},
   "outputs": [
    {
     "name": "stdout",
     "output_type": "stream",
     "text": [
      "../../../../models/KoELECTRA/koelectra-small-v3-naver-ner-ckpt/checkpoint-best/config.json ../../../../models/KoELECTRA/repo/config.json\n",
      "../../../../models/KoELECTRA/koelectra-small-v3-naver-ner-ckpt/checkpoint-best/tokenizer_config.json ../../../../models/KoELECTRA/repo/tokenizer_config.json\n",
      "../../../../models/KoELECTRA/koelectra-small-v3-naver-ner-ckpt/checkpoint-best/pytorch_model.bin ../../../../models/KoELECTRA/repo/pytorch_model.bin\n",
      "../../../../models/KoELECTRA/koelectra-small-v3-naver-ner-ckpt/checkpoint-best/model.safetensors ../../../../models/KoELECTRA/repo/model.safetensors\n",
      "../../../../models/KoELECTRA/koelectra-small-v3-naver-ner-ckpt/checkpoint-best/vocab.txt ../../../../models/KoELECTRA/repo/vocab.txt\n"
     ]
    }
   ],
   "source": [
    "# 모델파일들을 repo 경로에 복사\n",
    "\n",
    "# 원본 파일 경로\n",
    "source_path = \"../../../../models/KoELECTRA/koelectra-small-v3-naver-ner-ckpt/checkpoint-best/*\"\n",
    "# 대상 파일 경로 (복사될 위치와 파일 이름)\n",
    "target_path = \"../../../../models/KoELECTRA/repo/\"\n",
    "\n",
    "# print(glob(source_path))\n",
    "for source_file in glob(source_path):\n",
    "    filename = os.path.basename(source_file)\n",
    "    target_file = os.path.join(target_path, filename)\n",
    "    print(source_file, target_file)\n",
    "    # 파일 복사\n",
    "    shutil.copyfile(source_file, target_file)\n"
   ]
  },
  {
   "cell_type": "code",
   "execution_count": 29,
   "metadata": {},
   "outputs": [
    {
     "data": {
      "application/vnd.jupyter.widget-view+json": {
       "model_id": "75b1e55cb066437d9df3483783eacb64",
       "version_major": 2,
       "version_minor": 0
      },
      "text/plain": [
       "Upload file model.safetensors:   0%|          | 1.00/53.7M [00:00<?, ?B/s]"
      ]
     },
     "metadata": {},
     "output_type": "display_data"
    },
    {
     "data": {
      "application/vnd.jupyter.widget-view+json": {
       "model_id": "2670cb2d1d0746449c3025fa9339c19e",
       "version_major": 2,
       "version_minor": 0
      },
      "text/plain": [
       "Upload file pytorch_model.bin:   0%|          | 1.00/1.93k [00:00<?, ?B/s]"
      ]
     },
     "metadata": {},
     "output_type": "display_data"
    },
    {
     "name": "stderr",
     "output_type": "stream",
     "text": [
      "To https://huggingface.co/cujabes/koelectra-small-v3-discriminator\n",
      "   2d583e1..cfeb57c  main -> main\n",
      "\n"
     ]
    },
    {
     "data": {
      "text/plain": [
       "'https://huggingface.co/cujabes/koelectra-small-v3-discriminator/commit/cfeb57c153e1be75f4ef4537152110c23fc5ed76'"
      ]
     },
     "execution_count": 29,
     "metadata": {},
     "output_type": "execute_result"
    }
   ],
   "source": [
    "# 원격 저장소에 업로드\n",
    "commit_message = 'Initial commit'\n",
    "repo.git_add()\n",
    "repo.git_commit(commit_message)\n",
    "repo.git_push()"
   ]
  },
  {
   "cell_type": "code",
   "execution_count": null,
   "metadata": {},
   "outputs": [],
   "source": [
    "# 파일을 직접 업로드\n",
    "upload_file(\n",
    "    LOCAL_FILE_PATH,\n",
    "    path_in_repo=REPO_FILE_PATH,\n",
    "    repo_id=NAMESPACE/REPO_NAME,\n",
    ")"
   ]
  },
  {
   "cell_type": "code",
   "execution_count": null,
   "metadata": {},
   "outputs": [],
   "source": [
    "# 파일 삭제\n",
    "delete_file(\n",
    "    REPO_FILE_PATH,\n",
    "    repo_id=NAMESPACE/REPO_NAME,\n",
    ")"
   ]
  }
 ],
 "metadata": {
  "kernelspec": {
   "display_name": "CSU",
   "language": "python",
   "name": "python3"
  },
  "language_info": {
   "codemirror_mode": {
    "name": "ipython",
    "version": 3
   },
   "file_extension": ".py",
   "mimetype": "text/x-python",
   "name": "python",
   "nbconvert_exporter": "python",
   "pygments_lexer": "ipython3",
   "version": "3.8.18"
  }
 },
 "nbformat": 4,
 "nbformat_minor": 2
}
