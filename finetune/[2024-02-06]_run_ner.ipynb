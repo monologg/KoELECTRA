{
 "cells": [
  {
   "cell_type": "code",
   "execution_count": 5,
   "metadata": {},
   "outputs": [],
   "source": [
    "import json\n",
    "import logging\n",
    "import os\n",
    "import glob\n",
    "import re\n",
    "\n",
    "import numpy as np\n",
    "import torch\n",
    "from torch.utils.data import DataLoader, RandomSampler, SequentialSampler\n",
    "from torch.nn import CrossEntropyLoss\n",
    "from fastprogress.fastprogress import master_bar, progress_bar\n",
    "from attrdict import AttrDict\n",
    "\n",
    "from transformers import (\n",
    "    AdamW,\n",
    "    get_linear_schedule_with_warmup\n",
    ")\n",
    "\n",
    "from src import (\n",
    "    CONFIG_CLASSES,\n",
    "    TOKENIZER_CLASSES,\n",
    "    MODEL_FOR_TOKEN_CLASSIFICATION,\n",
    "    init_logger,\n",
    "    set_seed,\n",
    "    compute_metrics,\n",
    "    show_ner_report\n",
    ")\n",
    "\n",
    "from processor import ner_load_and_cache_examples as load_and_cache_examples\n",
    "from processor import ner_tasks_num_labels as tasks_num_labels\n",
    "from processor import ner_processors as processors\n",
    "\n",
    "logger = logging.getLogger(__name__)\n",
    "\n",
    "from run_ner import train, evaluate"
   ]
  },
  {
   "cell_type": "code",
   "execution_count": 17,
   "metadata": {},
   "outputs": [
    {
     "name": "stderr",
     "output_type": "stream",
     "text": [
      "02/06/2024 02:44:18 - INFO - __main__ -   Training/evaluation parameters AttrDict({'task': 'naver-ner', 'data_dir': '../../../../data/KoELECTRA', 'ckpt_dir': 'ckpt', 'train_file': 'train.tsv', 'dev_file': '', 'test_file': 'test.tsv', 'evaluate_test_during_training': True, 'eval_all_checkpoints': True, 'save_optimizer': False, 'do_lower_case': False, 'do_train': True, 'do_eval': True, 'max_seq_len': 128, 'num_train_epochs': 20, 'weight_decay': 0.0, 'gradient_accumulation_steps': 1, 'adam_epsilon': 1e-08, 'warmup_proportion': 0, 'max_steps': -1, 'max_grad_norm': 1.0, 'no_cuda': False, 'model_type': 'koelectra-small-v3', 'model_name_or_path': 'monologg/koelectra-small-v3-discriminator', 'output_dir': 'koelectra-small-v3-naver-ner-ckpt', 'seed': 42, 'train_batch_size': 32, 'eval_batch_size': 128, 'logging_steps': 1000, 'save_steps': 1000, 'learning_rate': 5e-05})\n"
     ]
    }
   ],
   "source": [
    "config_path = \"../../../../data/KoELECTRA_config/naver-ner/koelectra-small-v3.json\"\n",
    "# Read from config file and make args\n",
    "with open(config_path) as f:\n",
    "    args = AttrDict(json.load(f))\n",
    "logger.info(\"Training/evaluation parameters {}\".format(args))\n",
    "\n",
    "args.output_dir = os.path.join(args.ckpt_dir, args.output_dir)\n",
    "\n",
    "init_logger()\n",
    "set_seed(args)"
   ]
  },
  {
   "cell_type": "code",
   "execution_count": 18,
   "metadata": {},
   "outputs": [
    {
     "name": "stderr",
     "output_type": "stream",
     "text": [
      "Some weights of ElectraForTokenClassification were not initialized from the model checkpoint at monologg/koelectra-small-v3-discriminator and are newly initialized: ['classifier.bias', 'classifier.weight']\n",
      "You should probably TRAIN this model on a down-stream task to be able to use it for predictions and inference.\n"
     ]
    }
   ],
   "source": [
    "cache_dir = \"../../../../models/huggingface\"\n",
    "processor = processors[args.task](args)\n",
    "labels = processor.get_labels()\n",
    "config = CONFIG_CLASSES[args.model_type].from_pretrained(\n",
    "    args.model_name_or_path,\n",
    "    num_labels=tasks_num_labels[args.task],\n",
    "    id2label={str(i): label for i, label in enumerate(labels)},\n",
    "    label2id={label: i for i, label in enumerate(labels)},\n",
    "    cache_dir=cache_dir\n",
    ")\n",
    "tokenizer = TOKENIZER_CLASSES[args.model_type].from_pretrained(\n",
    "    args.model_name_or_path,\n",
    "    do_lower_case=args.do_lower_case,\n",
    "    cache_dir=cache_dir\n",
    ")\n",
    "model = MODEL_FOR_TOKEN_CLASSIFICATION[args.model_type].from_pretrained(\n",
    "    args.model_name_or_path,\n",
    "    config=config,\n",
    "    cache_dir=cache_dir\n",
    ")"
   ]
  },
  {
   "cell_type": "code",
   "execution_count": 19,
   "metadata": {},
   "outputs": [
    {
     "name": "stdout",
     "output_type": "stream",
     "text": [
      "cuda\n"
     ]
    }
   ],
   "source": [
    "# GPU or CPU\n",
    "args.device = \"cuda\" if torch.cuda.is_available() and not args.no_cuda else \"cpu\"\n",
    "model.to(args.device)\n",
    "print(args.device)"
   ]
  },
  {
   "cell_type": "code",
   "execution_count": 20,
   "metadata": {},
   "outputs": [
    {
     "name": "stderr",
     "output_type": "stream",
     "text": [
      "02/06/2024 02:44:31 - INFO - processor.ner -   Creating features from dataset file at ../../../../data/KoELECTRA\n",
      "02/06/2024 02:44:31 - INFO - processor.ner -   LOOKING AT ../../../../data/KoELECTRA/naver-ner/train.tsv\n",
      "02/06/2024 02:44:31 - INFO - processor.ner -   금석객잔 여러분, 감사드립니다 .\tORG-B O O O\n",
      "02/06/2024 02:44:31 - INFO - processor.ner -   -얼마 전에는 강남에 강천수 씨 소유의 건축물이 25억이 넘는다고 해서 말거리가 됐는데요 .\tO O LOC-B PER-B O O O NUM-B O O O O O\n",
      "02/06/2024 02:44:31 - INFO - processor.ner -   ” 한옥순 사장은 기념물 용적량 축소의 의미를 이렇게 표현했다 .\tO PER-B CVL-B TRM-B O O O O O O\n",
      "02/06/2024 02:44:31 - INFO - processor.ner -   )-경기 서반 부진했던 근거는 무엇이라 생각하는지 ?\tO O O O O O O\n",
      "02/06/2024 02:44:31 - INFO - processor.ner -   미다스 구귀족의 무비 아는 남자에서 불가사의한 첫 출연.\tPER-B CVL-B O O O O NUM-B O\n",
      "02/06/2024 02:44:31 - INFO - processor.ner -   USGA는 최하의 선수권자를 가리기 위해 엄준한 코스세팅을 한다 .\tORG-B O CVL-B O O O O O O\n",
      "02/06/2024 02:44:31 - INFO - processor.ner -   남자유도 -60kg에 출정한 마터스(한국마사회)는 2회전부터 결승전까지 1 불연속 한판승을 거두는 괴력을 분휘하며 신세대를 목에 걸었다 .\tCVL-B NUM-B O PER-B EVT-B EVT-B NUM-B O TRM-B O O O CVL-B ANM-B O O\n",
      "02/06/2024 02:44:31 - INFO - processor.ner -   박제영 광양시체육회 성관은 영하 축하메시지를 통해 시에라네바다 네이션 간 IT 부류 부역을 약세화하자”면서 “공공 정보화 프로젝트에 한국의 IT솔루션을 선택해 달라”고 제언했다 .\tPER-B ORG-B CVL-B O O O LOC-B O O TRM-B O O O O O O LOC-B TRM-B O O O O\n",
      "02/06/2024 02:44:31 - INFO - processor.ner -   많은 청년기 키네마가 그래왔듯이 ‘내 구경에게 팔달문’ 세상의 보통적인 평정 안에서는 별 소간 없는 비루한 항상을 살고 있는 청춘들이 여주수영이다 .\tO O FLD-B O AFW-B AFW-I AFW-I O O O O O O O O O O O O CVL-B O\n",
      "02/06/2024 02:44:31 - INFO - processor.ner -   Writing example 0 of 81000\n",
      "02/06/2024 02:44:31 - INFO - processor.ner -   *** Example ***\n",
      "02/06/2024 02:44:31 - INFO - processor.ner -   guid: train-0\n",
      "02/06/2024 02:44:31 - INFO - processor.ner -   tokens: [CLS] 금 ##석 ##객 ##잔 여러분 , 감사 ##드 ##립니다 . [SEP]\n",
      "02/06/2024 02:44:31 - INFO - processor.ner -   input_ids: 2 2131 4221 4484 4598 8052 16 6851 4023 9155 18 3 0 0 0 0 0 0 0 0 0 0 0 0 0 0 0 0 0 0 0 0 0 0 0 0 0 0 0 0 0 0 0 0 0 0 0 0 0 0 0 0 0 0 0 0 0 0 0 0 0 0 0 0 0 0 0 0 0 0 0 0 0 0 0 0 0 0 0 0 0 0 0 0 0 0 0 0 0 0 0 0 0 0 0 0 0 0 0 0 0 0 0 0 0 0 0 0 0 0 0 0 0 0 0 0 0 0 0 0 0 0 0 0 0 0 0 0\n",
      "02/06/2024 02:44:31 - INFO - processor.ner -   attention_mask: 1 1 1 1 1 1 1 1 1 1 1 1 0 0 0 0 0 0 0 0 0 0 0 0 0 0 0 0 0 0 0 0 0 0 0 0 0 0 0 0 0 0 0 0 0 0 0 0 0 0 0 0 0 0 0 0 0 0 0 0 0 0 0 0 0 0 0 0 0 0 0 0 0 0 0 0 0 0 0 0 0 0 0 0 0 0 0 0 0 0 0 0 0 0 0 0 0 0 0 0 0 0 0 0 0 0 0 0 0 0 0 0 0 0 0 0 0 0 0 0 0 0 0 0 0 0 0 0\n",
      "02/06/2024 02:44:31 - INFO - processor.ner -   token_type_ids: 0 0 0 0 0 0 0 0 0 0 0 0 0 0 0 0 0 0 0 0 0 0 0 0 0 0 0 0 0 0 0 0 0 0 0 0 0 0 0 0 0 0 0 0 0 0 0 0 0 0 0 0 0 0 0 0 0 0 0 0 0 0 0 0 0 0 0 0 0 0 0 0 0 0 0 0 0 0 0 0 0 0 0 0 0 0 0 0 0 0 0 0 0 0 0 0 0 0 0 0 0 0 0 0 0 0 0 0 0 0 0 0 0 0 0 0 0 0 0 0 0 0 0 0 0 0 0 0\n",
      "02/06/2024 02:44:31 - INFO - processor.ner -   label: -100 7 -100 -100 -100 0 -100 0 -100 -100 0 -100 -100 -100 -100 -100 -100 -100 -100 -100 -100 -100 -100 -100 -100 -100 -100 -100 -100 -100 -100 -100 -100 -100 -100 -100 -100 -100 -100 -100 -100 -100 -100 -100 -100 -100 -100 -100 -100 -100 -100 -100 -100 -100 -100 -100 -100 -100 -100 -100 -100 -100 -100 -100 -100 -100 -100 -100 -100 -100 -100 -100 -100 -100 -100 -100 -100 -100 -100 -100 -100 -100 -100 -100 -100 -100 -100 -100 -100 -100 -100 -100 -100 -100 -100 -100 -100 -100 -100 -100 -100 -100 -100 -100 -100 -100 -100 -100 -100 -100 -100 -100 -100 -100 -100 -100 -100 -100 -100 -100 -100 -100 -100 -100 -100 -100 -100 -100 \n",
      "02/06/2024 02:44:31 - INFO - processor.ner -   *** Example ***\n",
      "02/06/2024 02:44:31 - INFO - processor.ner -   guid: train-1\n",
      "02/06/2024 02:44:31 - INFO - processor.ner -   tokens: [CLS] 이기 ##범 한두 쪽 ##을 먹 ##고 10 ##분 후 ##쯤 화제 ##인 ##을 먹 ##는 것 ##이 좋 ##다고 한다 . [SEP]\n",
      "02/06/2024 02:44:31 - INFO - processor.ner -   input_ids: 2 8218 4251 11323 3389 4292 2654 4219 6242 4473 3826 5427 9130 4139 4292 2654 4034 2048 4007 3311 7218 6217 18 3 0 0 0 0 0 0 0 0 0 0 0 0 0 0 0 0 0 0 0 0 0 0 0 0 0 0 0 0 0 0 0 0 0 0 0 0 0 0 0 0 0 0 0 0 0 0 0 0 0 0 0 0 0 0 0 0 0 0 0 0 0 0 0 0 0 0 0 0 0 0 0 0 0 0 0 0 0 0 0 0 0 0 0 0 0 0 0 0 0 0 0 0 0 0 0 0 0 0 0 0 0 0 0 0\n",
      "02/06/2024 02:44:31 - INFO - processor.ner -   attention_mask: 1 1 1 1 1 1 1 1 1 1 1 1 1 1 1 1 1 1 1 1 1 1 1 1 0 0 0 0 0 0 0 0 0 0 0 0 0 0 0 0 0 0 0 0 0 0 0 0 0 0 0 0 0 0 0 0 0 0 0 0 0 0 0 0 0 0 0 0 0 0 0 0 0 0 0 0 0 0 0 0 0 0 0 0 0 0 0 0 0 0 0 0 0 0 0 0 0 0 0 0 0 0 0 0 0 0 0 0 0 0 0 0 0 0 0 0 0 0 0 0 0 0 0 0 0 0 0 0\n",
      "02/06/2024 02:44:31 - INFO - processor.ner -   token_type_ids: 0 0 0 0 0 0 0 0 0 0 0 0 0 0 0 0 0 0 0 0 0 0 0 0 0 0 0 0 0 0 0 0 0 0 0 0 0 0 0 0 0 0 0 0 0 0 0 0 0 0 0 0 0 0 0 0 0 0 0 0 0 0 0 0 0 0 0 0 0 0 0 0 0 0 0 0 0 0 0 0 0 0 0 0 0 0 0 0 0 0 0 0 0 0 0 0 0 0 0 0 0 0 0 0 0 0 0 0 0 0 0 0 0 0 0 0 0 0 0 0 0 0 0 0 0 0 0 0\n",
      "02/06/2024 02:44:31 - INFO - processor.ner -   label: -100 1 -100 0 0 -100 0 -100 15 -100 16 -100 11 -100 -100 0 -100 0 -100 0 -100 0 0 -100 -100 -100 -100 -100 -100 -100 -100 -100 -100 -100 -100 -100 -100 -100 -100 -100 -100 -100 -100 -100 -100 -100 -100 -100 -100 -100 -100 -100 -100 -100 -100 -100 -100 -100 -100 -100 -100 -100 -100 -100 -100 -100 -100 -100 -100 -100 -100 -100 -100 -100 -100 -100 -100 -100 -100 -100 -100 -100 -100 -100 -100 -100 -100 -100 -100 -100 -100 -100 -100 -100 -100 -100 -100 -100 -100 -100 -100 -100 -100 -100 -100 -100 -100 -100 -100 -100 -100 -100 -100 -100 -100 -100 -100 -100 -100 -100 -100 -100 -100 -100 -100 -100 -100 -100 \n",
      "02/06/2024 02:44:31 - INFO - processor.ner -   *** Example ***\n",
      "02/06/2024 02:44:31 - INFO - processor.ner -   guid: train-2\n",
      "02/06/2024 02:44:31 - INFO - processor.ner -   tokens: [CLS] 7 - 8 ##위 결정 ##전 ##에 ##서 김중 ##배 무스 ##파 ##타 ( 샌 ##안 ##토 ##니 ##오 ) 가 참 ##은 법 ##국 ##을 누르 ##고 유럽 ##축구 ##선 ##수 ##권 ##대 ##회 출격 ##권 ##을 점유 ##했 ##다 . [SEP]\n",
      "02/06/2024 02:44:31 - INFO - processor.ner -   input_ids: 2 27 17 28 4120 6393 4068 4073 4129 25937 4238 21698 4125 4194 12 2899 4225 4348 4155 4127 13 2010 3425 4112 2758 4113 4292 10596 4219 6755 17989 4207 4141 4046 4289 4213 20028 4046 4292 8775 4398 4176 18 3 0 0 0 0 0 0 0 0 0 0 0 0 0 0 0 0 0 0 0 0 0 0 0 0 0 0 0 0 0 0 0 0 0 0 0 0 0 0 0 0 0 0 0 0 0 0 0 0 0 0 0 0 0 0 0 0 0 0 0 0 0 0 0 0 0 0 0 0 0 0 0 0 0 0 0 0 0 0 0 0 0 0 0 0\n",
      "02/06/2024 02:44:31 - INFO - processor.ner -   attention_mask: 1 1 1 1 1 1 1 1 1 1 1 1 1 1 1 1 1 1 1 1 1 1 1 1 1 1 1 1 1 1 1 1 1 1 1 1 1 1 1 1 1 1 1 1 0 0 0 0 0 0 0 0 0 0 0 0 0 0 0 0 0 0 0 0 0 0 0 0 0 0 0 0 0 0 0 0 0 0 0 0 0 0 0 0 0 0 0 0 0 0 0 0 0 0 0 0 0 0 0 0 0 0 0 0 0 0 0 0 0 0 0 0 0 0 0 0 0 0 0 0 0 0 0 0 0 0 0 0\n",
      "02/06/2024 02:44:31 - INFO - processor.ner -   token_type_ids: 0 0 0 0 0 0 0 0 0 0 0 0 0 0 0 0 0 0 0 0 0 0 0 0 0 0 0 0 0 0 0 0 0 0 0 0 0 0 0 0 0 0 0 0 0 0 0 0 0 0 0 0 0 0 0 0 0 0 0 0 0 0 0 0 0 0 0 0 0 0 0 0 0 0 0 0 0 0 0 0 0 0 0 0 0 0 0 0 0 0 0 0 0 0 0 0 0 0 0 0 0 0 0 0 0 0 0 0 0 0 0 0 0 0 0 0 0 0 0 0 0 0 0 0 0 0 0 0\n",
      "02/06/2024 02:44:31 - INFO - processor.ner -   label: -100 19 -100 -100 -100 20 -100 -100 -100 1 -100 2 -100 -100 -100 -100 -100 -100 -100 -100 -100 -100 0 -100 9 -100 -100 0 -100 19 -100 -100 -100 -100 -100 -100 11 -100 -100 0 -100 -100 0 -100 -100 -100 -100 -100 -100 -100 -100 -100 -100 -100 -100 -100 -100 -100 -100 -100 -100 -100 -100 -100 -100 -100 -100 -100 -100 -100 -100 -100 -100 -100 -100 -100 -100 -100 -100 -100 -100 -100 -100 -100 -100 -100 -100 -100 -100 -100 -100 -100 -100 -100 -100 -100 -100 -100 -100 -100 -100 -100 -100 -100 -100 -100 -100 -100 -100 -100 -100 -100 -100 -100 -100 -100 -100 -100 -100 -100 -100 -100 -100 -100 -100 -100 -100 -100 \n",
      "02/06/2024 02:44:31 - INFO - processor.ner -   *** Example ***\n",
      "02/06/2024 02:44:31 - INFO - processor.ner -   guid: train-3\n",
      "02/06/2024 02:44:31 - INFO - processor.ner -   tokens: [CLS] 스코틀랜드 ##의 한 마을 ##에 ##서 보통 ##하 ##게 살 ##고 있 ##다는 이 기혼 남성 ##의 시조 ##가 유튜브 등 ##에 ##서 폭 ##렬 ##적 ##인 평판 ##을 모으 ##고 있 ##는데 치안 ##정 ##감 ##들 ##은 이 곡 ##목 ##에 출연 ##해 인기 ##인 ##이 된 황정 ##민 장 ##두 ##해 장정 풀 포츠 ##가 퇴 ##석 ##했 ##다 ##며 송 ##사 ##를 보내 ##고 있 ##습 ##니다 . [SEP]\n",
      "02/06/2024 02:44:31 - INFO - processor.ner -   input_ids: 2 12834 4234 3757 6762 4073 4129 7441 4279 4325 2888 4219 3249 6913 3240 28731 7173 4234 17380 4070 11468 2446 4073 4129 3722 4769 4199 4139 18093 4292 9136 4219 3249 18781 13233 4142 4032 4006 4112 3240 2076 4233 4073 7267 4151 6886 4139 4007 2412 24288 4257 3263 4349 4151 22722 3734 31237 4070 3644 4221 4398 4176 4815 2954 4067 4110 6823 4219 3249 4576 6216 18 3 0 0 0 0 0 0 0 0 0 0 0 0 0 0 0 0 0 0 0 0 0 0 0 0 0 0 0 0 0 0 0 0 0 0 0 0 0 0 0 0 0 0 0 0 0 0 0 0 0 0 0 0 0 0 0\n",
      "02/06/2024 02:44:31 - INFO - processor.ner -   attention_mask: 1 1 1 1 1 1 1 1 1 1 1 1 1 1 1 1 1 1 1 1 1 1 1 1 1 1 1 1 1 1 1 1 1 1 1 1 1 1 1 1 1 1 1 1 1 1 1 1 1 1 1 1 1 1 1 1 1 1 1 1 1 1 1 1 1 1 1 1 1 1 1 1 1 0 0 0 0 0 0 0 0 0 0 0 0 0 0 0 0 0 0 0 0 0 0 0 0 0 0 0 0 0 0 0 0 0 0 0 0 0 0 0 0 0 0 0 0 0 0 0 0 0 0 0 0 0 0 0\n",
      "02/06/2024 02:44:31 - INFO - processor.ner -   token_type_ids: 0 0 0 0 0 0 0 0 0 0 0 0 0 0 0 0 0 0 0 0 0 0 0 0 0 0 0 0 0 0 0 0 0 0 0 0 0 0 0 0 0 0 0 0 0 0 0 0 0 0 0 0 0 0 0 0 0 0 0 0 0 0 0 0 0 0 0 0 0 0 0 0 0 0 0 0 0 0 0 0 0 0 0 0 0 0 0 0 0 0 0 0 0 0 0 0 0 0 0 0 0 0 0 0 0 0 0 0 0 0 0 0 0 0 0 0 0 0 0 0 0 0 0 0 0 0 0 0\n",
      "02/06/2024 02:44:31 - INFO - processor.ner -   label: -100 9 -100 17 18 -100 -100 0 -100 -100 0 -100 0 -100 0 0 0 -100 0 -100 0 0 -100 -100 0 -100 -100 -100 0 -100 0 -100 0 -100 11 -100 -100 -100 -100 0 0 -100 -100 0 -100 11 -100 -100 0 1 -100 0 -100 -100 0 0 11 -100 0 -100 -100 -100 -100 0 -100 -100 0 -100 0 -100 -100 0 -100 -100 -100 -100 -100 -100 -100 -100 -100 -100 -100 -100 -100 -100 -100 -100 -100 -100 -100 -100 -100 -100 -100 -100 -100 -100 -100 -100 -100 -100 -100 -100 -100 -100 -100 -100 -100 -100 -100 -100 -100 -100 -100 -100 -100 -100 -100 -100 -100 -100 -100 -100 -100 -100 -100 -100 \n",
      "02/06/2024 02:44:31 - INFO - processor.ner -   *** Example ***\n",
      "02/06/2024 02:44:31 - INFO - processor.ner -   guid: train-4\n",
      "02/06/2024 02:44:31 - INFO - processor.ner -   tokens: [CLS] 보 ##니까 저 옆 ##에 사조 ##가 있 ##어요 . [SEP]\n",
      "02/06/2024 02:44:31 - INFO - processor.ner -   input_ids: 2 2780 6390 3278 3151 4073 22216 4070 3249 7933 18 3 0 0 0 0 0 0 0 0 0 0 0 0 0 0 0 0 0 0 0 0 0 0 0 0 0 0 0 0 0 0 0 0 0 0 0 0 0 0 0 0 0 0 0 0 0 0 0 0 0 0 0 0 0 0 0 0 0 0 0 0 0 0 0 0 0 0 0 0 0 0 0 0 0 0 0 0 0 0 0 0 0 0 0 0 0 0 0 0 0 0 0 0 0 0 0 0 0 0 0 0 0 0 0 0 0 0 0 0 0 0 0 0 0 0 0 0\n",
      "02/06/2024 02:44:31 - INFO - processor.ner -   attention_mask: 1 1 1 1 1 1 1 1 1 1 1 1 0 0 0 0 0 0 0 0 0 0 0 0 0 0 0 0 0 0 0 0 0 0 0 0 0 0 0 0 0 0 0 0 0 0 0 0 0 0 0 0 0 0 0 0 0 0 0 0 0 0 0 0 0 0 0 0 0 0 0 0 0 0 0 0 0 0 0 0 0 0 0 0 0 0 0 0 0 0 0 0 0 0 0 0 0 0 0 0 0 0 0 0 0 0 0 0 0 0 0 0 0 0 0 0 0 0 0 0 0 0 0 0 0 0 0 0\n",
      "02/06/2024 02:44:31 - INFO - processor.ner -   token_type_ids: 0 0 0 0 0 0 0 0 0 0 0 0 0 0 0 0 0 0 0 0 0 0 0 0 0 0 0 0 0 0 0 0 0 0 0 0 0 0 0 0 0 0 0 0 0 0 0 0 0 0 0 0 0 0 0 0 0 0 0 0 0 0 0 0 0 0 0 0 0 0 0 0 0 0 0 0 0 0 0 0 0 0 0 0 0 0 0 0 0 0 0 0 0 0 0 0 0 0 0 0 0 0 0 0 0 0 0 0 0 0 0 0 0 0 0 0 0 0 0 0 0 0 0 0 0 0 0 0\n",
      "02/06/2024 02:44:31 - INFO - processor.ner -   label: -100 0 -100 0 0 -100 0 -100 0 -100 0 -100 -100 -100 -100 -100 -100 -100 -100 -100 -100 -100 -100 -100 -100 -100 -100 -100 -100 -100 -100 -100 -100 -100 -100 -100 -100 -100 -100 -100 -100 -100 -100 -100 -100 -100 -100 -100 -100 -100 -100 -100 -100 -100 -100 -100 -100 -100 -100 -100 -100 -100 -100 -100 -100 -100 -100 -100 -100 -100 -100 -100 -100 -100 -100 -100 -100 -100 -100 -100 -100 -100 -100 -100 -100 -100 -100 -100 -100 -100 -100 -100 -100 -100 -100 -100 -100 -100 -100 -100 -100 -100 -100 -100 -100 -100 -100 -100 -100 -100 -100 -100 -100 -100 -100 -100 -100 -100 -100 -100 -100 -100 -100 -100 -100 -100 -100 -100 \n",
      "02/06/2024 02:44:33 - INFO - processor.ner -   Writing example 10000 of 81000\n",
      "02/06/2024 02:44:35 - INFO - processor.ner -   Writing example 20000 of 81000\n",
      "02/06/2024 02:44:37 - INFO - processor.ner -   Writing example 30000 of 81000\n",
      "02/06/2024 02:44:39 - INFO - processor.ner -   Writing example 40000 of 81000\n",
      "02/06/2024 02:44:41 - INFO - processor.ner -   Writing example 50000 of 81000\n",
      "02/06/2024 02:44:42 - INFO - processor.ner -   Writing example 60000 of 81000\n",
      "02/06/2024 02:44:44 - INFO - processor.ner -   Writing example 70000 of 81000\n",
      "02/06/2024 02:44:47 - INFO - processor.ner -   Writing example 80000 of 81000\n",
      "02/06/2024 02:44:47 - INFO - processor.ner -   Saving features into cached file ../../../../data/KoELECTRA/cached_naver-ner_koelectra-small-v3-discriminator_128_train\n",
      "02/06/2024 02:44:57 - INFO - processor.ner -   Creating features from dataset file at ../../../../data/KoELECTRA\n",
      "02/06/2024 02:44:57 - INFO - processor.ner -   LOOKING AT ../../../../data/KoELECTRA/naver-ner/test.tsv\n",
      "02/06/2024 02:44:57 - INFO - processor.ner -   나아가 한 스트로크를 하는 제한시간에 대한 지침도 있다 .\tO NUM-B NUM-I O O O O O O\n",
      "02/06/2024 02:44:57 - INFO - processor.ner -   Writing example 0 of 9000\n",
      "02/06/2024 02:44:57 - INFO - processor.ner -   *** Example ***\n",
      "02/06/2024 02:44:57 - INFO - processor.ner -   guid: test-0\n",
      "02/06/2024 02:44:57 - INFO - processor.ner -   tokens: [CLS] 나아가 한 스트로 ##크 ##를 하 ##는 제한 ##시간 ##에 대한 지침 ##도 있 ##다 . [SEP]\n",
      "02/06/2024 02:44:57 - INFO - processor.ner -   input_ids: 2 8510 3757 21028 4266 4110 3755 4034 7134 12210 4073 6230 10131 4086 3249 4176 18 3 0 0 0 0 0 0 0 0 0 0 0 0 0 0 0 0 0 0 0 0 0 0 0 0 0 0 0 0 0 0 0 0 0 0 0 0 0 0 0 0 0 0 0 0 0 0 0 0 0 0 0 0 0 0 0 0 0 0 0 0 0 0 0 0 0 0 0 0 0 0 0 0 0 0 0 0 0 0 0 0 0 0 0 0 0 0 0 0 0 0 0 0 0 0 0 0 0 0 0 0 0 0 0 0 0 0 0 0 0 0\n",
      "02/06/2024 02:44:57 - INFO - processor.ner -   attention_mask: 1 1 1 1 1 1 1 1 1 1 1 1 1 1 1 1 1 1 0 0 0 0 0 0 0 0 0 0 0 0 0 0 0 0 0 0 0 0 0 0 0 0 0 0 0 0 0 0 0 0 0 0 0 0 0 0 0 0 0 0 0 0 0 0 0 0 0 0 0 0 0 0 0 0 0 0 0 0 0 0 0 0 0 0 0 0 0 0 0 0 0 0 0 0 0 0 0 0 0 0 0 0 0 0 0 0 0 0 0 0 0 0 0 0 0 0 0 0 0 0 0 0 0 0 0 0 0 0\n",
      "02/06/2024 02:44:57 - INFO - processor.ner -   token_type_ids: 0 0 0 0 0 0 0 0 0 0 0 0 0 0 0 0 0 0 0 0 0 0 0 0 0 0 0 0 0 0 0 0 0 0 0 0 0 0 0 0 0 0 0 0 0 0 0 0 0 0 0 0 0 0 0 0 0 0 0 0 0 0 0 0 0 0 0 0 0 0 0 0 0 0 0 0 0 0 0 0 0 0 0 0 0 0 0 0 0 0 0 0 0 0 0 0 0 0 0 0 0 0 0 0 0 0 0 0 0 0 0 0 0 0 0 0 0 0 0 0 0 0 0 0 0 0 0 0\n",
      "02/06/2024 02:44:57 - INFO - processor.ner -   label: -100 0 17 18 -100 -100 0 -100 0 -100 -100 0 0 -100 0 -100 0 -100 -100 -100 -100 -100 -100 -100 -100 -100 -100 -100 -100 -100 -100 -100 -100 -100 -100 -100 -100 -100 -100 -100 -100 -100 -100 -100 -100 -100 -100 -100 -100 -100 -100 -100 -100 -100 -100 -100 -100 -100 -100 -100 -100 -100 -100 -100 -100 -100 -100 -100 -100 -100 -100 -100 -100 -100 -100 -100 -100 -100 -100 -100 -100 -100 -100 -100 -100 -100 -100 -100 -100 -100 -100 -100 -100 -100 -100 -100 -100 -100 -100 -100 -100 -100 -100 -100 -100 -100 -100 -100 -100 -100 -100 -100 -100 -100 -100 -100 -100 -100 -100 -100 -100 -100 -100 -100 -100 -100 -100 -100 \n",
      "02/06/2024 02:44:57 - INFO - processor.ner -   *** Example ***\n",
      "02/06/2024 02:44:57 - INFO - processor.ner -   guid: test-1\n",
      "02/06/2024 02:44:57 - INFO - processor.ner -   tokens: [CLS] 그건 관 ##두 영업 ##적 득 ##공 ##을 버리 ##고 퇴 ##은 ##을 원 ##하 ##는 엘레 ##나 대행 궐 ##녀 ##를 닮 ##은 여인 ##들 ##을 교 ##련 시켜서 ． [SEP]\n",
      "02/06/2024 02:44:57 - INFO - processor.ner -   input_ids: 2 8666 2089 4349 6945 4199 2438 4333 4292 7040 4219 3644 4112 4292 3201 4279 4034 27057 4065 10239 2115 4499 4110 2355 4112 9381 4006 4292 2099 4585 15190 3899 3 0 0 0 0 0 0 0 0 0 0 0 0 0 0 0 0 0 0 0 0 0 0 0 0 0 0 0 0 0 0 0 0 0 0 0 0 0 0 0 0 0 0 0 0 0 0 0 0 0 0 0 0 0 0 0 0 0 0 0 0 0 0 0 0 0 0 0 0 0 0 0 0 0 0 0 0 0 0 0 0 0 0 0 0 0 0 0 0 0 0 0 0 0 0 0\n",
      "02/06/2024 02:44:57 - INFO - processor.ner -   attention_mask: 1 1 1 1 1 1 1 1 1 1 1 1 1 1 1 1 1 1 1 1 1 1 1 1 1 1 1 1 1 1 1 1 1 0 0 0 0 0 0 0 0 0 0 0 0 0 0 0 0 0 0 0 0 0 0 0 0 0 0 0 0 0 0 0 0 0 0 0 0 0 0 0 0 0 0 0 0 0 0 0 0 0 0 0 0 0 0 0 0 0 0 0 0 0 0 0 0 0 0 0 0 0 0 0 0 0 0 0 0 0 0 0 0 0 0 0 0 0 0 0 0 0 0 0 0 0 0 0\n",
      "02/06/2024 02:44:57 - INFO - processor.ner -   token_type_ids: 0 0 0 0 0 0 0 0 0 0 0 0 0 0 0 0 0 0 0 0 0 0 0 0 0 0 0 0 0 0 0 0 0 0 0 0 0 0 0 0 0 0 0 0 0 0 0 0 0 0 0 0 0 0 0 0 0 0 0 0 0 0 0 0 0 0 0 0 0 0 0 0 0 0 0 0 0 0 0 0 0 0 0 0 0 0 0 0 0 0 0 0 0 0 0 0 0 0 0 0 0 0 0 0 0 0 0 0 0 0 0 0 0 0 0 0 0 0 0 0 0 0 0 0 0 0 0 0\n",
      "02/06/2024 02:44:57 - INFO - processor.ner -   label: -100 0 0 -100 0 -100 0 -100 -100 0 -100 0 -100 -100 0 -100 -100 1 -100 0 0 -100 -100 0 -100 11 -100 -100 0 -100 0 0 -100 -100 -100 -100 -100 -100 -100 -100 -100 -100 -100 -100 -100 -100 -100 -100 -100 -100 -100 -100 -100 -100 -100 -100 -100 -100 -100 -100 -100 -100 -100 -100 -100 -100 -100 -100 -100 -100 -100 -100 -100 -100 -100 -100 -100 -100 -100 -100 -100 -100 -100 -100 -100 -100 -100 -100 -100 -100 -100 -100 -100 -100 -100 -100 -100 -100 -100 -100 -100 -100 -100 -100 -100 -100 -100 -100 -100 -100 -100 -100 -100 -100 -100 -100 -100 -100 -100 -100 -100 -100 -100 -100 -100 -100 -100 -100 \n",
      "02/06/2024 02:44:57 - INFO - processor.ner -   *** Example ***\n",
      "02/06/2024 02:44:57 - INFO - processor.ner -   guid: test-2\n",
      "02/06/2024 02:44:57 - INFO - processor.ner -   tokens: [CLS] 송 ##인 ##영 ##은 5 ##년 근 ##화 ##향 ##에 ##서 개최 ##된 CJ ##나 ##인 ##브 ##릿 ##지 ##클 ##래 ##식 토요 ##돌 ##봄 ##으로 ' LPGA 직행 ##티 ##킷 ' 을 거머쥐 ##었 ##던 투표 ##권 . [SEP]\n",
      "02/06/2024 02:44:57 - INFO - processor.ner -   input_ids: 2 2954 4139 4197 4112 25 4556 2128 4162 4160 4073 4129 7114 4880 9600 4065 4139 4341 4990 4200 4708 4395 4083 17786 4134 4833 10749 11 19662 22836 4017 4904 11 3232 24172 4480 4820 7070 4046 18 3 0 0 0 0 0 0 0 0 0 0 0 0 0 0 0 0 0 0 0 0 0 0 0 0 0 0 0 0 0 0 0 0 0 0 0 0 0 0 0 0 0 0 0 0 0 0 0 0 0 0 0 0 0 0 0 0 0 0 0 0 0 0 0 0 0 0 0 0 0 0 0 0 0 0 0 0 0 0 0 0 0 0 0 0 0 0 0\n",
      "02/06/2024 02:44:57 - INFO - processor.ner -   attention_mask: 1 1 1 1 1 1 1 1 1 1 1 1 1 1 1 1 1 1 1 1 1 1 1 1 1 1 1 1 1 1 1 1 1 1 1 1 1 1 1 1 1 0 0 0 0 0 0 0 0 0 0 0 0 0 0 0 0 0 0 0 0 0 0 0 0 0 0 0 0 0 0 0 0 0 0 0 0 0 0 0 0 0 0 0 0 0 0 0 0 0 0 0 0 0 0 0 0 0 0 0 0 0 0 0 0 0 0 0 0 0 0 0 0 0 0 0 0 0 0 0 0 0 0 0 0 0 0 0\n",
      "02/06/2024 02:44:57 - INFO - processor.ner -   token_type_ids: 0 0 0 0 0 0 0 0 0 0 0 0 0 0 0 0 0 0 0 0 0 0 0 0 0 0 0 0 0 0 0 0 0 0 0 0 0 0 0 0 0 0 0 0 0 0 0 0 0 0 0 0 0 0 0 0 0 0 0 0 0 0 0 0 0 0 0 0 0 0 0 0 0 0 0 0 0 0 0 0 0 0 0 0 0 0 0 0 0 0 0 0 0 0 0 0 0 0 0 0 0 0 0 0 0 0 0 0 0 0 0 0 0 0 0 0 0 0 0 0 0 0 0 0 0 0 0 0\n",
      "02/06/2024 02:44:57 - INFO - processor.ner -   label: -100 1 -100 -100 -100 13 -100 9 -100 -100 -100 -100 0 -100 19 -100 -100 -100 -100 -100 -100 -100 -100 11 -100 -100 -100 7 -100 0 -100 -100 -100 -100 0 -100 -100 11 -100 0 -100 -100 -100 -100 -100 -100 -100 -100 -100 -100 -100 -100 -100 -100 -100 -100 -100 -100 -100 -100 -100 -100 -100 -100 -100 -100 -100 -100 -100 -100 -100 -100 -100 -100 -100 -100 -100 -100 -100 -100 -100 -100 -100 -100 -100 -100 -100 -100 -100 -100 -100 -100 -100 -100 -100 -100 -100 -100 -100 -100 -100 -100 -100 -100 -100 -100 -100 -100 -100 -100 -100 -100 -100 -100 -100 -100 -100 -100 -100 -100 -100 -100 -100 -100 -100 -100 -100 -100 \n",
      "02/06/2024 02:44:57 - INFO - processor.ner -   *** Example ***\n",
      "02/06/2024 02:44:57 - INFO - processor.ner -   guid: test-3\n",
      "02/06/2024 02:44:57 - INFO - processor.ner -   tokens: [CLS] 역전패 ' 단국 월드 ##리그 7 ##연 ##패 … 장영 ##달 ##회 ##장 인 ##퇴 [SEP]\n",
      "02/06/2024 02:44:57 - INFO - processor.ner -   input_ids: 2 32675 11 23620 7345 19611 27 4049 4347 151 23075 4293 4213 4048 3242 4434 3 0 0 0 0 0 0 0 0 0 0 0 0 0 0 0 0 0 0 0 0 0 0 0 0 0 0 0 0 0 0 0 0 0 0 0 0 0 0 0 0 0 0 0 0 0 0 0 0 0 0 0 0 0 0 0 0 0 0 0 0 0 0 0 0 0 0 0 0 0 0 0 0 0 0 0 0 0 0 0 0 0 0 0 0 0 0 0 0 0 0 0 0 0 0 0 0 0 0 0 0 0 0 0 0 0 0 0 0 0 0 0\n",
      "02/06/2024 02:44:57 - INFO - processor.ner -   attention_mask: 1 1 1 1 1 1 1 1 1 1 1 1 1 1 1 1 1 0 0 0 0 0 0 0 0 0 0 0 0 0 0 0 0 0 0 0 0 0 0 0 0 0 0 0 0 0 0 0 0 0 0 0 0 0 0 0 0 0 0 0 0 0 0 0 0 0 0 0 0 0 0 0 0 0 0 0 0 0 0 0 0 0 0 0 0 0 0 0 0 0 0 0 0 0 0 0 0 0 0 0 0 0 0 0 0 0 0 0 0 0 0 0 0 0 0 0 0 0 0 0 0 0 0 0 0 0 0 0\n",
      "02/06/2024 02:44:57 - INFO - processor.ner -   token_type_ids: 0 0 0 0 0 0 0 0 0 0 0 0 0 0 0 0 0 0 0 0 0 0 0 0 0 0 0 0 0 0 0 0 0 0 0 0 0 0 0 0 0 0 0 0 0 0 0 0 0 0 0 0 0 0 0 0 0 0 0 0 0 0 0 0 0 0 0 0 0 0 0 0 0 0 0 0 0 0 0 0 0 0 0 0 0 0 0 0 0 0 0 0 0 0 0 0 0 0 0 0 0 0 0 0 0 0 0 0 0 0 0 0 0 0 0 0 0 0 0 0 0 0 0 0 0 0 0 0\n",
      "02/06/2024 02:44:57 - INFO - processor.ner -   label: -100 0 -100 19 20 -100 17 -100 -100 -100 -100 -100 -100 -100 0 -100 -100 -100 -100 -100 -100 -100 -100 -100 -100 -100 -100 -100 -100 -100 -100 -100 -100 -100 -100 -100 -100 -100 -100 -100 -100 -100 -100 -100 -100 -100 -100 -100 -100 -100 -100 -100 -100 -100 -100 -100 -100 -100 -100 -100 -100 -100 -100 -100 -100 -100 -100 -100 -100 -100 -100 -100 -100 -100 -100 -100 -100 -100 -100 -100 -100 -100 -100 -100 -100 -100 -100 -100 -100 -100 -100 -100 -100 -100 -100 -100 -100 -100 -100 -100 -100 -100 -100 -100 -100 -100 -100 -100 -100 -100 -100 -100 -100 -100 -100 -100 -100 -100 -100 -100 -100 -100 -100 -100 -100 -100 -100 -100 \n",
      "02/06/2024 02:44:57 - INFO - processor.ner -   *** Example ***\n",
      "02/06/2024 02:44:57 - INFO - processor.ner -   guid: test-4\n",
      "02/06/2024 02:44:57 - INFO - processor.ner -   tokens: [CLS] ‘ 국내 최대 통신 ##그룹 ##인 KT ##호 ##의 선장 ##은 누가 될까 . ' [SEP]\n",
      "02/06/2024 02:44:57 - INFO - processor.ner -   input_ids: 2 144 6359 6584 6741 9827 4139 7763 4029 4234 13050 4112 7644 12152 18 11 3 0 0 0 0 0 0 0 0 0 0 0 0 0 0 0 0 0 0 0 0 0 0 0 0 0 0 0 0 0 0 0 0 0 0 0 0 0 0 0 0 0 0 0 0 0 0 0 0 0 0 0 0 0 0 0 0 0 0 0 0 0 0 0 0 0 0 0 0 0 0 0 0 0 0 0 0 0 0 0 0 0 0 0 0 0 0 0 0 0 0 0 0 0 0 0 0 0 0 0 0 0 0 0 0 0 0 0 0 0 0 0\n",
      "02/06/2024 02:44:57 - INFO - processor.ner -   attention_mask: 1 1 1 1 1 1 1 1 1 1 1 1 1 1 1 1 1 0 0 0 0 0 0 0 0 0 0 0 0 0 0 0 0 0 0 0 0 0 0 0 0 0 0 0 0 0 0 0 0 0 0 0 0 0 0 0 0 0 0 0 0 0 0 0 0 0 0 0 0 0 0 0 0 0 0 0 0 0 0 0 0 0 0 0 0 0 0 0 0 0 0 0 0 0 0 0 0 0 0 0 0 0 0 0 0 0 0 0 0 0 0 0 0 0 0 0 0 0 0 0 0 0 0 0 0 0 0 0\n",
      "02/06/2024 02:44:57 - INFO - processor.ner -   token_type_ids: 0 0 0 0 0 0 0 0 0 0 0 0 0 0 0 0 0 0 0 0 0 0 0 0 0 0 0 0 0 0 0 0 0 0 0 0 0 0 0 0 0 0 0 0 0 0 0 0 0 0 0 0 0 0 0 0 0 0 0 0 0 0 0 0 0 0 0 0 0 0 0 0 0 0 0 0 0 0 0 0 0 0 0 0 0 0 0 0 0 0 0 0 0 0 0 0 0 0 0 0 0 0 0 0 0 0 0 0 0 0 0 0 0 0 0 0 0 0 0 0 0 0 0 0 0 0 0 0\n",
      "02/06/2024 02:44:57 - INFO - processor.ner -   label: -100 0 -100 0 0 -100 -100 7 -100 -100 11 -100 0 0 0 0 -100 -100 -100 -100 -100 -100 -100 -100 -100 -100 -100 -100 -100 -100 -100 -100 -100 -100 -100 -100 -100 -100 -100 -100 -100 -100 -100 -100 -100 -100 -100 -100 -100 -100 -100 -100 -100 -100 -100 -100 -100 -100 -100 -100 -100 -100 -100 -100 -100 -100 -100 -100 -100 -100 -100 -100 -100 -100 -100 -100 -100 -100 -100 -100 -100 -100 -100 -100 -100 -100 -100 -100 -100 -100 -100 -100 -100 -100 -100 -100 -100 -100 -100 -100 -100 -100 -100 -100 -100 -100 -100 -100 -100 -100 -100 -100 -100 -100 -100 -100 -100 -100 -100 -100 -100 -100 -100 -100 -100 -100 -100 -100 \n",
      "02/06/2024 02:44:59 - INFO - processor.ner -   Saving features into cached file ../../../../data/KoELECTRA/cached_naver-ner_koelectra-small-v3-discriminator_128_test\n"
     ]
    }
   ],
   "source": [
    "# Load dataset\n",
    "train_dataset = load_and_cache_examples(args, tokenizer, mode=\"train\") if args.train_file else None\n",
    "dev_dataset = load_and_cache_examples(args, tokenizer, mode=\"dev\") if args.dev_file else None\n",
    "test_dataset = load_and_cache_examples(args, tokenizer, mode=\"test\") if args.test_file else None\n"
   ]
  },
  {
   "cell_type": "code",
   "execution_count": 21,
   "metadata": {},
   "outputs": [
    {
     "name": "stderr",
     "output_type": "stream",
     "text": [
      "/root/anaconda3/envs/CSU/lib/python3.8/site-packages/transformers/optimization.py:429: FutureWarning: This implementation of AdamW is deprecated and will be removed in a future version. Use the PyTorch implementation torch.optim.AdamW instead, or set `no_deprecation_warning=True` to disable this warning\n",
      "  warnings.warn(\n",
      "02/06/2024 02:45:48 - INFO - run_ner -   ***** Running training *****\n",
      "02/06/2024 02:45:48 - INFO - run_ner -     Num examples = 81000\n",
      "02/06/2024 02:45:48 - INFO - run_ner -     Num Epochs = 20\n",
      "02/06/2024 02:45:48 - INFO - run_ner -     Total train batch size = 32\n",
      "02/06/2024 02:45:48 - INFO - run_ner -     Gradient Accumulation steps = 1\n",
      "02/06/2024 02:45:48 - INFO - run_ner -     Total optimization steps = 50640\n",
      "02/06/2024 02:45:48 - INFO - run_ner -     Logging steps = 1000\n",
      "02/06/2024 02:45:48 - INFO - run_ner -     Save steps = 1000\n"
     ]
    },
    {
     "name": "stdout",
     "output_type": "stream",
     "text": [
      "Epoch 1/20 : |███████████████-------------------------| 39.45% [999/2532 00:27<00:42]\r"
     ]
    },
    {
     "name": "stderr",
     "output_type": "stream",
     "text": [
      "02/06/2024 02:46:16 - INFO - run_ner -   ***** Running evaluation on test dataset (1000 step) *****\n",
      "02/06/2024 02:46:16 - INFO - run_ner -     Num examples = 9000\n",
      "02/06/2024 02:46:16 - INFO - run_ner -     Eval Batch size = 128\n"
     ]
    },
    {
     "name": "stdout",
     "output_type": "stream",
     "text": [
      " |████████████████████████████████████████| 100.00% [71/71 00:02<00:00]\r"
     ]
    },
    {
     "name": "stderr",
     "output_type": "stream",
     "text": [
      "02/06/2024 02:46:19 - INFO - run_ner -   ***** Eval results on test dataset *****\n",
      "02/06/2024 02:46:19 - INFO - run_ner -     f1 = 0.714103631697908\n",
      "02/06/2024 02:46:19 - INFO - run_ner -     loss = 0.43820058459966954\n",
      "02/06/2024 02:46:19 - INFO - run_ner -     precision = 0.709917215745903\n",
      "02/06/2024 02:46:19 - INFO - run_ner -     recall = 0.718339715536105\n",
      "/root/anaconda3/envs/CSU/lib/python3.8/site-packages/seqeval/metrics/v1.py:57: UndefinedMetricWarning: Precision and F-score are ill-defined and being set to 0.0 in labels with no predicted samples. Use `zero_division` parameter to control this behavior.\n",
      "  _warn_prf(average, modifier, msg_start, len(result))\n",
      "02/06/2024 02:46:19 - INFO - run_ner -   \n",
      "              precision    recall  f1-score   support\n",
      "\n",
      "         AFW       0.00      0.00      0.00       394\n",
      "         ANM       0.78      0.31      0.44       701\n",
      "         CVL       0.71      0.69      0.70      5758\n",
      "         DAT       0.74      0.85      0.79      2521\n",
      "         EVT       0.50      0.61      0.55      1094\n",
      "         FLD       0.00      0.00      0.00       228\n",
      "         LOC       0.62      0.74      0.67      2126\n",
      "         MAT       0.00      0.00      0.00        12\n",
      "         NUM       0.83      0.89      0.86      5590\n",
      "         ORG       0.67      0.72      0.70      4086\n",
      "         PER       0.74      0.79      0.77      4426\n",
      "         PLT       0.00      0.00      0.00        34\n",
      "         TIM       0.00      0.00      0.00       314\n",
      "         TRM       0.54      0.49      0.51      1964\n",
      "\n",
      "   micro avg       0.71      0.72      0.71     29248\n",
      "   macro avg       0.44      0.44      0.43     29248\n",
      "weighted avg       0.69      0.72      0.70     29248\n",
      "\n",
      "02/06/2024 02:46:20 - INFO - run_ner -   Saving model checkpoint to ckpt/koelectra-small-v3-naver-ner-ckpt/checkpoint-1000\n"
     ]
    },
    {
     "name": "stdout",
     "output_type": "stream",
     "text": [
      "Epoch 1/20 : |███████████████████████████████---------| 78.83% [1996/2532 00:57<00:15]\r"
     ]
    },
    {
     "name": "stderr",
     "output_type": "stream",
     "text": [
      "02/06/2024 02:46:45 - INFO - run_ner -   ***** Running evaluation on test dataset (2000 step) *****\n",
      "02/06/2024 02:46:45 - INFO - run_ner -     Num examples = 9000\n",
      "02/06/2024 02:46:45 - INFO - run_ner -     Eval Batch size = 128\n"
     ]
    },
    {
     "name": "stdout",
     "output_type": "stream",
     "text": [
      " |████████████████████████████████████████| 100.00% [71/71 00:02<00:00]\r"
     ]
    },
    {
     "name": "stderr",
     "output_type": "stream",
     "text": [
      "02/06/2024 02:46:48 - INFO - run_ner -   ***** Eval results on test dataset *****\n",
      "02/06/2024 02:46:48 - INFO - run_ner -     f1 = 0.7626676665587238\n",
      "02/06/2024 02:46:48 - INFO - run_ner -     loss = 0.3313604160933427\n",
      "02/06/2024 02:46:48 - INFO - run_ner -     precision = 0.760373831775701\n",
      "02/06/2024 02:46:48 - INFO - run_ner -     recall = 0.7649753829321663\n",
      "02/06/2024 02:46:49 - INFO - run_ner -   \n",
      "              precision    recall  f1-score   support\n",
      "\n",
      "         AFW       0.40      0.01      0.02       394\n",
      "         ANM       0.71      0.46      0.56       701\n",
      "         CVL       0.75      0.72      0.73      5758\n",
      "         DAT       0.85      0.90      0.87      2521\n",
      "         EVT       0.67      0.68      0.67      1094\n",
      "         FLD       0.00      0.00      0.00       228\n",
      "         LOC       0.73      0.74      0.73      2126\n",
      "         MAT       0.00      0.00      0.00        12\n",
      "         NUM       0.88      0.91      0.89      5590\n",
      "         ORG       0.74      0.78      0.76      4086\n",
      "         PER       0.76      0.82      0.79      4426\n",
      "         PLT       0.00      0.00      0.00        34\n",
      "         TIM       0.78      0.72      0.75       314\n",
      "         TRM       0.52      0.62      0.56      1964\n",
      "\n",
      "   micro avg       0.76      0.76      0.76     29248\n",
      "   macro avg       0.56      0.52      0.52     29248\n",
      "weighted avg       0.75      0.76      0.75     29248\n",
      "\n",
      "02/06/2024 02:46:50 - INFO - run_ner -   Saving model checkpoint to ckpt/koelectra-small-v3-naver-ner-ckpt/checkpoint-2000\n"
     ]
    },
    {
     "name": "stdout",
     "output_type": "stream",
     "text": [
      "Epoch 1 done                                                                           \n",
      "Epoch 2/20 : |███████---------------------------------| 18.29% [463/2532 00:11<00:52]\r"
     ]
    },
    {
     "name": "stderr",
     "output_type": "stream",
     "text": [
      "02/06/2024 02:47:15 - INFO - run_ner -   ***** Running evaluation on test dataset (3000 step) *****\n",
      "02/06/2024 02:47:15 - INFO - run_ner -     Num examples = 9000\n",
      "02/06/2024 02:47:15 - INFO - run_ner -     Eval Batch size = 128\n"
     ]
    },
    {
     "name": "stdout",
     "output_type": "stream",
     "text": [
      " |████████████████████████████████████████| 100.00% [71/71 00:02<00:00]\r"
     ]
    },
    {
     "name": "stderr",
     "output_type": "stream",
     "text": [
      "02/06/2024 02:47:18 - INFO - run_ner -   ***** Eval results on test dataset *****\n",
      "02/06/2024 02:47:18 - INFO - run_ner -     f1 = 0.7862342147137489\n",
      "02/06/2024 02:47:18 - INFO - run_ner -     loss = 0.2945446730919287\n",
      "02/06/2024 02:47:18 - INFO - run_ner -     precision = 0.7786159726413197\n",
      "02/06/2024 02:47:18 - INFO - run_ner -     recall = 0.7940030087527352\n",
      "02/06/2024 02:47:19 - INFO - run_ner -   \n",
      "              precision    recall  f1-score   support\n",
      "\n",
      "         AFW       0.35      0.30      0.32       394\n",
      "         ANM       0.64      0.65      0.65       701\n",
      "         CVL       0.75      0.77      0.76      5758\n",
      "         DAT       0.85      0.91      0.88      2521\n",
      "         EVT       0.67      0.74      0.70      1094\n",
      "         FLD       0.85      0.18      0.29       228\n",
      "         LOC       0.70      0.80      0.75      2126\n",
      "         MAT       0.00      0.00      0.00        12\n",
      "         NUM       0.90      0.91      0.91      5590\n",
      "         ORG       0.78      0.79      0.79      4086\n",
      "         PER       0.82      0.80      0.81      4426\n",
      "         PLT       0.00      0.00      0.00        34\n",
      "         TIM       0.80      0.84      0.82       314\n",
      "         TRM       0.62      0.63      0.63      1964\n",
      "\n",
      "   micro avg       0.78      0.79      0.79     29248\n",
      "   macro avg       0.62      0.59      0.59     29248\n",
      "weighted avg       0.78      0.79      0.78     29248\n",
      "\n",
      "02/06/2024 02:47:20 - INFO - run_ner -   Saving model checkpoint to ckpt/koelectra-small-v3-naver-ner-ckpt/checkpoint-3000\n"
     ]
    },
    {
     "name": "stdout",
     "output_type": "stream",
     "text": [
      "Epoch 2/20 : |███████████████████████-----------------| 57.94% [1467/2532 00:41<00:30]\r"
     ]
    },
    {
     "name": "stderr",
     "output_type": "stream",
     "text": [
      "02/06/2024 02:47:45 - INFO - run_ner -   ***** Running evaluation on test dataset (4000 step) *****\n",
      "02/06/2024 02:47:45 - INFO - run_ner -     Num examples = 9000\n",
      "02/06/2024 02:47:45 - INFO - run_ner -     Eval Batch size = 128\n"
     ]
    },
    {
     "name": "stdout",
     "output_type": "stream",
     "text": [
      " |████████████████████████████████████████| 100.00% [71/71 00:02<00:00]\r"
     ]
    },
    {
     "name": "stderr",
     "output_type": "stream",
     "text": [
      "02/06/2024 02:47:48 - INFO - run_ner -   ***** Eval results on test dataset *****\n",
      "02/06/2024 02:47:48 - INFO - run_ner -     f1 = 0.8031878270448912\n",
      "02/06/2024 02:47:48 - INFO - run_ner -     loss = 0.2651865671218281\n",
      "02/06/2024 02:47:48 - INFO - run_ner -     precision = 0.8087562396006656\n",
      "02/06/2024 02:47:48 - INFO - run_ner -     recall = 0.7976955689277899\n",
      "02/06/2024 02:47:49 - INFO - run_ner -   \n",
      "              precision    recall  f1-score   support\n",
      "\n",
      "         AFW       0.48      0.32      0.38       394\n",
      "         ANM       0.73      0.62      0.67       701\n",
      "         CVL       0.77      0.77      0.77      5758\n",
      "         DAT       0.90      0.90      0.90      2521\n",
      "         EVT       0.73      0.73      0.73      1094\n",
      "         FLD       0.81      0.30      0.44       228\n",
      "         LOC       0.78      0.77      0.78      2126\n",
      "         MAT       0.00      0.00      0.00        12\n",
      "         NUM       0.89      0.92      0.90      5590\n",
      "         ORG       0.79      0.81      0.80      4086\n",
      "         PER       0.83      0.82      0.82      4426\n",
      "         PLT       0.00      0.00      0.00        34\n",
      "         TIM       0.83      0.87      0.85       314\n",
      "         TRM       0.68      0.62      0.65      1964\n",
      "\n",
      "   micro avg       0.81      0.80      0.80     29248\n",
      "   macro avg       0.66      0.60      0.62     29248\n",
      "weighted avg       0.80      0.80      0.80     29248\n",
      "\n",
      "02/06/2024 02:47:50 - INFO - run_ner -   Saving model checkpoint to ckpt/koelectra-small-v3-naver-ner-ckpt/checkpoint-4000\n"
     ]
    },
    {
     "name": "stdout",
     "output_type": "stream",
     "text": [
      "Epoch 2/20 : |██████████████████████████████████████--| 97.31% [2464/2532 01:14<00:02]\r"
     ]
    },
    {
     "name": "stderr",
     "output_type": "stream",
     "text": [
      "02/06/2024 02:48:17 - INFO - run_ner -   ***** Running evaluation on test dataset (5000 step) *****\n",
      "02/06/2024 02:48:17 - INFO - run_ner -     Num examples = 9000\n",
      "02/06/2024 02:48:17 - INFO - run_ner -     Eval Batch size = 128\n"
     ]
    },
    {
     "name": "stdout",
     "output_type": "stream",
     "text": [
      " |████████████████████████████████████████| 100.00% [71/71 00:02<00:00]\r"
     ]
    },
    {
     "name": "stderr",
     "output_type": "stream",
     "text": [
      "02/06/2024 02:48:21 - INFO - run_ner -   ***** Eval results on test dataset *****\n",
      "02/06/2024 02:48:21 - INFO - run_ner -     f1 = 0.8128922527425801\n",
      "02/06/2024 02:48:21 - INFO - run_ner -     loss = 0.2508525772833488\n",
      "02/06/2024 02:48:21 - INFO - run_ner -     precision = 0.8087792330862693\n",
      "02/06/2024 02:48:21 - INFO - run_ner -     recall = 0.8170473194748359\n",
      "02/06/2024 02:48:21 - INFO - run_ner -   \n",
      "              precision    recall  f1-score   support\n",
      "\n",
      "         AFW       0.49      0.40      0.44       394\n",
      "         ANM       0.73      0.68      0.70       701\n",
      "         CVL       0.76      0.80      0.78      5758\n",
      "         DAT       0.90      0.91      0.90      2521\n",
      "         EVT       0.73      0.76      0.74      1094\n",
      "         FLD       0.59      0.51      0.55       228\n",
      "         LOC       0.82      0.76      0.79      2126\n",
      "         MAT       0.00      0.00      0.00        12\n",
      "         NUM       0.91      0.92      0.91      5590\n",
      "         ORG       0.81      0.82      0.82      4086\n",
      "         PER       0.83      0.83      0.83      4426\n",
      "         PLT       0.00      0.00      0.00        34\n",
      "         TIM       0.82      0.90      0.86       314\n",
      "         TRM       0.67      0.67      0.67      1964\n",
      "\n",
      "   micro avg       0.81      0.82      0.81     29248\n",
      "   macro avg       0.65      0.64      0.64     29248\n",
      "weighted avg       0.81      0.82      0.81     29248\n",
      "\n",
      "02/06/2024 02:48:22 - INFO - run_ner -   Saving model checkpoint to ckpt/koelectra-small-v3-naver-ner-ckpt/checkpoint-5000\n"
     ]
    },
    {
     "name": "stdout",
     "output_type": "stream",
     "text": [
      "Epoch 2 done                                                                           \n",
      "Epoch 3/20 : |██████████████--------------------------| 36.89% [934/2532 00:22<00:38]\r"
     ]
    },
    {
     "name": "stderr",
     "output_type": "stream",
     "text": [
      "02/06/2024 02:48:47 - INFO - run_ner -   ***** Running evaluation on test dataset (6000 step) *****\n",
      "02/06/2024 02:48:47 - INFO - run_ner -     Num examples = 9000\n",
      "02/06/2024 02:48:47 - INFO - run_ner -     Eval Batch size = 128\n"
     ]
    },
    {
     "name": "stdout",
     "output_type": "stream",
     "text": [
      " |████████████████████████████████████████| 100.00% [71/71 00:02<00:00]\r"
     ]
    },
    {
     "name": "stderr",
     "output_type": "stream",
     "text": [
      "02/06/2024 02:48:50 - INFO - run_ner -   ***** Eval results on test dataset *****\n",
      "02/06/2024 02:48:50 - INFO - run_ner -     f1 = 0.8127008830395507\n",
      "02/06/2024 02:48:50 - INFO - run_ner -     loss = 0.2480069982333922\n",
      "02/06/2024 02:48:50 - INFO - run_ner -     precision = 0.8042925065291636\n",
      "02/06/2024 02:48:50 - INFO - run_ner -     recall = 0.8212869256017505\n",
      "02/06/2024 02:48:50 - INFO - run_ner -   \n",
      "              precision    recall  f1-score   support\n",
      "\n",
      "         AFW       0.38      0.51      0.44       394\n",
      "         ANM       0.66      0.75      0.70       701\n",
      "         CVL       0.79      0.79      0.79      5758\n",
      "         DAT       0.89      0.91      0.90      2521\n",
      "         EVT       0.66      0.77      0.71      1094\n",
      "         FLD       0.57      0.58      0.57       228\n",
      "         LOC       0.79      0.79      0.79      2126\n",
      "         MAT       0.00      0.00      0.00        12\n",
      "         NUM       0.90      0.92      0.91      5590\n",
      "         ORG       0.82      0.81      0.81      4086\n",
      "         PER       0.83      0.84      0.84      4426\n",
      "         PLT       0.00      0.00      0.00        34\n",
      "         TIM       0.82      0.91      0.86       314\n",
      "         TRM       0.65      0.68      0.66      1964\n",
      "\n",
      "   micro avg       0.80      0.82      0.81     29248\n",
      "   macro avg       0.63      0.66      0.64     29248\n",
      "weighted avg       0.81      0.82      0.81     29248\n",
      "\n",
      "02/06/2024 02:48:51 - INFO - run_ner -   Saving model checkpoint to ckpt/koelectra-small-v3-naver-ner-ckpt/checkpoint-6000\n"
     ]
    },
    {
     "name": "stdout",
     "output_type": "stream",
     "text": [
      "Epoch 3/20 : |██████████████████████████████----------| 76.22% [1930/2532 00:51<00:16]\r"
     ]
    },
    {
     "name": "stderr",
     "output_type": "stream",
     "text": [
      "02/06/2024 02:49:16 - INFO - run_ner -   ***** Running evaluation on test dataset (7000 step) *****\n",
      "02/06/2024 02:49:16 - INFO - run_ner -     Num examples = 9000\n",
      "02/06/2024 02:49:16 - INFO - run_ner -     Eval Batch size = 128\n"
     ]
    },
    {
     "name": "stdout",
     "output_type": "stream",
     "text": [
      " |████████████████████████████████████████| 100.00% [71/71 00:02<00:00]\r"
     ]
    },
    {
     "name": "stderr",
     "output_type": "stream",
     "text": [
      "02/06/2024 02:49:19 - INFO - run_ner -   ***** Eval results on test dataset *****\n",
      "02/06/2024 02:49:19 - INFO - run_ner -     f1 = 0.8204787460601414\n",
      "02/06/2024 02:49:19 - INFO - run_ner -     loss = 0.23534270743249167\n",
      "02/06/2024 02:49:19 - INFO - run_ner -     precision = 0.8177063877474785\n",
      "02/06/2024 02:49:19 - INFO - run_ner -     recall = 0.8232699671772429\n",
      "02/06/2024 02:49:19 - INFO - run_ner -   \n",
      "              precision    recall  f1-score   support\n",
      "\n",
      "         AFW       0.51      0.49      0.50       394\n",
      "         ANM       0.63      0.76      0.69       701\n",
      "         CVL       0.82      0.77      0.79      5758\n",
      "         DAT       0.91      0.91      0.91      2521\n",
      "         EVT       0.76      0.75      0.75      1094\n",
      "         FLD       0.58      0.59      0.58       228\n",
      "         LOC       0.78      0.82      0.80      2126\n",
      "         MAT       0.00      0.00      0.00        12\n",
      "         NUM       0.89      0.93      0.91      5590\n",
      "         ORG       0.84      0.83      0.83      4086\n",
      "         PER       0.82      0.85      0.83      4426\n",
      "         PLT       0.00      0.00      0.00        34\n",
      "         TIM       0.83      0.92      0.87       314\n",
      "         TRM       0.67      0.68      0.68      1964\n",
      "\n",
      "   micro avg       0.82      0.82      0.82     29248\n",
      "   macro avg       0.65      0.66      0.65     29248\n",
      "weighted avg       0.82      0.82      0.82     29248\n",
      "\n",
      "02/06/2024 02:49:20 - INFO - run_ner -   Saving model checkpoint to ckpt/koelectra-small-v3-naver-ner-ckpt/checkpoint-7000\n"
     ]
    },
    {
     "name": "stdout",
     "output_type": "stream",
     "text": [
      "Epoch 3 done                                                                           \n",
      "Epoch 4/20 : |██████----------------------------------| 15.92% [403/2532 00:09<00:52]\r"
     ]
    },
    {
     "name": "stderr",
     "output_type": "stream",
     "text": [
      "02/06/2024 02:49:45 - INFO - run_ner -   ***** Running evaluation on test dataset (8000 step) *****\n",
      "02/06/2024 02:49:45 - INFO - run_ner -     Num examples = 9000\n",
      "02/06/2024 02:49:45 - INFO - run_ner -     Eval Batch size = 128\n"
     ]
    },
    {
     "name": "stdout",
     "output_type": "stream",
     "text": [
      " |████████████████████████████████████████| 100.00% [71/71 00:02<00:00]\r"
     ]
    },
    {
     "name": "stderr",
     "output_type": "stream",
     "text": [
      "02/06/2024 02:49:48 - INFO - run_ner -   ***** Eval results on test dataset *****\n",
      "02/06/2024 02:49:48 - INFO - run_ner -     f1 = 0.8282962357906201\n",
      "02/06/2024 02:49:48 - INFO - run_ner -     loss = 0.23038874104828902\n",
      "02/06/2024 02:49:48 - INFO - run_ner -     precision = 0.8245358449654425\n",
      "02/06/2024 02:49:48 - INFO - run_ner -     recall = 0.8320910831509847\n",
      "02/06/2024 02:49:49 - INFO - run_ner -   \n",
      "              precision    recall  f1-score   support\n",
      "\n",
      "         AFW       0.51      0.51      0.51       394\n",
      "         ANM       0.69      0.74      0.72       701\n",
      "         CVL       0.80      0.81      0.80      5758\n",
      "         DAT       0.90      0.92      0.91      2521\n",
      "         EVT       0.73      0.75      0.74      1094\n",
      "         FLD       0.56      0.61      0.58       228\n",
      "         LOC       0.81      0.82      0.81      2126\n",
      "         MAT       0.00      0.00      0.00        12\n",
      "         NUM       0.91      0.92      0.92      5590\n",
      "         ORG       0.85      0.82      0.84      4086\n",
      "         PER       0.83      0.86      0.85      4426\n",
      "         PLT       0.00      0.00      0.00        34\n",
      "         TIM       0.81      0.94      0.87       314\n",
      "         TRM       0.71      0.67      0.69      1964\n",
      "\n",
      "   micro avg       0.82      0.83      0.83     29248\n",
      "   macro avg       0.65      0.67      0.66     29248\n",
      "weighted avg       0.82      0.83      0.83     29248\n",
      "\n",
      "02/06/2024 02:49:50 - INFO - run_ner -   Saving model checkpoint to ckpt/koelectra-small-v3-naver-ner-ckpt/checkpoint-8000\n"
     ]
    },
    {
     "name": "stdout",
     "output_type": "stream",
     "text": [
      "Epoch 4/20 : |██████████████████████------------------| 55.37% [1402/2532 00:38<00:31]\r"
     ]
    },
    {
     "name": "stderr",
     "output_type": "stream",
     "text": [
      "02/06/2024 02:50:14 - INFO - run_ner -   ***** Running evaluation on test dataset (9000 step) *****\n",
      "02/06/2024 02:50:14 - INFO - run_ner -     Num examples = 9000\n",
      "02/06/2024 02:50:14 - INFO - run_ner -     Eval Batch size = 128\n"
     ]
    },
    {
     "name": "stdout",
     "output_type": "stream",
     "text": [
      " |████████████████████████████████████████| 100.00% [71/71 00:02<00:00]\r"
     ]
    },
    {
     "name": "stderr",
     "output_type": "stream",
     "text": [
      "02/06/2024 02:50:17 - INFO - run_ner -   ***** Eval results on test dataset *****\n",
      "02/06/2024 02:50:17 - INFO - run_ner -     f1 = 0.8302228602679792\n",
      "02/06/2024 02:50:17 - INFO - run_ner -     loss = 0.2251335388757813\n",
      "02/06/2024 02:50:17 - INFO - run_ner -     precision = 0.8299958993985784\n",
      "02/06/2024 02:50:17 - INFO - run_ner -     recall = 0.8304499452954048\n",
      "02/06/2024 02:50:18 - INFO - run_ner -   \n",
      "              precision    recall  f1-score   support\n",
      "\n",
      "         AFW       0.53      0.49      0.51       394\n",
      "         ANM       0.77      0.69      0.73       701\n",
      "         CVL       0.79      0.81      0.80      5758\n",
      "         DAT       0.89      0.93      0.91      2521\n",
      "         EVT       0.73      0.77      0.75      1094\n",
      "         FLD       0.66      0.54      0.60       228\n",
      "         LOC       0.80      0.84      0.82      2126\n",
      "         MAT       0.00      0.00      0.00        12\n",
      "         NUM       0.91      0.92      0.91      5590\n",
      "         ORG       0.84      0.84      0.84      4086\n",
      "         PER       0.86      0.85      0.85      4426\n",
      "         PLT       0.00      0.00      0.00        34\n",
      "         TIM       0.83      0.93      0.88       314\n",
      "         TRM       0.74      0.65      0.69      1964\n",
      "\n",
      "   micro avg       0.83      0.83      0.83     29248\n",
      "   macro avg       0.67      0.66      0.66     29248\n",
      "weighted avg       0.83      0.83      0.83     29248\n",
      "\n",
      "02/06/2024 02:50:19 - INFO - run_ner -   Saving model checkpoint to ckpt/koelectra-small-v3-naver-ner-ckpt/checkpoint-9000\n"
     ]
    },
    {
     "name": "stdout",
     "output_type": "stream",
     "text": [
      "Epoch 4/20 : |█████████████████████████████████████---| 94.87% [2402/2532 01:07<00:03]\r"
     ]
    },
    {
     "name": "stderr",
     "output_type": "stream",
     "text": [
      "02/06/2024 02:50:43 - INFO - run_ner -   ***** Running evaluation on test dataset (10000 step) *****\n",
      "02/06/2024 02:50:43 - INFO - run_ner -     Num examples = 9000\n",
      "02/06/2024 02:50:43 - INFO - run_ner -     Eval Batch size = 128\n"
     ]
    },
    {
     "name": "stdout",
     "output_type": "stream",
     "text": [
      " |████████████████████████████████████████| 100.00% [71/71 00:02<00:00]\r"
     ]
    },
    {
     "name": "stderr",
     "output_type": "stream",
     "text": [
      "02/06/2024 02:50:46 - INFO - run_ner -   ***** Eval results on test dataset *****\n",
      "02/06/2024 02:50:46 - INFO - run_ner -     f1 = 0.8323132587157205\n",
      "02/06/2024 02:50:46 - INFO - run_ner -     loss = 0.22266232274787526\n",
      "02/06/2024 02:50:46 - INFO - run_ner -     precision = 0.8232657702856379\n",
      "02/06/2024 02:50:46 - INFO - run_ner -     recall = 0.8415618161925602\n",
      "02/06/2024 02:50:47 - INFO - run_ner -   \n",
      "              precision    recall  f1-score   support\n",
      "\n",
      "         AFW       0.57      0.52      0.54       394\n",
      "         ANM       0.74      0.72      0.73       701\n",
      "         CVL       0.77      0.83      0.80      5758\n",
      "         DAT       0.91      0.93      0.92      2521\n",
      "         EVT       0.76      0.76      0.76      1094\n",
      "         FLD       0.60      0.62      0.61       228\n",
      "         LOC       0.85      0.80      0.82      2126\n",
      "         MAT       0.00      0.00      0.00        12\n",
      "         NUM       0.91      0.92      0.92      5590\n",
      "         ORG       0.85      0.84      0.84      4086\n",
      "         PER       0.84      0.87      0.85      4426\n",
      "         PLT       0.00      0.00      0.00        34\n",
      "         TIM       0.82      0.94      0.87       314\n",
      "         TRM       0.67      0.71      0.69      1964\n",
      "\n",
      "   micro avg       0.82      0.84      0.83     29248\n",
      "   macro avg       0.66      0.67      0.67     29248\n",
      "weighted avg       0.82      0.84      0.83     29248\n",
      "\n",
      "02/06/2024 02:50:48 - INFO - run_ner -   Saving model checkpoint to ckpt/koelectra-small-v3-naver-ner-ckpt/checkpoint-10000\n"
     ]
    },
    {
     "name": "stdout",
     "output_type": "stream",
     "text": [
      "Epoch 4 done                                                                           \n",
      "Epoch 5/20 : |█████████████---------------------------| 34.24% [867/2532 00:21<00:40]\r"
     ]
    },
    {
     "name": "stderr",
     "output_type": "stream",
     "text": [
      "02/06/2024 02:51:12 - INFO - run_ner -   ***** Running evaluation on test dataset (11000 step) *****\n",
      "02/06/2024 02:51:12 - INFO - run_ner -     Num examples = 9000\n",
      "02/06/2024 02:51:12 - INFO - run_ner -     Eval Batch size = 128\n"
     ]
    },
    {
     "name": "stdout",
     "output_type": "stream",
     "text": [
      " |████████████████████████████████████████| 100.00% [71/71 00:02<00:00]\r"
     ]
    },
    {
     "name": "stderr",
     "output_type": "stream",
     "text": [
      "02/06/2024 02:51:15 - INFO - run_ner -   ***** Eval results on test dataset *****\n",
      "02/06/2024 02:51:15 - INFO - run_ner -     f1 = 0.8367087103400275\n",
      "02/06/2024 02:51:15 - INFO - run_ner -     loss = 0.22068260736028913\n",
      "02/06/2024 02:51:15 - INFO - run_ner -     precision = 0.830911359115277\n",
      "02/06/2024 02:51:15 - INFO - run_ner -     recall = 0.8425875273522976\n",
      "02/06/2024 02:51:16 - INFO - run_ner -   \n",
      "              precision    recall  f1-score   support\n",
      "\n",
      "         AFW       0.54      0.53      0.54       394\n",
      "         ANM       0.72      0.74      0.73       701\n",
      "         CVL       0.80      0.82      0.81      5758\n",
      "         DAT       0.90      0.93      0.92      2521\n",
      "         EVT       0.74      0.76      0.75      1094\n",
      "         FLD       0.69      0.56      0.62       228\n",
      "         LOC       0.85      0.81      0.83      2126\n",
      "         MAT       0.00      0.00      0.00        12\n",
      "         NUM       0.92      0.93      0.92      5590\n",
      "         ORG       0.85      0.84      0.84      4086\n",
      "         PER       0.83      0.88      0.85      4426\n",
      "         PLT       0.00      0.00      0.00        34\n",
      "         TIM       0.83      0.92      0.87       314\n",
      "         TRM       0.70      0.70      0.70      1964\n",
      "\n",
      "   micro avg       0.83      0.84      0.84     29248\n",
      "   macro avg       0.67      0.67      0.67     29248\n",
      "weighted avg       0.83      0.84      0.84     29248\n",
      "\n",
      "02/06/2024 02:51:17 - INFO - run_ner -   Saving model checkpoint to ckpt/koelectra-small-v3-naver-ner-ckpt/checkpoint-11000\n"
     ]
    },
    {
     "name": "stdout",
     "output_type": "stream",
     "text": [
      "Epoch 5/20 : |█████████████████████████████-----------| 73.78% [1868/2532 00:50<00:17]\r"
     ]
    },
    {
     "name": "stderr",
     "output_type": "stream",
     "text": [
      "02/06/2024 02:51:42 - INFO - run_ner -   ***** Running evaluation on test dataset (12000 step) *****\n",
      "02/06/2024 02:51:42 - INFO - run_ner -     Num examples = 9000\n",
      "02/06/2024 02:51:42 - INFO - run_ner -     Eval Batch size = 128\n"
     ]
    },
    {
     "name": "stdout",
     "output_type": "stream",
     "text": [
      " |████████████████████████████████████████| 100.00% [71/71 00:02<00:00]\r"
     ]
    },
    {
     "name": "stderr",
     "output_type": "stream",
     "text": [
      "02/06/2024 02:51:45 - INFO - run_ner -   ***** Eval results on test dataset *****\n",
      "02/06/2024 02:51:45 - INFO - run_ner -     f1 = 0.8379452008284385\n",
      "02/06/2024 02:51:45 - INFO - run_ner -     loss = 0.2161395060764232\n",
      "02/06/2024 02:51:45 - INFO - run_ner -     precision = 0.8321532132982669\n",
      "02/06/2024 02:51:45 - INFO - run_ner -     recall = 0.8438183807439825\n",
      "02/06/2024 02:51:46 - INFO - run_ner -   \n",
      "              precision    recall  f1-score   support\n",
      "\n",
      "         AFW       0.60      0.55      0.57       394\n",
      "         ANM       0.77      0.72      0.74       701\n",
      "         CVL       0.78      0.83      0.81      5758\n",
      "         DAT       0.90      0.92      0.91      2521\n",
      "         EVT       0.72      0.77      0.75      1094\n",
      "         FLD       0.64      0.58      0.61       228\n",
      "         LOC       0.85      0.81      0.83      2126\n",
      "         MAT       0.00      0.00      0.00        12\n",
      "         NUM       0.92      0.92      0.92      5590\n",
      "         ORG       0.85      0.84      0.84      4086\n",
      "         PER       0.85      0.87      0.86      4426\n",
      "         PLT       0.00      0.00      0.00        34\n",
      "         TIM       0.83      0.92      0.87       314\n",
      "         TRM       0.71      0.70      0.71      1964\n",
      "\n",
      "   micro avg       0.83      0.84      0.84     29248\n",
      "   macro avg       0.67      0.67      0.67     29248\n",
      "weighted avg       0.83      0.84      0.84     29248\n",
      "\n",
      "02/06/2024 02:51:47 - INFO - run_ner -   Saving model checkpoint to ckpt/koelectra-small-v3-naver-ner-ckpt/checkpoint-12000\n"
     ]
    },
    {
     "name": "stdout",
     "output_type": "stream",
     "text": [
      "Epoch 5 done                                                                           \n",
      "Epoch 6/20 : |█████-----------------------------------| 13.39% [339/2532 00:08<00:54]\r"
     ]
    },
    {
     "name": "stderr",
     "output_type": "stream",
     "text": [
      "02/06/2024 02:52:11 - INFO - run_ner -   ***** Running evaluation on test dataset (13000 step) *****\n",
      "02/06/2024 02:52:11 - INFO - run_ner -     Num examples = 9000\n",
      "02/06/2024 02:52:11 - INFO - run_ner -     Eval Batch size = 128\n"
     ]
    },
    {
     "name": "stdout",
     "output_type": "stream",
     "text": [
      " |████████████████████████████████████████| 100.00% [71/71 00:02<00:00]\r"
     ]
    },
    {
     "name": "stderr",
     "output_type": "stream",
     "text": [
      "02/06/2024 02:52:14 - INFO - run_ner -   ***** Eval results on test dataset *****\n",
      "02/06/2024 02:52:14 - INFO - run_ner -     f1 = 0.839269313195224\n",
      "02/06/2024 02:52:14 - INFO - run_ner -     loss = 0.2182343262182155\n",
      "02/06/2024 02:52:14 - INFO - run_ner -     precision = 0.8350368916266161\n",
      "02/06/2024 02:52:14 - INFO - run_ner -     recall = 0.8435448577680525\n",
      "02/06/2024 02:52:15 - INFO - run_ner -   \n",
      "              precision    recall  f1-score   support\n",
      "\n",
      "         AFW       0.55      0.53      0.54       394\n",
      "         ANM       0.75      0.74      0.74       701\n",
      "         CVL       0.82      0.81      0.81      5758\n",
      "         DAT       0.90      0.93      0.91      2521\n",
      "         EVT       0.73      0.78      0.75      1094\n",
      "         FLD       0.62      0.66      0.64       228\n",
      "         LOC       0.80      0.85      0.82      2126\n",
      "         MAT       0.00      0.00      0.00        12\n",
      "         NUM       0.92      0.93      0.92      5590\n",
      "         ORG       0.86      0.84      0.85      4086\n",
      "         PER       0.86      0.86      0.86      4426\n",
      "         PLT       0.00      0.00      0.00        34\n",
      "         TIM       0.81      0.93      0.86       314\n",
      "         TRM       0.69      0.71      0.70      1964\n",
      "\n",
      "   micro avg       0.84      0.84      0.84     29248\n",
      "   macro avg       0.66      0.68      0.67     29248\n",
      "weighted avg       0.83      0.84      0.84     29248\n",
      "\n",
      "02/06/2024 02:52:16 - INFO - run_ner -   Saving model checkpoint to ckpt/koelectra-small-v3-naver-ner-ckpt/checkpoint-13000\n"
     ]
    },
    {
     "name": "stdout",
     "output_type": "stream",
     "text": [
      "Epoch 6/20 : |█████████████████████-------------------| 52.73% [1335/2532 00:37<00:33]\r"
     ]
    },
    {
     "name": "stderr",
     "output_type": "stream",
     "text": [
      "02/06/2024 02:52:40 - INFO - run_ner -   ***** Running evaluation on test dataset (14000 step) *****\n",
      "02/06/2024 02:52:40 - INFO - run_ner -     Num examples = 9000\n",
      "02/06/2024 02:52:40 - INFO - run_ner -     Eval Batch size = 128\n"
     ]
    },
    {
     "name": "stdout",
     "output_type": "stream",
     "text": [
      " |████████████████████████████████████████| 100.00% [71/71 00:02<00:00]\r"
     ]
    },
    {
     "name": "stderr",
     "output_type": "stream",
     "text": [
      "02/06/2024 02:52:43 - INFO - run_ner -   ***** Eval results on test dataset *****\n",
      "02/06/2024 02:52:43 - INFO - run_ner -     f1 = 0.8432201232241967\n",
      "02/06/2024 02:52:43 - INFO - run_ner -     loss = 0.21553516450902105\n",
      "02/06/2024 02:52:43 - INFO - run_ner -     precision = 0.8372375206444437\n",
      "02/06/2024 02:52:43 - INFO - run_ner -     recall = 0.8492888402625821\n",
      "02/06/2024 02:52:44 - INFO - run_ner -   \n",
      "              precision    recall  f1-score   support\n",
      "\n",
      "         AFW       0.57      0.54      0.55       394\n",
      "         ANM       0.73      0.77      0.75       701\n",
      "         CVL       0.81      0.83      0.82      5758\n",
      "         DAT       0.90      0.92      0.91      2521\n",
      "         EVT       0.74      0.78      0.76      1094\n",
      "         FLD       0.65      0.61      0.63       228\n",
      "         LOC       0.83      0.84      0.83      2126\n",
      "         MAT       0.00      0.00      0.00        12\n",
      "         NUM       0.91      0.93      0.92      5590\n",
      "         ORG       0.87      0.84      0.85      4086\n",
      "         PER       0.83      0.89      0.86      4426\n",
      "         PLT       0.00      0.00      0.00        34\n",
      "         TIM       0.84      0.93      0.89       314\n",
      "         TRM       0.74      0.70      0.72      1964\n",
      "\n",
      "   micro avg       0.84      0.85      0.84     29248\n",
      "   macro avg       0.67      0.68      0.68     29248\n",
      "weighted avg       0.84      0.85      0.84     29248\n",
      "\n",
      "02/06/2024 02:52:45 - INFO - run_ner -   Saving model checkpoint to ckpt/koelectra-small-v3-naver-ner-ckpt/checkpoint-14000\n"
     ]
    },
    {
     "name": "stdout",
     "output_type": "stream",
     "text": [
      "Epoch 6/20 : |████████████████████████████████████----| 92.18% [2334/2532 01:06<00:05]\r"
     ]
    },
    {
     "name": "stderr",
     "output_type": "stream",
     "text": [
      "02/06/2024 02:53:09 - INFO - run_ner -   ***** Running evaluation on test dataset (15000 step) *****\n",
      "02/06/2024 02:53:09 - INFO - run_ner -     Num examples = 9000\n",
      "02/06/2024 02:53:09 - INFO - run_ner -     Eval Batch size = 128\n"
     ]
    },
    {
     "name": "stdout",
     "output_type": "stream",
     "text": [
      " |████████████████████████████████████████| 100.00% [71/71 00:02<00:00]\r"
     ]
    },
    {
     "name": "stderr",
     "output_type": "stream",
     "text": [
      "02/06/2024 02:53:12 - INFO - run_ner -   ***** Eval results on test dataset *****\n",
      "02/06/2024 02:53:12 - INFO - run_ner -     f1 = 0.8426273912307432\n",
      "02/06/2024 02:53:12 - INFO - run_ner -     loss = 0.21483306943530767\n",
      "02/06/2024 02:53:12 - INFO - run_ner -     precision = 0.8345181409697539\n",
      "02/06/2024 02:53:12 - INFO - run_ner -     recall = 0.8508957877461707\n",
      "02/06/2024 02:53:13 - INFO - run_ner -   \n",
      "              precision    recall  f1-score   support\n",
      "\n",
      "         AFW       0.58      0.57      0.57       394\n",
      "         ANM       0.73      0.76      0.75       701\n",
      "         CVL       0.79      0.84      0.81      5758\n",
      "         DAT       0.91      0.93      0.92      2521\n",
      "         EVT       0.74      0.77      0.75      1094\n",
      "         FLD       0.63      0.61      0.62       228\n",
      "         LOC       0.85      0.82      0.84      2126\n",
      "         MAT       0.00      0.00      0.00        12\n",
      "         NUM       0.92      0.93      0.92      5590\n",
      "         ORG       0.84      0.85      0.85      4086\n",
      "         PER       0.86      0.87      0.87      4426\n",
      "         PLT       0.43      0.09      0.15        34\n",
      "         TIM       0.83      0.93      0.88       314\n",
      "         TRM       0.72      0.71      0.72      1964\n",
      "\n",
      "   micro avg       0.83      0.85      0.84     29248\n",
      "   macro avg       0.70      0.69      0.69     29248\n",
      "weighted avg       0.83      0.85      0.84     29248\n",
      "\n",
      "02/06/2024 02:53:14 - INFO - run_ner -   Saving model checkpoint to ckpt/koelectra-small-v3-naver-ner-ckpt/checkpoint-15000\n"
     ]
    },
    {
     "name": "stdout",
     "output_type": "stream",
     "text": [
      "Epoch 6 done                                                                           \n",
      "Epoch 7/20 : |████████████----------------------------| 31.71% [803/2532 00:19<00:42]\r"
     ]
    },
    {
     "name": "stderr",
     "output_type": "stream",
     "text": [
      "02/06/2024 02:53:38 - INFO - run_ner -   ***** Running evaluation on test dataset (16000 step) *****\n",
      "02/06/2024 02:53:38 - INFO - run_ner -     Num examples = 9000\n",
      "02/06/2024 02:53:38 - INFO - run_ner -     Eval Batch size = 128\n"
     ]
    },
    {
     "name": "stdout",
     "output_type": "stream",
     "text": [
      " |████████████████████████████████████████| 100.00% [71/71 00:02<00:00]\r"
     ]
    },
    {
     "name": "stderr",
     "output_type": "stream",
     "text": [
      "02/06/2024 02:53:41 - INFO - run_ner -   ***** Eval results on test dataset *****\n",
      "02/06/2024 02:53:41 - INFO - run_ner -     f1 = 0.8442342250703557\n",
      "02/06/2024 02:53:41 - INFO - run_ner -     loss = 0.21693137896732545\n",
      "02/06/2024 02:53:41 - INFO - run_ner -     precision = 0.8372789024144193\n",
      "02/06/2024 02:53:41 - INFO - run_ner -     recall = 0.8513060722100656\n",
      "02/06/2024 02:53:42 - INFO - run_ner -   \n",
      "              precision    recall  f1-score   support\n",
      "\n",
      "         AFW       0.60      0.58      0.59       394\n",
      "         ANM       0.68      0.79      0.73       701\n",
      "         CVL       0.82      0.82      0.82      5758\n",
      "         DAT       0.90      0.93      0.92      2521\n",
      "         EVT       0.75      0.78      0.76      1094\n",
      "         FLD       0.66      0.62      0.64       228\n",
      "         LOC       0.82      0.85      0.83      2126\n",
      "         MAT       0.00      0.00      0.00        12\n",
      "         NUM       0.91      0.93      0.92      5590\n",
      "         ORG       0.88      0.83      0.85      4086\n",
      "         PER       0.85      0.88      0.87      4426\n",
      "         PLT       0.60      0.09      0.15        34\n",
      "         TIM       0.83      0.93      0.88       314\n",
      "         TRM       0.69      0.73      0.71      1964\n",
      "\n",
      "   micro avg       0.84      0.85      0.84     29248\n",
      "   macro avg       0.71      0.70      0.69     29248\n",
      "weighted avg       0.84      0.85      0.84     29248\n",
      "\n",
      "02/06/2024 02:53:43 - INFO - run_ner -   Saving model checkpoint to ckpt/koelectra-small-v3-naver-ner-ckpt/checkpoint-16000\n"
     ]
    },
    {
     "name": "stdout",
     "output_type": "stream",
     "text": [
      "Epoch 7/20 : |████████████████████████████------------| 71.25% [1804/2532 00:49<00:19]\r"
     ]
    },
    {
     "name": "stderr",
     "output_type": "stream",
     "text": [
      "02/06/2024 02:54:07 - INFO - run_ner -   ***** Running evaluation on test dataset (17000 step) *****\n",
      "02/06/2024 02:54:07 - INFO - run_ner -     Num examples = 9000\n",
      "02/06/2024 02:54:07 - INFO - run_ner -     Eval Batch size = 128\n"
     ]
    },
    {
     "name": "stdout",
     "output_type": "stream",
     "text": [
      " |████████████████████████████████████████| 100.00% [71/71 00:02<00:00]\r"
     ]
    },
    {
     "name": "stderr",
     "output_type": "stream",
     "text": [
      "02/06/2024 02:54:10 - INFO - run_ner -   ***** Eval results on test dataset *****\n",
      "02/06/2024 02:54:10 - INFO - run_ner -     f1 = 0.845857983062833\n",
      "02/06/2024 02:54:10 - INFO - run_ner -     loss = 0.21323744637865416\n",
      "02/06/2024 02:54:10 - INFO - run_ner -     precision = 0.8534683791027113\n",
      "02/06/2024 02:54:10 - INFO - run_ner -     recall = 0.8383821115973742\n",
      "02/06/2024 02:54:11 - INFO - run_ner -   \n",
      "              precision    recall  f1-score   support\n",
      "\n",
      "         AFW       0.62      0.53      0.57       394\n",
      "         ANM       0.75      0.75      0.75       701\n",
      "         CVL       0.84      0.80      0.82      5758\n",
      "         DAT       0.91      0.92      0.92      2521\n",
      "         EVT       0.76      0.76      0.76      1094\n",
      "         FLD       0.72      0.57      0.64       228\n",
      "         LOC       0.83      0.84      0.83      2126\n",
      "         MAT       0.00      0.00      0.00        12\n",
      "         NUM       0.91      0.93      0.92      5590\n",
      "         ORG       0.86      0.85      0.86      4086\n",
      "         PER       0.87      0.86      0.87      4426\n",
      "         PLT       0.50      0.09      0.15        34\n",
      "         TIM       0.82      0.92      0.87       314\n",
      "         TRM       0.75      0.69      0.72      1964\n",
      "\n",
      "   micro avg       0.85      0.84      0.85     29248\n",
      "   macro avg       0.73      0.68      0.69     29248\n",
      "weighted avg       0.85      0.84      0.84     29248\n",
      "\n",
      "02/06/2024 02:54:12 - INFO - run_ner -   Saving model checkpoint to ckpt/koelectra-small-v3-naver-ner-ckpt/checkpoint-17000\n"
     ]
    },
    {
     "name": "stdout",
     "output_type": "stream",
     "text": [
      "Epoch 7 done                                                                           \n",
      "Epoch 8/20 : |████------------------------------------| 10.82% [274/2532 00:06<00:55]\r"
     ]
    },
    {
     "name": "stderr",
     "output_type": "stream",
     "text": [
      "02/06/2024 02:54:36 - INFO - run_ner -   ***** Running evaluation on test dataset (18000 step) *****\n",
      "02/06/2024 02:54:36 - INFO - run_ner -     Num examples = 9000\n",
      "02/06/2024 02:54:36 - INFO - run_ner -     Eval Batch size = 128\n"
     ]
    },
    {
     "name": "stdout",
     "output_type": "stream",
     "text": [
      " |████████████████████████████████████████| 100.00% [71/71 00:02<00:00]\r"
     ]
    },
    {
     "name": "stderr",
     "output_type": "stream",
     "text": [
      "02/06/2024 02:54:39 - INFO - run_ner -   ***** Eval results on test dataset *****\n",
      "02/06/2024 02:54:39 - INFO - run_ner -     f1 = 0.8479229503701672\n",
      "02/06/2024 02:54:39 - INFO - run_ner -     loss = 0.21461330228288408\n",
      "02/06/2024 02:54:39 - INFO - run_ner -     precision = 0.8500206157229246\n",
      "02/06/2024 02:54:39 - INFO - run_ner -     recall = 0.8458356126914661\n",
      "02/06/2024 02:54:40 - INFO - run_ner -   \n",
      "              precision    recall  f1-score   support\n",
      "\n",
      "         AFW       0.58      0.56      0.57       394\n",
      "         ANM       0.76      0.77      0.76       701\n",
      "         CVL       0.84      0.81      0.82      5758\n",
      "         DAT       0.92      0.93      0.92      2521\n",
      "         EVT       0.75      0.77      0.76      1094\n",
      "         FLD       0.69      0.58      0.63       228\n",
      "         LOC       0.84      0.84      0.84      2126\n",
      "         MAT       0.00      0.00      0.00        12\n",
      "         NUM       0.92      0.93      0.92      5590\n",
      "         ORG       0.87      0.85      0.86      4086\n",
      "         PER       0.85      0.88      0.87      4426\n",
      "         PLT       0.50      0.09      0.15        34\n",
      "         TIM       0.85      0.91      0.88       314\n",
      "         TRM       0.72      0.71      0.72      1964\n",
      "\n",
      "   micro avg       0.85      0.85      0.85     29248\n",
      "   macro avg       0.72      0.69      0.69     29248\n",
      "weighted avg       0.85      0.85      0.85     29248\n",
      "\n",
      "02/06/2024 02:54:41 - INFO - run_ner -   Saving model checkpoint to ckpt/koelectra-small-v3-naver-ner-ckpt/checkpoint-18000\n"
     ]
    },
    {
     "name": "stdout",
     "output_type": "stream",
     "text": [
      "Epoch 8/20 : |████████████████████--------------------| 50.16% [1270/2532 00:35<00:35]\r"
     ]
    },
    {
     "name": "stderr",
     "output_type": "stream",
     "text": [
      "02/06/2024 02:55:06 - INFO - run_ner -   ***** Running evaluation on test dataset (19000 step) *****\n",
      "02/06/2024 02:55:06 - INFO - run_ner -     Num examples = 9000\n",
      "02/06/2024 02:55:06 - INFO - run_ner -     Eval Batch size = 128\n"
     ]
    },
    {
     "name": "stdout",
     "output_type": "stream",
     "text": [
      " |████████████████████████████████████████| 100.00% [71/71 00:02<00:00]\r"
     ]
    },
    {
     "name": "stderr",
     "output_type": "stream",
     "text": [
      "02/06/2024 02:55:09 - INFO - run_ner -   ***** Eval results on test dataset *****\n",
      "02/06/2024 02:55:09 - INFO - run_ner -     f1 = 0.8474064012225146\n",
      "02/06/2024 02:55:09 - INFO - run_ner -     loss = 0.21540392305649503\n",
      "02/06/2024 02:55:09 - INFO - run_ner -     precision = 0.8417040510001011\n",
      "02/06/2024 02:55:09 - INFO - run_ner -     recall = 0.8531865426695843\n",
      "02/06/2024 02:55:09 - INFO - run_ner -   \n",
      "              precision    recall  f1-score   support\n",
      "\n",
      "         AFW       0.57      0.58      0.58       394\n",
      "         ANM       0.76      0.75      0.76       701\n",
      "         CVL       0.82      0.83      0.82      5758\n",
      "         DAT       0.91      0.93      0.92      2521\n",
      "         EVT       0.74      0.77      0.76      1094\n",
      "         FLD       0.62      0.64      0.63       228\n",
      "         LOC       0.83      0.84      0.84      2126\n",
      "         MAT       0.00      0.00      0.00        12\n",
      "         NUM       0.92      0.93      0.92      5590\n",
      "         ORG       0.86      0.85      0.86      4086\n",
      "         PER       0.86      0.88      0.87      4426\n",
      "         PLT       0.33      0.09      0.14        34\n",
      "         TIM       0.84      0.94      0.89       314\n",
      "         TRM       0.71      0.72      0.72      1964\n",
      "\n",
      "   micro avg       0.84      0.85      0.85     29248\n",
      "   macro avg       0.70      0.70      0.69     29248\n",
      "weighted avg       0.84      0.85      0.85     29248\n",
      "\n",
      "02/06/2024 02:55:10 - INFO - run_ner -   Saving model checkpoint to ckpt/koelectra-small-v3-naver-ner-ckpt/checkpoint-19000\n"
     ]
    },
    {
     "name": "stdout",
     "output_type": "stream",
     "text": [
      "Epoch 8/20 : |███████████████████████████████████-----| 89.81% [2274/2532 01:04<00:07]\r"
     ]
    },
    {
     "name": "stderr",
     "output_type": "stream",
     "text": [
      "02/06/2024 02:55:34 - INFO - run_ner -   ***** Running evaluation on test dataset (20000 step) *****\n",
      "02/06/2024 02:55:34 - INFO - run_ner -     Num examples = 9000\n",
      "02/06/2024 02:55:34 - INFO - run_ner -     Eval Batch size = 128\n"
     ]
    },
    {
     "name": "stdout",
     "output_type": "stream",
     "text": [
      " |████████████████████████████████████████| 100.00% [71/71 00:02<00:00]\r"
     ]
    },
    {
     "name": "stderr",
     "output_type": "stream",
     "text": [
      "02/06/2024 02:55:38 - INFO - run_ner -   ***** Eval results on test dataset *****\n",
      "02/06/2024 02:55:38 - INFO - run_ner -     f1 = 0.8474770642201834\n",
      "02/06/2024 02:55:38 - INFO - run_ner -     loss = 0.21246362949760866\n",
      "02/06/2024 02:55:38 - INFO - run_ner -     precision = 0.8361954206602769\n",
      "02/06/2024 02:55:38 - INFO - run_ner -     recall = 0.8590672866520788\n",
      "02/06/2024 02:55:38 - INFO - run_ner -   \n",
      "              precision    recall  f1-score   support\n",
      "\n",
      "         AFW       0.55      0.59      0.57       394\n",
      "         ANM       0.73      0.77      0.75       701\n",
      "         CVL       0.81      0.84      0.82      5758\n",
      "         DAT       0.91      0.93      0.92      2521\n",
      "         EVT       0.74      0.77      0.75      1094\n",
      "         FLD       0.55      0.69      0.61       228\n",
      "         LOC       0.84      0.84      0.84      2126\n",
      "         MAT       0.00      0.00      0.00        12\n",
      "         NUM       0.91      0.93      0.92      5590\n",
      "         ORG       0.88      0.85      0.86      4086\n",
      "         PER       0.85      0.89      0.87      4426\n",
      "         PLT       0.33      0.06      0.10        34\n",
      "         TIM       0.84      0.94      0.89       314\n",
      "         TRM       0.70      0.74      0.72      1964\n",
      "\n",
      "   micro avg       0.84      0.86      0.85     29248\n",
      "   macro avg       0.69      0.70      0.69     29248\n",
      "weighted avg       0.84      0.86      0.85     29248\n",
      "\n",
      "02/06/2024 02:55:39 - INFO - run_ner -   Saving model checkpoint to ckpt/koelectra-small-v3-naver-ner-ckpt/checkpoint-20000\n"
     ]
    },
    {
     "name": "stdout",
     "output_type": "stream",
     "text": [
      "Epoch 8 done                                                                           \n",
      "Epoch 9/20 : |███████████-----------------------------| 29.34% [743/2532 00:18<00:43]\r"
     ]
    },
    {
     "name": "stderr",
     "output_type": "stream",
     "text": [
      "02/06/2024 02:56:04 - INFO - run_ner -   ***** Running evaluation on test dataset (21000 step) *****\n",
      "02/06/2024 02:56:04 - INFO - run_ner -     Num examples = 9000\n",
      "02/06/2024 02:56:04 - INFO - run_ner -     Eval Batch size = 128\n"
     ]
    },
    {
     "name": "stdout",
     "output_type": "stream",
     "text": [
      " |████████████████████████████████████████| 100.00% [71/71 00:02<00:00]\r"
     ]
    },
    {
     "name": "stderr",
     "output_type": "stream",
     "text": [
      "02/06/2024 02:56:07 - INFO - run_ner -   ***** Eval results on test dataset *****\n",
      "02/06/2024 02:56:07 - INFO - run_ner -     f1 = 0.8494069195554874\n",
      "02/06/2024 02:56:07 - INFO - run_ner -     loss = 0.21519028930596903\n",
      "02/06/2024 02:56:07 - INFO - run_ner -     precision = 0.8455934672856029\n",
      "02/06/2024 02:56:07 - INFO - run_ner -     recall = 0.8532549234135668\n",
      "02/06/2024 02:56:07 - INFO - run_ner -   \n",
      "              precision    recall  f1-score   support\n",
      "\n",
      "         AFW       0.58      0.58      0.58       394\n",
      "         ANM       0.70      0.79      0.74       701\n",
      "         CVL       0.82      0.83      0.83      5758\n",
      "         DAT       0.91      0.93      0.92      2521\n",
      "         EVT       0.75      0.76      0.76      1094\n",
      "         FLD       0.65      0.64      0.64       228\n",
      "         LOC       0.83      0.85      0.84      2126\n",
      "         MAT       0.00      0.00      0.00        12\n",
      "         NUM       0.92      0.93      0.92      5590\n",
      "         ORG       0.87      0.85      0.86      4086\n",
      "         PER       0.86      0.88      0.87      4426\n",
      "         PLT       0.33      0.12      0.17        34\n",
      "         TIM       0.83      0.93      0.88       314\n",
      "         TRM       0.74      0.71      0.73      1964\n",
      "\n",
      "   micro avg       0.85      0.85      0.85     29248\n",
      "   macro avg       0.70      0.70      0.70     29248\n",
      "weighted avg       0.84      0.85      0.85     29248\n",
      "\n",
      "02/06/2024 02:56:08 - INFO - run_ner -   Saving model checkpoint to ckpt/koelectra-small-v3-naver-ner-ckpt/checkpoint-21000\n"
     ]
    },
    {
     "name": "stdout",
     "output_type": "stream",
     "text": [
      "Epoch 9/20 : |███████████████████████████-------------| 68.60% [1737/2532 00:46<00:21]\r"
     ]
    },
    {
     "name": "stderr",
     "output_type": "stream",
     "text": [
      "02/06/2024 02:56:32 - INFO - run_ner -   ***** Running evaluation on test dataset (22000 step) *****\n",
      "02/06/2024 02:56:32 - INFO - run_ner -     Num examples = 9000\n",
      "02/06/2024 02:56:32 - INFO - run_ner -     Eval Batch size = 128\n"
     ]
    },
    {
     "name": "stdout",
     "output_type": "stream",
     "text": [
      " |████████████████████████████████████████| 100.00% [71/71 00:02<00:00]\r"
     ]
    },
    {
     "name": "stderr",
     "output_type": "stream",
     "text": [
      "02/06/2024 02:56:35 - INFO - run_ner -   ***** Eval results on test dataset *****\n",
      "02/06/2024 02:56:35 - INFO - run_ner -     f1 = 0.8530296592164527\n",
      "02/06/2024 02:56:35 - INFO - run_ner -     loss = 0.21502089458452145\n",
      "02/06/2024 02:56:35 - INFO - run_ner -     precision = 0.8481427654037246\n",
      "02/06/2024 02:56:35 - INFO - run_ner -     recall = 0.8579731947483589\n",
      "02/06/2024 02:56:36 - INFO - run_ner -   \n",
      "              precision    recall  f1-score   support\n",
      "\n",
      "         AFW       0.62      0.58      0.60       394\n",
      "         ANM       0.79      0.76      0.77       701\n",
      "         CVL       0.82      0.84      0.83      5758\n",
      "         DAT       0.91      0.94      0.92      2521\n",
      "         EVT       0.75      0.78      0.76      1094\n",
      "         FLD       0.63      0.63      0.63       228\n",
      "         LOC       0.84      0.85      0.85      2126\n",
      "         MAT       0.00      0.00      0.00        12\n",
      "         NUM       0.92      0.93      0.92      5590\n",
      "         ORG       0.86      0.86      0.86      4086\n",
      "         PER       0.87      0.88      0.88      4426\n",
      "         PLT       0.43      0.09      0.15        34\n",
      "         TIM       0.86      0.93      0.90       314\n",
      "         TRM       0.72      0.72      0.72      1964\n",
      "\n",
      "   micro avg       0.85      0.86      0.85     29248\n",
      "   macro avg       0.72      0.70      0.70     29248\n",
      "weighted avg       0.85      0.86      0.85     29248\n",
      "\n",
      "02/06/2024 02:56:37 - INFO - run_ner -   Saving model checkpoint to ckpt/koelectra-small-v3-naver-ner-ckpt/checkpoint-22000\n"
     ]
    },
    {
     "name": "stdout",
     "output_type": "stream",
     "text": [
      "Epoch 9 done                                                                           \n",
      "Epoch 10/20 : |███-------------------------------------| 8.18% [207/2532 00:05<00:58]\r"
     ]
    },
    {
     "name": "stderr",
     "output_type": "stream",
     "text": [
      "02/06/2024 02:57:02 - INFO - run_ner -   ***** Running evaluation on test dataset (23000 step) *****\n",
      "02/06/2024 02:57:02 - INFO - run_ner -     Num examples = 9000\n",
      "02/06/2024 02:57:02 - INFO - run_ner -     Eval Batch size = 128\n"
     ]
    },
    {
     "name": "stdout",
     "output_type": "stream",
     "text": [
      " |████████████████████████████████████████| 100.00% [71/71 00:02<00:00]\r"
     ]
    },
    {
     "name": "stderr",
     "output_type": "stream",
     "text": [
      "02/06/2024 02:57:05 - INFO - run_ner -   ***** Eval results on test dataset *****\n",
      "02/06/2024 02:57:05 - INFO - run_ner -     f1 = 0.8518493429074652\n",
      "02/06/2024 02:57:05 - INFO - run_ner -     loss = 0.2183495195398868\n",
      "02/06/2024 02:57:05 - INFO - run_ner -     precision = 0.8439597315436241\n",
      "02/06/2024 02:57:05 - INFO - run_ner -     recall = 0.8598878555798687\n",
      "02/06/2024 02:57:05 - INFO - run_ner -   \n",
      "              precision    recall  f1-score   support\n",
      "\n",
      "         AFW       0.59      0.58      0.58       394\n",
      "         ANM       0.74      0.78      0.76       701\n",
      "         CVL       0.83      0.84      0.83      5758\n",
      "         DAT       0.91      0.93      0.92      2521\n",
      "         EVT       0.76      0.78      0.77      1094\n",
      "         FLD       0.64      0.65      0.64       228\n",
      "         LOC       0.84      0.85      0.84      2126\n",
      "         MAT       1.00      0.08      0.15        12\n",
      "         NUM       0.91      0.93      0.92      5590\n",
      "         ORG       0.87      0.85      0.86      4086\n",
      "         PER       0.86      0.89      0.87      4426\n",
      "         PLT       0.44      0.12      0.19        34\n",
      "         TIM       0.84      0.94      0.88       314\n",
      "         TRM       0.71      0.74      0.73      1964\n",
      "\n",
      "   micro avg       0.84      0.86      0.85     29248\n",
      "   macro avg       0.78      0.71      0.71     29248\n",
      "weighted avg       0.84      0.86      0.85     29248\n",
      "\n",
      "02/06/2024 02:57:06 - INFO - run_ner -   Saving model checkpoint to ckpt/koelectra-small-v3-naver-ner-ckpt/checkpoint-23000\n"
     ]
    },
    {
     "name": "stdout",
     "output_type": "stream",
     "text": [
      "Epoch 10/20 : |███████---------------------------------| 19.31% [489/2532 00:16<01:10]\r"
     ]
    }
   ],
   "source": [
    "if dev_dataset == None:\n",
    "    args.evaluate_test_during_training = True  # If there is no dev dataset, only use testset\n",
    "\n",
    "if args.do_train:\n",
    "    global_step, tr_loss = train(args, model, train_dataset, dev_dataset, test_dataset)\n",
    "    logger.info(\" global_step = {}, average loss = {}\".format(global_step, tr_loss))\n"
   ]
  },
  {
   "cell_type": "code",
   "execution_count": null,
   "metadata": {},
   "outputs": [],
   "source": [
    "\n",
    "results = {}\n",
    "if args.do_eval:\n",
    "    checkpoints = list(os.path.dirname(c) for c in\n",
    "                        sorted(glob.glob(args.output_dir + \"/**/\" + \"pytorch_model.bin\", recursive=True),\n",
    "                                key=lambda path_with_step: list(map(int, re.findall(r\"\\d+\", path_with_step)))[-1]))\n",
    "    if not args.eval_all_checkpoints:\n",
    "        checkpoints = checkpoints[-1:]\n",
    "    else:\n",
    "        logging.getLogger(\"transformers.configuration_utils\").setLevel(logging.WARN)  # Reduce logging\n",
    "        logging.getLogger(\"transformers.modeling_utils\").setLevel(logging.WARN)  # Reduce logging\n",
    "    logger.info(\"Evaluate the following checkpoints: %s\", checkpoints)\n",
    "    for checkpoint in checkpoints:\n",
    "        global_step = checkpoint.split(\"-\")[-1]\n",
    "        model = MODEL_FOR_TOKEN_CLASSIFICATION[args.model_type].from_pretrained(checkpoint)\n",
    "        model.to(args.device)\n",
    "        result = evaluate(args, model, test_dataset, mode=\"test\", global_step=global_step)\n",
    "        result = dict((k + \"_{}\".format(global_step), v) for k, v in result.items())\n",
    "        results.update(result)\n",
    "\n",
    "    output_eval_file = os.path.join(args.output_dir, \"eval_results.txt\")\n",
    "    with open(output_eval_file, \"w\") as f_w:\n",
    "        if len(checkpoints) > 1:\n",
    "            for key in sorted(results.keys(), key=lambda key_with_step: (\n",
    "                    \"\".join(re.findall(r'[^_]+_', key_with_step)),\n",
    "                    int(re.findall(r\"_\\d+\", key_with_step)[-1][1:])\n",
    "            )):\n",
    "                f_w.write(\"{} = {}\\n\".format(key, str(results[key])))\n",
    "        else:\n",
    "            for key in sorted(results.keys()):\n",
    "                f_w.write(\"{} = {}\\n\".format(key, str(results[key])))\n"
   ]
  }
 ],
 "metadata": {
  "kernelspec": {
   "display_name": "CSU",
   "language": "python",
   "name": "python3"
  },
  "language_info": {
   "codemirror_mode": {
    "name": "ipython",
    "version": 3
   },
   "file_extension": ".py",
   "mimetype": "text/x-python",
   "name": "python",
   "nbconvert_exporter": "python",
   "pygments_lexer": "ipython3",
   "version": "3.8.18"
  }
 },
 "nbformat": 4,
 "nbformat_minor": 2
}
