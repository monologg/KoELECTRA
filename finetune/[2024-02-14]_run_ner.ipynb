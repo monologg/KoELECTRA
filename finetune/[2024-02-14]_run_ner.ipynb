{
 "cells": [
  {
   "cell_type": "code",
   "execution_count": 1,
   "metadata": {},
   "outputs": [
    {
     "name": "stderr",
     "output_type": "stream",
     "text": [
      "/root/anaconda3/envs/CSU/lib/python3.8/site-packages/tqdm/auto.py:21: TqdmWarning: IProgress not found. Please update jupyter and ipywidgets. See https://ipywidgets.readthedocs.io/en/stable/user_install.html\n",
      "  from .autonotebook import tqdm as notebook_tqdm\n",
      "/root/anaconda3/envs/CSU/lib/python3.8/site-packages/fastprogress/fastprogress.py:107: UserWarning: Couldn't import ipywidgets properly, progress bar will use console behavior\n",
      "  warn(\"Couldn't import ipywidgets properly, progress bar will use console behavior\")\n"
     ]
    }
   ],
   "source": [
    "import json\n",
    "import logging\n",
    "import os\n",
    "import glob\n",
    "import re\n",
    "\n",
    "# import numpy as np\n",
    "import torch\n",
    "# from torch.utils.data import DataLoader, RandomSampler, SequentialSampler\n",
    "# from torch.nn import CrossEntropyLoss\n",
    "# from fastprogress.fastprogress import master_bar, progress_bar\n",
    "from attrdict import AttrDict\n",
    "\n",
    "# from transformers import (\n",
    "#     AdamW,\n",
    "#     get_linear_schedule_with_warmup\n",
    "# )\n",
    "\n",
    "from src import (\n",
    "    CONFIG_CLASSES,\n",
    "    TOKENIZER_CLASSES,\n",
    "    MODEL_FOR_TOKEN_CLASSIFICATION,\n",
    "    init_logger,\n",
    "    set_seed,\n",
    "    # compute_metrics,\n",
    "    # show_ner_report\n",
    ")\n",
    "\n",
    "from processor import ner_load_and_cache_examples as load_and_cache_examples\n",
    "from processor import ner_tasks_num_labels as tasks_num_labels\n",
    "from processor import ner_processors as processors\n",
    "\n",
    "logger = logging.getLogger(__name__)\n",
    "\n",
    "from run_ner import train, train_v2, evaluate"
   ]
  },
  {
   "cell_type": "code",
   "execution_count": 3,
   "metadata": {},
   "outputs": [],
   "source": [
    "config_path = \"../../../../data/KoELECTRA_config/naver-ner/koelectra-small-v3.json\"\n",
    "# Read from config file and make args\n",
    "with open(config_path) as f:\n",
    "    args = AttrDict(json.load(f))\n",
    "logger.info(\"Training/evaluation parameters {}\".format(args))\n",
    "\n",
    "# args.output_dir = os.path.join(args.ckpt_dir, args.output_dir)\n",
    "\n",
    "init_logger()\n",
    "set_seed(args)"
   ]
  },
  {
   "cell_type": "code",
   "execution_count": 5,
   "metadata": {},
   "outputs": [
    {
     "name": "stderr",
     "output_type": "stream",
     "text": [
      "Some weights of ElectraForTokenClassification were not initialized from the model checkpoint at monologg/koelectra-small-v3-discriminator and are newly initialized: ['classifier.bias', 'classifier.weight']\n",
      "You should probably TRAIN this model on a down-stream task to be able to use it for predictions and inference.\n"
     ]
    }
   ],
   "source": [
    "cache_dir = \"../../../../models/huggingface\"\n",
    "processor = processors[args.task](args)\n",
    "labels = processor.get_labels()\n",
    "config = CONFIG_CLASSES[args.model_type].from_pretrained(\n",
    "    args.model_name_or_path,\n",
    "    num_labels=tasks_num_labels[args.task],\n",
    "    id2label={str(i): label for i, label in enumerate(labels)},\n",
    "    label2id={label: i for i, label in enumerate(labels)},\n",
    "    cache_dir=cache_dir\n",
    ")\n",
    "tokenizer = TOKENIZER_CLASSES[args.model_type].from_pretrained(\n",
    "    args.model_name_or_path,\n",
    "    do_lower_case=args.do_lower_case,\n",
    "    cache_dir=cache_dir\n",
    ")\n",
    "model = MODEL_FOR_TOKEN_CLASSIFICATION[args.model_type].from_pretrained(\n",
    "    args.model_name_or_path,\n",
    "    config=config,\n",
    "    cache_dir=cache_dir\n",
    ")"
   ]
  },
  {
   "cell_type": "code",
   "execution_count": 6,
   "metadata": {},
   "outputs": [
    {
     "name": "stdout",
     "output_type": "stream",
     "text": [
      "cuda\n"
     ]
    }
   ],
   "source": [
    "# GPU or CPU\n",
    "args.device = \"cuda\" if torch.cuda.is_available() and not args.no_cuda else \"cpu\"\n",
    "model.to(args.device)\n",
    "print(args.device)"
   ]
  },
  {
   "cell_type": "code",
   "execution_count": 8,
   "metadata": {},
   "outputs": [
    {
     "name": "stderr",
     "output_type": "stream",
     "text": [
      "02/14/2024 04:55:38 - INFO - processor.ner -   Loading features from cached file ../../../../data/KoELECTRA/cached_naver-ner_koelectra-small-v3-discriminator_128_train\n",
      "02/14/2024 04:55:42 - INFO - processor.ner -   Loading features from cached file ../../../../data/KoELECTRA/cached_naver-ner_koelectra-small-v3-discriminator_128_test\n"
     ]
    }
   ],
   "source": [
    "# Load dataset\n",
    "train_dataset = load_and_cache_examples(args, tokenizer, mode=\"train\") if args.train_file else None\n",
    "dev_dataset = load_and_cache_examples(args, tokenizer, mode=\"dev\") if args.dev_file else None\n",
    "test_dataset = load_and_cache_examples(args, tokenizer, mode=\"test\") if args.test_file else None\n"
   ]
  },
  {
   "cell_type": "code",
   "execution_count": 6,
   "metadata": {},
   "outputs": [
    {
     "name": "stderr",
     "output_type": "stream",
     "text": [
      "/root/anaconda3/envs/CSU/lib/python3.8/site-packages/transformers/optimization.py:429: FutureWarning: This implementation of AdamW is deprecated and will be removed in a future version. Use the PyTorch implementation torch.optim.AdamW instead, or set `no_deprecation_warning=True` to disable this warning\n",
      "  warnings.warn(\n",
      "02/14/2024 04:23:13 - INFO - run_ner -   ***** Running training *****\n",
      "02/14/2024 04:23:13 - INFO - run_ner -     Num examples = 81000\n",
      "02/14/2024 04:23:13 - INFO - run_ner -     Num Epochs = 30\n",
      "02/14/2024 04:23:13 - INFO - run_ner -     Total train batch size = 32\n",
      "02/14/2024 04:23:13 - INFO - run_ner -     Gradient Accumulation steps = 1\n",
      "02/14/2024 04:23:13 - INFO - run_ner -     Total optimization steps = 75960\n",
      "02/14/2024 04:23:13 - INFO - run_ner -     Logging steps = 1000\n",
      "02/14/2024 04:23:13 - INFO - run_ner -     Save steps = 1000\n"
     ]
    },
    {
     "name": "stdout",
     "output_type": "stream",
     "text": [
      "Epoch 1/30 : |███████████████-------------------------| 39.22% [993/2532 00:18<00:29]\r"
     ]
    },
    {
     "name": "stderr",
     "output_type": "stream",
     "text": [
      "02/14/2024 04:23:32 - INFO - run_ner -   ***** Running evaluation on test dataset (1000 step) *****\n",
      "02/14/2024 04:23:32 - INFO - run_ner -     Num examples = 9000\n",
      "02/14/2024 04:23:32 - INFO - run_ner -     Eval Batch size = 128\n"
     ]
    },
    {
     "name": "stdout",
     "output_type": "stream",
     "text": [
      " |████████████████████████████████████████| 100.00% [71/71 00:01<00:00]\r"
     ]
    },
    {
     "name": "stderr",
     "output_type": "stream",
     "text": [
      "02/14/2024 04:23:34 - INFO - run_ner -   ***** Eval results on test dataset *****\n",
      "02/14/2024 04:23:34 - INFO - run_ner -     f1 = 0.7146691126511754\n",
      "02/14/2024 04:23:34 - INFO - run_ner -     loss = 0.4373903736262254\n",
      "02/14/2024 04:23:34 - INFO - run_ner -     precision = 0.7101336753983257\n",
      "02/14/2024 04:23:34 - INFO - run_ner -     recall = 0.7192628555798687\n",
      "/root/anaconda3/envs/CSU/lib/python3.8/site-packages/seqeval/metrics/v1.py:57: UndefinedMetricWarning: Precision and F-score are ill-defined and being set to 0.0 in labels with no predicted samples. Use `zero_division` parameter to control this behavior.\n",
      "  _warn_prf(average, modifier, msg_start, len(result))\n",
      "02/14/2024 04:23:35 - INFO - run_ner -   \n",
      "              precision    recall  f1-score   support\n",
      "\n",
      "         AFW       0.00      0.00      0.00       394\n",
      "         ANM       0.78      0.31      0.44       701\n",
      "         CVL       0.71      0.70      0.70      5758\n",
      "         DAT       0.75      0.85      0.79      2521\n",
      "         EVT       0.50      0.61      0.55      1094\n",
      "         FLD       0.00      0.00      0.00       228\n",
      "         LOC       0.62      0.74      0.67      2126\n",
      "         MAT       0.00      0.00      0.00        12\n",
      "         NUM       0.83      0.89      0.86      5590\n",
      "         ORG       0.67      0.72      0.70      4086\n",
      "         PER       0.74      0.80      0.77      4426\n",
      "         PLT       0.00      0.00      0.00        34\n",
      "         TIM       0.00      0.00      0.00       314\n",
      "         TRM       0.53      0.49      0.51      1964\n",
      "\n",
      "   micro avg       0.71      0.72      0.71     29248\n",
      "   macro avg       0.44      0.44      0.43     29248\n",
      "weighted avg       0.69      0.72      0.70     29248\n",
      "\n",
      "02/14/2024 04:23:36 - INFO - run_ner -   Saving best model checkpoint to ../../../../models/KoELECTRA/koelectra-small-v3-naver-ner-ckpt/checkpoint-best\n"
     ]
    },
    {
     "name": "stdout",
     "output_type": "stream",
     "text": [
      "############## save model -- 1000 ##############\n",
      "Epoch 1/30 : |███████████████████████████████---------| 78.67% [1992/2532 00:41<00:11]\r"
     ]
    },
    {
     "name": "stderr",
     "output_type": "stream",
     "text": [
      "02/14/2024 04:23:54 - INFO - run_ner -   ***** Running evaluation on test dataset (2000 step) *****\n",
      "02/14/2024 04:23:54 - INFO - run_ner -     Num examples = 9000\n",
      "02/14/2024 04:23:54 - INFO - run_ner -     Eval Batch size = 128\n"
     ]
    },
    {
     "name": "stdout",
     "output_type": "stream",
     "text": [
      " |████████████████████████████████████████| 100.00% [71/71 00:01<00:00]\r"
     ]
    },
    {
     "name": "stderr",
     "output_type": "stream",
     "text": [
      "02/14/2024 04:23:57 - INFO - run_ner -   ***** Eval results on test dataset *****\n",
      "02/14/2024 04:23:57 - INFO - run_ner -     f1 = 0.7629764559677227\n",
      "02/14/2024 04:23:57 - INFO - run_ner -     loss = 0.330884241931875\n",
      "02/14/2024 04:23:57 - INFO - run_ner -     precision = 0.7598074119282542\n",
      "02/14/2024 04:23:57 - INFO - run_ner -     recall = 0.76617204595186\n",
      "02/14/2024 04:23:57 - INFO - run_ner -   \n",
      "              precision    recall  f1-score   support\n",
      "\n",
      "         AFW       0.45      0.01      0.02       394\n",
      "         ANM       0.71      0.46      0.56       701\n",
      "         CVL       0.75      0.72      0.73      5758\n",
      "         DAT       0.85      0.90      0.87      2521\n",
      "         EVT       0.68      0.68      0.68      1094\n",
      "         FLD       0.00      0.00      0.00       228\n",
      "         LOC       0.73      0.74      0.74      2126\n",
      "         MAT       0.00      0.00      0.00        12\n",
      "         NUM       0.88      0.91      0.89      5590\n",
      "         ORG       0.73      0.79      0.76      4086\n",
      "         PER       0.76      0.82      0.79      4426\n",
      "         PLT       0.00      0.00      0.00        34\n",
      "         TIM       0.77      0.73      0.75       314\n",
      "         TRM       0.51      0.62      0.56      1964\n",
      "\n",
      "   micro avg       0.76      0.77      0.76     29248\n",
      "   macro avg       0.56      0.53      0.53     29248\n",
      "weighted avg       0.75      0.77      0.75     29248\n",
      "\n",
      "02/14/2024 04:23:58 - INFO - run_ner -   Saving best model checkpoint to ../../../../models/KoELECTRA/koelectra-small-v3-naver-ner-ckpt/checkpoint-best\n"
     ]
    },
    {
     "name": "stdout",
     "output_type": "stream",
     "text": [
      "############## save model -- 1000 ##############\n",
      "Epoch 1 done                                                                           \n",
      "Epoch 2/30 : |███████---------------------------------| 18.36% [465/2532 00:08<00:38]\r"
     ]
    },
    {
     "name": "stderr",
     "output_type": "stream",
     "text": [
      "02/14/2024 04:24:17 - INFO - run_ner -   ***** Running evaluation on test dataset (3000 step) *****\n",
      "02/14/2024 04:24:17 - INFO - run_ner -     Num examples = 9000\n",
      "02/14/2024 04:24:17 - INFO - run_ner -     Eval Batch size = 128\n"
     ]
    },
    {
     "name": "stdout",
     "output_type": "stream",
     "text": [
      " |████████████████████████████████████████| 100.00% [71/71 00:01<00:00]\r"
     ]
    },
    {
     "name": "stderr",
     "output_type": "stream",
     "text": [
      "02/14/2024 04:24:19 - INFO - run_ner -   ***** Eval results on test dataset *****\n",
      "02/14/2024 04:24:19 - INFO - run_ner -     f1 = 0.7861228634286681\n",
      "02/14/2024 04:24:19 - INFO - run_ner -     loss = 0.2939513552356774\n",
      "02/14/2024 04:24:19 - INFO - run_ner -     precision = 0.7782990416191944\n",
      "02/14/2024 04:24:19 - INFO - run_ner -     recall = 0.794105579868709\n",
      "02/14/2024 04:24:20 - INFO - run_ner -   \n",
      "              precision    recall  f1-score   support\n",
      "\n",
      "         AFW       0.35      0.30      0.32       394\n",
      "         ANM       0.64      0.64      0.64       701\n",
      "         CVL       0.75      0.77      0.76      5758\n",
      "         DAT       0.85      0.91      0.88      2521\n",
      "         EVT       0.68      0.74      0.71      1094\n",
      "         FLD       0.82      0.18      0.29       228\n",
      "         LOC       0.70      0.81      0.75      2126\n",
      "         MAT       0.00      0.00      0.00        12\n",
      "         NUM       0.90      0.91      0.91      5590\n",
      "         ORG       0.78      0.79      0.78      4086\n",
      "         PER       0.82      0.80      0.81      4426\n",
      "         PLT       0.00      0.00      0.00        34\n",
      "         TIM       0.80      0.84      0.82       314\n",
      "         TRM       0.62      0.63      0.63      1964\n",
      "\n",
      "   micro avg       0.78      0.79      0.79     29248\n",
      "   macro avg       0.62      0.59      0.59     29248\n",
      "weighted avg       0.78      0.79      0.78     29248\n",
      "\n"
     ]
    },
    {
     "name": "stdout",
     "output_type": "stream",
     "text": [
      "Epoch 2/30 : |███████████████████████-----------------| 57.86% [1465/2532 00:31<00:22]\r"
     ]
    },
    {
     "name": "stderr",
     "output_type": "stream",
     "text": [
      "02/14/2024 04:24:39 - INFO - run_ner -   ***** Running evaluation on test dataset (4000 step) *****\n",
      "02/14/2024 04:24:39 - INFO - run_ner -     Num examples = 9000\n",
      "02/14/2024 04:24:39 - INFO - run_ner -     Eval Batch size = 128\n"
     ]
    },
    {
     "name": "stdout",
     "output_type": "stream",
     "text": [
      " |████████████████████████████████████████| 100.00% [71/71 00:01<00:00]\r"
     ]
    },
    {
     "name": "stderr",
     "output_type": "stream",
     "text": [
      "02/14/2024 04:24:42 - INFO - run_ner -   ***** Eval results on test dataset *****\n",
      "02/14/2024 04:24:42 - INFO - run_ner -     f1 = 0.802859850116289\n",
      "02/14/2024 04:24:42 - INFO - run_ner -     loss = 0.2647440473378544\n",
      "02/14/2024 04:24:42 - INFO - run_ner -     precision = 0.8091467861235545\n",
      "02/14/2024 04:24:42 - INFO - run_ner -     recall = 0.7966698577680525\n",
      "02/14/2024 04:24:42 - INFO - run_ner -   \n",
      "              precision    recall  f1-score   support\n",
      "\n",
      "         AFW       0.48      0.32      0.38       394\n",
      "         ANM       0.73      0.62      0.67       701\n",
      "         CVL       0.77      0.77      0.77      5758\n",
      "         DAT       0.91      0.90      0.90      2521\n",
      "         EVT       0.73      0.73      0.73      1094\n",
      "         FLD       0.81      0.31      0.45       228\n",
      "         LOC       0.78      0.77      0.78      2126\n",
      "         MAT       0.00      0.00      0.00        12\n",
      "         NUM       0.89      0.92      0.90      5590\n",
      "         ORG       0.79      0.81      0.80      4086\n",
      "         PER       0.83      0.82      0.82      4426\n",
      "         PLT       0.00      0.00      0.00        34\n",
      "         TIM       0.83      0.87      0.85       314\n",
      "         TRM       0.68      0.62      0.65      1964\n",
      "\n",
      "   micro avg       0.81      0.80      0.80     29248\n",
      "   macro avg       0.66      0.60      0.62     29248\n",
      "weighted avg       0.80      0.80      0.80     29248\n",
      "\n",
      "02/14/2024 04:24:43 - INFO - run_ner -   Saving best model checkpoint to ../../../../models/KoELECTRA/koelectra-small-v3-naver-ner-ckpt/checkpoint-best\n"
     ]
    },
    {
     "name": "stdout",
     "output_type": "stream",
     "text": [
      "############## save model -- 1000 ##############\n",
      "Epoch 2/30 : |██████████████████████████████████████--| 97.31% [2464/2532 00:53<00:01]\r"
     ]
    },
    {
     "name": "stderr",
     "output_type": "stream",
     "text": [
      "02/14/2024 04:25:02 - INFO - run_ner -   ***** Running evaluation on test dataset (5000 step) *****\n",
      "02/14/2024 04:25:02 - INFO - run_ner -     Num examples = 9000\n",
      "02/14/2024 04:25:02 - INFO - run_ner -     Eval Batch size = 128\n"
     ]
    },
    {
     "name": "stdout",
     "output_type": "stream",
     "text": [
      " |████████████████████████████████████████| 100.00% [71/71 00:01<00:00]\r"
     ]
    },
    {
     "name": "stderr",
     "output_type": "stream",
     "text": [
      "02/14/2024 04:25:04 - INFO - run_ner -   ***** Eval results on test dataset *****\n",
      "02/14/2024 04:25:04 - INFO - run_ner -     f1 = 0.8134843691533149\n",
      "02/14/2024 04:25:04 - INFO - run_ner -     loss = 0.2500765092775855\n",
      "02/14/2024 04:25:04 - INFO - run_ner -     precision = 0.8093819806403574\n",
      "02/14/2024 04:25:04 - INFO - run_ner -     recall = 0.8176285557986871\n",
      "02/14/2024 04:25:05 - INFO - run_ner -   \n",
      "              precision    recall  f1-score   support\n",
      "\n",
      "         AFW       0.50      0.40      0.45       394\n",
      "         ANM       0.73      0.68      0.71       701\n",
      "         CVL       0.76      0.80      0.78      5758\n",
      "         DAT       0.89      0.91      0.90      2521\n",
      "         EVT       0.72      0.76      0.74      1094\n",
      "         FLD       0.59      0.51      0.55       228\n",
      "         LOC       0.82      0.76      0.79      2126\n",
      "         MAT       0.00      0.00      0.00        12\n",
      "         NUM       0.91      0.92      0.91      5590\n",
      "         ORG       0.81      0.83      0.82      4086\n",
      "         PER       0.83      0.83      0.83      4426\n",
      "         PLT       0.00      0.00      0.00        34\n",
      "         TIM       0.82      0.90      0.86       314\n",
      "         TRM       0.68      0.67      0.67      1964\n",
      "\n",
      "   micro avg       0.81      0.82      0.81     29248\n",
      "   macro avg       0.65      0.64      0.64     29248\n",
      "weighted avg       0.81      0.82      0.81     29248\n",
      "\n",
      "02/14/2024 04:25:05 - INFO - run_ner -   Saving best model checkpoint to ../../../../models/KoELECTRA/koelectra-small-v3-naver-ner-ckpt/checkpoint-best\n"
     ]
    },
    {
     "name": "stdout",
     "output_type": "stream",
     "text": [
      "############## save model -- 1000 ##############\n",
      "Epoch 2 done                                                                           \n",
      "Epoch 3/30 : |██████████████--------------------------| 36.93% [935/2532 00:17<00:29]\r"
     ]
    },
    {
     "name": "stderr",
     "output_type": "stream",
     "text": [
      "02/14/2024 04:25:24 - INFO - run_ner -   ***** Running evaluation on test dataset (6000 step) *****\n",
      "02/14/2024 04:25:24 - INFO - run_ner -     Num examples = 9000\n",
      "02/14/2024 04:25:24 - INFO - run_ner -     Eval Batch size = 128\n"
     ]
    },
    {
     "name": "stdout",
     "output_type": "stream",
     "text": [
      " |████████████████████████████████████████| 100.00% [71/71 00:01<00:00]\r"
     ]
    },
    {
     "name": "stderr",
     "output_type": "stream",
     "text": [
      "02/14/2024 04:25:26 - INFO - run_ner -   ***** Eval results on test dataset *****\n",
      "02/14/2024 04:25:26 - INFO - run_ner -     f1 = 0.8132834836155707\n",
      "02/14/2024 04:25:26 - INFO - run_ner -     loss = 0.24743997316125413\n",
      "02/14/2024 04:25:26 - INFO - run_ner -     precision = 0.8049090848206811\n",
      "02/14/2024 04:25:26 - INFO - run_ner -     recall = 0.8218339715536105\n",
      "02/14/2024 04:25:27 - INFO - run_ner -   \n",
      "              precision    recall  f1-score   support\n",
      "\n",
      "         AFW       0.38      0.52      0.44       394\n",
      "         ANM       0.66      0.75      0.70       701\n",
      "         CVL       0.79      0.79      0.79      5758\n",
      "         DAT       0.90      0.91      0.90      2521\n",
      "         EVT       0.65      0.77      0.70      1094\n",
      "         FLD       0.58      0.59      0.58       228\n",
      "         LOC       0.80      0.79      0.79      2126\n",
      "         MAT       0.00      0.00      0.00        12\n",
      "         NUM       0.90      0.92      0.91      5590\n",
      "         ORG       0.83      0.81      0.82      4086\n",
      "         PER       0.83      0.85      0.84      4426\n",
      "         PLT       0.00      0.00      0.00        34\n",
      "         TIM       0.82      0.91      0.86       314\n",
      "         TRM       0.64      0.69      0.66      1964\n",
      "\n",
      "   micro avg       0.80      0.82      0.81     29248\n",
      "   macro avg       0.63      0.66      0.64     29248\n",
      "weighted avg       0.81      0.82      0.81     29248\n",
      "\n"
     ]
    },
    {
     "name": "stdout",
     "output_type": "stream",
     "text": [
      "Epoch 3/30 : |██████████████████████████████----------| 76.38% [1934/2532 00:39<00:12]\r"
     ]
    },
    {
     "name": "stderr",
     "output_type": "stream",
     "text": [
      "02/14/2024 04:25:46 - INFO - run_ner -   ***** Running evaluation on test dataset (7000 step) *****\n",
      "02/14/2024 04:25:46 - INFO - run_ner -     Num examples = 9000\n",
      "02/14/2024 04:25:46 - INFO - run_ner -     Eval Batch size = 128\n"
     ]
    },
    {
     "name": "stdout",
     "output_type": "stream",
     "text": [
      " |████████████████████████████████████████| 100.00% [71/71 00:01<00:00]\r"
     ]
    },
    {
     "name": "stderr",
     "output_type": "stream",
     "text": [
      "02/14/2024 04:25:49 - INFO - run_ner -   ***** Eval results on test dataset *****\n",
      "02/14/2024 04:25:49 - INFO - run_ner -     f1 = 0.8225102319236017\n",
      "02/14/2024 04:25:49 - INFO - run_ner -     loss = 0.23494562611613476\n",
      "02/14/2024 04:25:49 - INFO - run_ner -     precision = 0.8204953728905825\n",
      "02/14/2024 04:25:49 - INFO - run_ner -     recall = 0.8245350109409191\n",
      "02/14/2024 04:25:49 - INFO - run_ner -   \n",
      "              precision    recall  f1-score   support\n",
      "\n",
      "         AFW       0.51      0.50      0.51       394\n",
      "         ANM       0.64      0.76      0.69       701\n",
      "         CVL       0.82      0.77      0.80      5758\n",
      "         DAT       0.91      0.91      0.91      2521\n",
      "         EVT       0.75      0.75      0.75      1094\n",
      "         FLD       0.59      0.60      0.59       228\n",
      "         LOC       0.79      0.82      0.80      2126\n",
      "         MAT       0.00      0.00      0.00        12\n",
      "         NUM       0.89      0.93      0.91      5590\n",
      "         ORG       0.84      0.83      0.84      4086\n",
      "         PER       0.82      0.85      0.83      4426\n",
      "         PLT       0.00      0.00      0.00        34\n",
      "         TIM       0.84      0.92      0.88       314\n",
      "         TRM       0.68      0.68      0.68      1964\n",
      "\n",
      "   micro avg       0.82      0.82      0.82     29248\n",
      "   macro avg       0.65      0.66      0.66     29248\n",
      "weighted avg       0.82      0.82      0.82     29248\n",
      "\n"
     ]
    },
    {
     "name": "stdout",
     "output_type": "stream",
     "text": [
      "Epoch 3 done                                                                           \n",
      "Epoch 4/30 : |██████----------------------------------| 15.60% [395/2532 00:07<00:39]\r"
     ]
    },
    {
     "name": "stderr",
     "output_type": "stream",
     "text": [
      "02/14/2024 04:26:09 - INFO - run_ner -   ***** Running evaluation on test dataset (8000 step) *****\n",
      "02/14/2024 04:26:09 - INFO - run_ner -     Num examples = 9000\n",
      "02/14/2024 04:26:09 - INFO - run_ner -     Eval Batch size = 128\n"
     ]
    },
    {
     "name": "stdout",
     "output_type": "stream",
     "text": [
      " |████████████████████████████████████████| 100.00% [71/71 00:01<00:00]\r"
     ]
    },
    {
     "name": "stderr",
     "output_type": "stream",
     "text": [
      "02/14/2024 04:26:11 - INFO - run_ner -   ***** Eval results on test dataset *****\n",
      "02/14/2024 04:26:11 - INFO - run_ner -     f1 = 0.8278138933324258\n",
      "02/14/2024 04:26:11 - INFO - run_ner -     loss = 0.23040991685759854\n",
      "02/14/2024 04:26:11 - INFO - run_ner -     precision = 0.8240834858033476\n",
      "02/14/2024 04:26:11 - INFO - run_ner -     recall = 0.831578227571116\n",
      "02/14/2024 04:26:12 - INFO - run_ner -   \n",
      "              precision    recall  f1-score   support\n",
      "\n",
      "         AFW       0.51      0.51      0.51       394\n",
      "         ANM       0.70      0.74      0.72       701\n",
      "         CVL       0.80      0.81      0.80      5758\n",
      "         DAT       0.90      0.92      0.91      2521\n",
      "         EVT       0.73      0.75      0.74      1094\n",
      "         FLD       0.55      0.60      0.57       228\n",
      "         LOC       0.81      0.82      0.82      2126\n",
      "         MAT       0.00      0.00      0.00        12\n",
      "         NUM       0.91      0.92      0.92      5590\n",
      "         ORG       0.85      0.82      0.84      4086\n",
      "         PER       0.83      0.86      0.85      4426\n",
      "         PLT       0.00      0.00      0.00        34\n",
      "         TIM       0.81      0.93      0.86       314\n",
      "         TRM       0.70      0.66      0.68      1964\n",
      "\n",
      "   micro avg       0.82      0.83      0.83     29248\n",
      "   macro avg       0.65      0.67      0.66     29248\n",
      "weighted avg       0.82      0.83      0.83     29248\n",
      "\n"
     ]
    },
    {
     "name": "stdout",
     "output_type": "stream",
     "text": [
      "Epoch 4/30 : |██████████████████████------------------| 55.21% [1398/2532 00:29<00:24]\r"
     ]
    },
    {
     "name": "stderr",
     "output_type": "stream",
     "text": [
      "02/14/2024 04:26:31 - INFO - run_ner -   ***** Running evaluation on test dataset (9000 step) *****\n",
      "02/14/2024 04:26:31 - INFO - run_ner -     Num examples = 9000\n",
      "02/14/2024 04:26:31 - INFO - run_ner -     Eval Batch size = 128\n"
     ]
    },
    {
     "name": "stdout",
     "output_type": "stream",
     "text": [
      " |████████████████████████████████████████| 100.00% [71/71 00:02<00:00]\r"
     ]
    },
    {
     "name": "stderr",
     "output_type": "stream",
     "text": [
      "02/14/2024 04:26:33 - INFO - run_ner -   ***** Eval results on test dataset *****\n",
      "02/14/2024 04:26:33 - INFO - run_ner -     f1 = 0.8305252725470763\n",
      "02/14/2024 04:26:33 - INFO - run_ner -     loss = 0.22496272980327336\n",
      "02/14/2024 04:26:33 - INFO - run_ner -     precision = 0.8301564528250325\n",
      "02/14/2024 04:26:33 - INFO - run_ner -     recall = 0.830894420131291\n",
      "02/14/2024 04:26:34 - INFO - run_ner -   \n",
      "              precision    recall  f1-score   support\n",
      "\n",
      "         AFW       0.54      0.49      0.52       394\n",
      "         ANM       0.77      0.69      0.73       701\n",
      "         CVL       0.79      0.81      0.80      5758\n",
      "         DAT       0.89      0.93      0.91      2521\n",
      "         EVT       0.73      0.76      0.74      1094\n",
      "         FLD       0.68      0.53      0.59       228\n",
      "         LOC       0.79      0.84      0.81      2126\n",
      "         MAT       0.00      0.00      0.00        12\n",
      "         NUM       0.91      0.92      0.91      5590\n",
      "         ORG       0.84      0.84      0.84      4086\n",
      "         PER       0.86      0.85      0.85      4426\n",
      "         PLT       0.00      0.00      0.00        34\n",
      "         TIM       0.83      0.93      0.88       314\n",
      "         TRM       0.75      0.66      0.70      1964\n",
      "\n",
      "   micro avg       0.83      0.83      0.83     29248\n",
      "   macro avg       0.67      0.66      0.66     29248\n",
      "weighted avg       0.83      0.83      0.83     29248\n",
      "\n"
     ]
    },
    {
     "name": "stdout",
     "output_type": "stream",
     "text": [
      "Epoch 4/30 : |█████████████████████████████████████---| 94.83% [2401/2532 00:52<00:02]\r"
     ]
    },
    {
     "name": "stderr",
     "output_type": "stream",
     "text": [
      "02/14/2024 04:26:53 - INFO - run_ner -   ***** Running evaluation on test dataset (10000 step) *****\n",
      "02/14/2024 04:26:53 - INFO - run_ner -     Num examples = 9000\n",
      "02/14/2024 04:26:53 - INFO - run_ner -     Eval Batch size = 128\n"
     ]
    },
    {
     "name": "stdout",
     "output_type": "stream",
     "text": [
      " |████████████████████████████████████████| 100.00% [71/71 00:01<00:00]\r"
     ]
    },
    {
     "name": "stderr",
     "output_type": "stream",
     "text": [
      "02/14/2024 04:26:56 - INFO - run_ner -   ***** Eval results on test dataset *****\n",
      "02/14/2024 04:26:56 - INFO - run_ner -     f1 = 0.8320851998985715\n",
      "02/14/2024 04:26:56 - INFO - run_ner -     loss = 0.22225091323046617\n",
      "02/14/2024 04:26:56 - INFO - run_ner -     precision = 0.8229177115725416\n",
      "02/14/2024 04:26:56 - INFO - run_ner -     recall = 0.8414592450765864\n",
      "02/14/2024 04:26:57 - INFO - run_ner -   \n",
      "              precision    recall  f1-score   support\n",
      "\n",
      "         AFW       0.57      0.51      0.54       394\n",
      "         ANM       0.74      0.72      0.73       701\n",
      "         CVL       0.77      0.83      0.80      5758\n",
      "         DAT       0.91      0.93      0.92      2521\n",
      "         EVT       0.75      0.75      0.75      1094\n",
      "         FLD       0.59      0.62      0.61       228\n",
      "         LOC       0.86      0.79      0.82      2126\n",
      "         MAT       0.00      0.00      0.00        12\n",
      "         NUM       0.91      0.93      0.92      5590\n",
      "         ORG       0.85      0.84      0.84      4086\n",
      "         PER       0.84      0.87      0.85      4426\n",
      "         PLT       0.00      0.00      0.00        34\n",
      "         TIM       0.81      0.94      0.87       314\n",
      "         TRM       0.66      0.71      0.68      1964\n",
      "\n",
      "   micro avg       0.82      0.84      0.83     29248\n",
      "   macro avg       0.66      0.67      0.67     29248\n",
      "weighted avg       0.82      0.84      0.83     29248\n",
      "\n"
     ]
    },
    {
     "name": "stdout",
     "output_type": "stream",
     "text": [
      "Epoch 4 done                                                                           \n",
      "Epoch 5/30 : |█████████████---------------------------| 34.16% [865/2532 00:16<00:31]\r"
     ]
    },
    {
     "name": "stderr",
     "output_type": "stream",
     "text": [
      "02/14/2024 04:27:16 - INFO - run_ner -   ***** Running evaluation on test dataset (11000 step) *****\n",
      "02/14/2024 04:27:16 - INFO - run_ner -     Num examples = 9000\n",
      "02/14/2024 04:27:16 - INFO - run_ner -     Eval Batch size = 128\n"
     ]
    },
    {
     "name": "stdout",
     "output_type": "stream",
     "text": [
      " |████████████████████████████████████████| 100.00% [71/71 00:01<00:00]\r"
     ]
    },
    {
     "name": "stderr",
     "output_type": "stream",
     "text": [
      "02/14/2024 04:27:18 - INFO - run_ner -   ***** Eval results on test dataset *****\n",
      "02/14/2024 04:27:18 - INFO - run_ner -     f1 = 0.8368710158687102\n",
      "02/14/2024 04:27:18 - INFO - run_ner -     loss = 0.2204148250986153\n",
      "02/14/2024 04:27:18 - INFO - run_ner -     precision = 0.8300040355125101\n",
      "02/14/2024 04:27:18 - INFO - run_ner -     recall = 0.8438525711159738\n",
      "02/14/2024 04:27:19 - INFO - run_ner -   \n",
      "              precision    recall  f1-score   support\n",
      "\n",
      "         AFW       0.54      0.53      0.54       394\n",
      "         ANM       0.73      0.74      0.73       701\n",
      "         CVL       0.80      0.82      0.81      5758\n",
      "         DAT       0.90      0.93      0.92      2521\n",
      "         EVT       0.74      0.76      0.75      1094\n",
      "         FLD       0.68      0.57      0.62       228\n",
      "         LOC       0.84      0.81      0.83      2126\n",
      "         MAT       0.00      0.00      0.00        12\n",
      "         NUM       0.92      0.93      0.92      5590\n",
      "         ORG       0.85      0.84      0.84      4086\n",
      "         PER       0.83      0.88      0.85      4426\n",
      "         PLT       0.00      0.00      0.00        34\n",
      "         TIM       0.83      0.91      0.87       314\n",
      "         TRM       0.70      0.70      0.70      1964\n",
      "\n",
      "   micro avg       0.83      0.84      0.84     29248\n",
      "   macro avg       0.67      0.67      0.67     29248\n",
      "weighted avg       0.83      0.84      0.84     29248\n",
      "\n"
     ]
    },
    {
     "name": "stdout",
     "output_type": "stream",
     "text": [
      "Epoch 5/30 : |█████████████████████████████-----------| 73.85% [1870/2532 00:38<00:13]\r"
     ]
    },
    {
     "name": "stderr",
     "output_type": "stream",
     "text": [
      "02/14/2024 04:27:38 - INFO - run_ner -   ***** Running evaluation on test dataset (12000 step) *****\n",
      "02/14/2024 04:27:38 - INFO - run_ner -     Num examples = 9000\n",
      "02/14/2024 04:27:38 - INFO - run_ner -     Eval Batch size = 128\n"
     ]
    },
    {
     "name": "stdout",
     "output_type": "stream",
     "text": [
      " |████████████████████████████████████████| 100.00% [71/71 00:02<00:00]\r"
     ]
    },
    {
     "name": "stderr",
     "output_type": "stream",
     "text": [
      "02/14/2024 04:27:41 - INFO - run_ner -   ***** Eval results on test dataset *****\n",
      "02/14/2024 04:27:41 - INFO - run_ner -     f1 = 0.8375549259454048\n",
      "02/14/2024 04:27:41 - INFO - run_ner -     loss = 0.21575541983188037\n",
      "02/14/2024 04:27:41 - INFO - run_ner -     precision = 0.8312510523657182\n",
      "02/14/2024 04:27:41 - INFO - run_ner -     recall = 0.8439551422319475\n",
      "02/14/2024 04:27:41 - INFO - run_ner -   \n",
      "              precision    recall  f1-score   support\n",
      "\n",
      "         AFW       0.59      0.55      0.57       394\n",
      "         ANM       0.77      0.73      0.75       701\n",
      "         CVL       0.78      0.84      0.81      5758\n",
      "         DAT       0.90      0.92      0.91      2521\n",
      "         EVT       0.72      0.76      0.74      1094\n",
      "         FLD       0.64      0.58      0.61       228\n",
      "         LOC       0.85      0.81      0.83      2126\n",
      "         MAT       0.00      0.00      0.00        12\n",
      "         NUM       0.92      0.92      0.92      5590\n",
      "         ORG       0.85      0.84      0.85      4086\n",
      "         PER       0.85      0.87      0.86      4426\n",
      "         PLT       0.00      0.00      0.00        34\n",
      "         TIM       0.82      0.92      0.87       314\n",
      "         TRM       0.71      0.70      0.71      1964\n",
      "\n",
      "   micro avg       0.83      0.84      0.84     29248\n",
      "   macro avg       0.67      0.67      0.67     29248\n",
      "weighted avg       0.83      0.84      0.84     29248\n",
      "\n",
      "02/14/2024 04:27:42 - INFO - run_ner -   Saving best model checkpoint to ../../../../models/KoELECTRA/koelectra-small-v3-naver-ner-ckpt/checkpoint-best\n"
     ]
    },
    {
     "name": "stdout",
     "output_type": "stream",
     "text": [
      "############## save model -- 1000 ##############\n",
      "Epoch 5 done                                                                           \n",
      "Epoch 6/30 : |█████-----------------------------------| 13.23% [335/2532 00:06<00:41]\r"
     ]
    },
    {
     "name": "stderr",
     "output_type": "stream",
     "text": [
      "02/14/2024 04:28:01 - INFO - run_ner -   ***** Running evaluation on test dataset (13000 step) *****\n",
      "02/14/2024 04:28:01 - INFO - run_ner -     Num examples = 9000\n",
      "02/14/2024 04:28:01 - INFO - run_ner -     Eval Batch size = 128\n"
     ]
    },
    {
     "name": "stdout",
     "output_type": "stream",
     "text": [
      " |████████████████████████████████████████| 100.00% [71/71 00:01<00:00]\r"
     ]
    },
    {
     "name": "stderr",
     "output_type": "stream",
     "text": [
      "02/14/2024 04:28:03 - INFO - run_ner -   ***** Eval results on test dataset *****\n",
      "02/14/2024 04:28:03 - INFO - run_ner -     f1 = 0.8405782295550902\n",
      "02/14/2024 04:28:03 - INFO - run_ner -     loss = 0.2171495945101053\n",
      "02/14/2024 04:28:03 - INFO - run_ner -     precision = 0.8372282332191432\n",
      "02/14/2024 04:28:03 - INFO - run_ner -     recall = 0.8439551422319475\n",
      "02/14/2024 04:28:04 - INFO - run_ner -   \n",
      "              precision    recall  f1-score   support\n",
      "\n",
      "         AFW       0.57      0.54      0.55       394\n",
      "         ANM       0.76      0.74      0.75       701\n",
      "         CVL       0.82      0.81      0.82      5758\n",
      "         DAT       0.90      0.92      0.91      2521\n",
      "         EVT       0.73      0.79      0.76      1094\n",
      "         FLD       0.63      0.66      0.65       228\n",
      "         LOC       0.80      0.85      0.82      2126\n",
      "         MAT       0.00      0.00      0.00        12\n",
      "         NUM       0.92      0.93      0.92      5590\n",
      "         ORG       0.85      0.84      0.85      4086\n",
      "         PER       0.86      0.87      0.86      4426\n",
      "         PLT       0.00      0.00      0.00        34\n",
      "         TIM       0.80      0.93      0.86       314\n",
      "         TRM       0.70      0.71      0.70      1964\n",
      "\n",
      "   micro avg       0.84      0.84      0.84     29248\n",
      "   macro avg       0.67      0.68      0.68     29248\n",
      "weighted avg       0.84      0.84      0.84     29248\n",
      "\n",
      "02/14/2024 04:28:05 - INFO - run_ner -   Saving best model checkpoint to ../../../../models/KoELECTRA/koelectra-small-v3-naver-ner-ckpt/checkpoint-best\n"
     ]
    },
    {
     "name": "stdout",
     "output_type": "stream",
     "text": [
      "############## save model -- 1000 ##############\n",
      "Epoch 6/30 : |█████████████████████-------------------| 52.88% [1339/2532 00:28<00:25]\r"
     ]
    },
    {
     "name": "stderr",
     "output_type": "stream",
     "text": [
      "02/14/2024 04:28:23 - INFO - run_ner -   ***** Running evaluation on test dataset (14000 step) *****\n",
      "02/14/2024 04:28:23 - INFO - run_ner -     Num examples = 9000\n",
      "02/14/2024 04:28:23 - INFO - run_ner -     Eval Batch size = 128\n"
     ]
    },
    {
     "name": "stdout",
     "output_type": "stream",
     "text": [
      " |████████████████████████████████████████| 100.00% [71/71 00:01<00:00]\r"
     ]
    },
    {
     "name": "stderr",
     "output_type": "stream",
     "text": [
      "02/14/2024 04:28:26 - INFO - run_ner -   ***** Eval results on test dataset *****\n",
      "02/14/2024 04:28:26 - INFO - run_ner -     f1 = 0.8434278350515464\n",
      "02/14/2024 04:28:26 - INFO - run_ner -     loss = 0.2154225075328854\n",
      "02/14/2024 04:28:26 - INFO - run_ner -     precision = 0.8366186759956943\n",
      "02/14/2024 04:28:26 - INFO - run_ner -     recall = 0.8503487417943107\n",
      "02/14/2024 04:28:27 - INFO - run_ner -   \n",
      "              precision    recall  f1-score   support\n",
      "\n",
      "         AFW       0.57      0.55      0.56       394\n",
      "         ANM       0.73      0.77      0.75       701\n",
      "         CVL       0.81      0.83      0.82      5758\n",
      "         DAT       0.90      0.92      0.91      2521\n",
      "         EVT       0.73      0.78      0.76      1094\n",
      "         FLD       0.65      0.61      0.63       228\n",
      "         LOC       0.83      0.84      0.83      2126\n",
      "         MAT       0.00      0.00      0.00        12\n",
      "         NUM       0.91      0.93      0.92      5590\n",
      "         ORG       0.87      0.84      0.86      4086\n",
      "         PER       0.83      0.89      0.86      4426\n",
      "         PLT       1.00      0.03      0.06        34\n",
      "         TIM       0.85      0.93      0.89       314\n",
      "         TRM       0.74      0.70      0.72      1964\n",
      "\n",
      "   micro avg       0.84      0.85      0.84     29248\n",
      "   macro avg       0.74      0.69      0.68     29248\n",
      "weighted avg       0.84      0.85      0.84     29248\n",
      "\n",
      "02/14/2024 04:28:27 - INFO - run_ner -   Saving best model checkpoint to ../../../../models/KoELECTRA/koelectra-small-v3-naver-ner-ckpt/checkpoint-best\n"
     ]
    },
    {
     "name": "stdout",
     "output_type": "stream",
     "text": [
      "############## save model -- 1000 ##############\n",
      "Epoch 6/30 : |████████████████████████████████████----| 92.14% [2333/2532 00:51<00:04]\r"
     ]
    },
    {
     "name": "stderr",
     "output_type": "stream",
     "text": [
      "02/14/2024 04:28:46 - INFO - run_ner -   ***** Running evaluation on test dataset (15000 step) *****\n",
      "02/14/2024 04:28:46 - INFO - run_ner -     Num examples = 9000\n",
      "02/14/2024 04:28:46 - INFO - run_ner -     Eval Batch size = 128\n"
     ]
    },
    {
     "name": "stdout",
     "output_type": "stream",
     "text": [
      " |████████████████████████████████████████| 100.00% [71/71 00:02<00:00]\r"
     ]
    },
    {
     "name": "stderr",
     "output_type": "stream",
     "text": [
      "02/14/2024 04:28:48 - INFO - run_ner -   ***** Eval results on test dataset *****\n",
      "02/14/2024 04:28:48 - INFO - run_ner -     f1 = 0.8440534906188031\n",
      "02/14/2024 04:28:48 - INFO - run_ner -     loss = 0.21497785226559976\n",
      "02/14/2024 04:28:48 - INFO - run_ner -     precision = 0.836890397606964\n",
      "02/14/2024 04:28:48 - INFO - run_ner -     recall = 0.8513402625820569\n",
      "02/14/2024 04:28:49 - INFO - run_ner -   \n",
      "              precision    recall  f1-score   support\n",
      "\n",
      "         AFW       0.59      0.57      0.58       394\n",
      "         ANM       0.74      0.76      0.75       701\n",
      "         CVL       0.79      0.84      0.82      5758\n",
      "         DAT       0.91      0.93      0.92      2521\n",
      "         EVT       0.74      0.77      0.75      1094\n",
      "         FLD       0.63      0.60      0.62       228\n",
      "         LOC       0.85      0.82      0.84      2126\n",
      "         MAT       0.00      0.00      0.00        12\n",
      "         NUM       0.92      0.93      0.92      5590\n",
      "         ORG       0.84      0.85      0.85      4086\n",
      "         PER       0.87      0.88      0.87      4426\n",
      "         PLT       0.38      0.09      0.14        34\n",
      "         TIM       0.83      0.93      0.88       314\n",
      "         TRM       0.72      0.72      0.72      1964\n",
      "\n",
      "   micro avg       0.84      0.85      0.84     29248\n",
      "   macro avg       0.70      0.69      0.69     29248\n",
      "weighted avg       0.84      0.85      0.84     29248\n",
      "\n"
     ]
    },
    {
     "name": "stdout",
     "output_type": "stream",
     "text": [
      "Epoch 6 done                                                                           \n",
      "Epoch 7/30 : |████████████----------------------------| 31.79% [805/2532 00:15<00:32]\r"
     ]
    },
    {
     "name": "stderr",
     "output_type": "stream",
     "text": [
      "02/14/2024 04:29:08 - INFO - run_ner -   ***** Running evaluation on test dataset (16000 step) *****\n",
      "02/14/2024 04:29:08 - INFO - run_ner -     Num examples = 9000\n",
      "02/14/2024 04:29:08 - INFO - run_ner -     Eval Batch size = 128\n"
     ]
    },
    {
     "name": "stdout",
     "output_type": "stream",
     "text": [
      " |████████████████████████████████████████| 100.00% [71/71 00:01<00:00]\r"
     ]
    },
    {
     "name": "stderr",
     "output_type": "stream",
     "text": [
      "02/14/2024 04:29:11 - INFO - run_ner -   ***** Eval results on test dataset *****\n",
      "02/14/2024 04:29:11 - INFO - run_ner -     f1 = 0.8446093630864637\n",
      "02/14/2024 04:29:11 - INFO - run_ner -     loss = 0.2177058177095064\n",
      "02/14/2024 04:29:11 - INFO - run_ner -     precision = 0.8371905545665245\n",
      "02/14/2024 04:29:11 - INFO - run_ner -     recall = 0.8521608315098468\n",
      "02/14/2024 04:29:12 - INFO - run_ner -   \n",
      "              precision    recall  f1-score   support\n",
      "\n",
      "         AFW       0.58      0.58      0.58       394\n",
      "         ANM       0.68      0.79      0.73       701\n",
      "         CVL       0.82      0.83      0.82      5758\n",
      "         DAT       0.90      0.93      0.92      2521\n",
      "         EVT       0.75      0.78      0.77      1094\n",
      "         FLD       0.65      0.61      0.63       228\n",
      "         LOC       0.82      0.85      0.83      2126\n",
      "         MAT       0.00      0.00      0.00        12\n",
      "         NUM       0.91      0.93      0.92      5590\n",
      "         ORG       0.88      0.84      0.86      4086\n",
      "         PER       0.86      0.88      0.87      4426\n",
      "         PLT       0.43      0.09      0.15        34\n",
      "         TIM       0.82      0.93      0.87       314\n",
      "         TRM       0.68      0.73      0.70      1964\n",
      "\n",
      "   micro avg       0.84      0.85      0.84     29248\n",
      "   macro avg       0.70      0.70      0.69     29248\n",
      "weighted avg       0.84      0.85      0.84     29248\n",
      "\n"
     ]
    },
    {
     "name": "stdout",
     "output_type": "stream",
     "text": [
      "Epoch 7/30 : |████████████████████████████------------| 71.13% [1801/2532 00:37<00:15]\r"
     ]
    },
    {
     "name": "stderr",
     "output_type": "stream",
     "text": [
      "02/14/2024 04:29:31 - INFO - run_ner -   ***** Running evaluation on test dataset (17000 step) *****\n",
      "02/14/2024 04:29:31 - INFO - run_ner -     Num examples = 9000\n",
      "02/14/2024 04:29:31 - INFO - run_ner -     Eval Batch size = 128\n"
     ]
    },
    {
     "name": "stdout",
     "output_type": "stream",
     "text": [
      " |████████████████████████████████████████| 100.00% [71/71 00:01<00:00]\r"
     ]
    },
    {
     "name": "stderr",
     "output_type": "stream",
     "text": [
      "02/14/2024 04:29:33 - INFO - run_ner -   ***** Eval results on test dataset *****\n",
      "02/14/2024 04:29:33 - INFO - run_ner -     f1 = 0.8468670683909735\n",
      "02/14/2024 04:29:33 - INFO - run_ner -     loss = 0.21404409996220763\n",
      "02/14/2024 04:29:33 - INFO - run_ner -     precision = 0.8554187449858732\n",
      "02/14/2024 04:29:33 - INFO - run_ner -     recall = 0.838484682713348\n",
      "02/14/2024 04:29:34 - INFO - run_ner -   \n",
      "              precision    recall  f1-score   support\n",
      "\n",
      "         AFW       0.64      0.54      0.58       394\n",
      "         ANM       0.74      0.75      0.75       701\n",
      "         CVL       0.84      0.80      0.82      5758\n",
      "         DAT       0.91      0.92      0.91      2521\n",
      "         EVT       0.77      0.76      0.76      1094\n",
      "         FLD       0.73      0.58      0.65       228\n",
      "         LOC       0.84      0.83      0.83      2126\n",
      "         MAT       0.00      0.00      0.00        12\n",
      "         NUM       0.92      0.93      0.92      5590\n",
      "         ORG       0.86      0.85      0.85      4086\n",
      "         PER       0.87      0.87      0.87      4426\n",
      "         PLT       0.43      0.09      0.15        34\n",
      "         TIM       0.83      0.93      0.88       314\n",
      "         TRM       0.75      0.69      0.72      1964\n",
      "\n",
      "   micro avg       0.86      0.84      0.85     29248\n",
      "   macro avg       0.72      0.68      0.69     29248\n",
      "weighted avg       0.85      0.84      0.85     29248\n",
      "\n",
      "02/14/2024 04:29:35 - INFO - run_ner -   Saving best model checkpoint to ../../../../models/KoELECTRA/koelectra-small-v3-naver-ner-ckpt/checkpoint-best\n"
     ]
    },
    {
     "name": "stdout",
     "output_type": "stream",
     "text": [
      "############## save model -- 1000 ##############\n",
      "Epoch 7 done                                                                           \n",
      "Epoch 8/30 : |████------------------------------------| 10.86% [275/2532 00:05<00:42]\r"
     ]
    },
    {
     "name": "stderr",
     "output_type": "stream",
     "text": [
      "02/14/2024 04:29:53 - INFO - run_ner -   ***** Running evaluation on test dataset (18000 step) *****\n",
      "02/14/2024 04:29:53 - INFO - run_ner -     Num examples = 9000\n",
      "02/14/2024 04:29:53 - INFO - run_ner -     Eval Batch size = 128\n"
     ]
    },
    {
     "name": "stdout",
     "output_type": "stream",
     "text": [
      " |████████████████████████████████████████| 100.00% [71/71 00:01<00:00]\r"
     ]
    },
    {
     "name": "stderr",
     "output_type": "stream",
     "text": [
      "02/14/2024 04:29:56 - INFO - run_ner -   ***** Eval results on test dataset *****\n",
      "02/14/2024 04:29:56 - INFO - run_ner -     f1 = 0.8483279025896072\n",
      "02/14/2024 04:29:56 - INFO - run_ner -     loss = 0.21550519092821738\n",
      "02/14/2024 04:29:56 - INFO - run_ner -     precision = 0.8510425985823412\n",
      "02/14/2024 04:29:56 - INFO - run_ner -     recall = 0.8456304704595186\n",
      "02/14/2024 04:29:57 - INFO - run_ner -   \n",
      "              precision    recall  f1-score   support\n",
      "\n",
      "         AFW       0.58      0.56      0.57       394\n",
      "         ANM       0.76      0.76      0.76       701\n",
      "         CVL       0.84      0.81      0.82      5758\n",
      "         DAT       0.92      0.93      0.92      2521\n",
      "         EVT       0.75      0.77      0.76      1094\n",
      "         FLD       0.71      0.58      0.64       228\n",
      "         LOC       0.83      0.84      0.83      2126\n",
      "         MAT       0.00      0.00      0.00        12\n",
      "         NUM       0.92      0.93      0.92      5590\n",
      "         ORG       0.87      0.85      0.86      4086\n",
      "         PER       0.86      0.88      0.87      4426\n",
      "         PLT       0.38      0.09      0.14        34\n",
      "         TIM       0.84      0.90      0.87       314\n",
      "         TRM       0.72      0.72      0.72      1964\n",
      "\n",
      "   micro avg       0.85      0.85      0.85     29248\n",
      "   macro avg       0.71      0.69      0.69     29248\n",
      "weighted avg       0.85      0.85      0.85     29248\n",
      "\n"
     ]
    },
    {
     "name": "stdout",
     "output_type": "stream",
     "text": [
      "Epoch 8/30 : |████████████████████--------------------| 50.16% [1270/2532 00:27<00:27]\r"
     ]
    },
    {
     "name": "stderr",
     "output_type": "stream",
     "text": [
      "02/14/2024 04:30:16 - INFO - run_ner -   ***** Running evaluation on test dataset (19000 step) *****\n",
      "02/14/2024 04:30:16 - INFO - run_ner -     Num examples = 9000\n",
      "02/14/2024 04:30:16 - INFO - run_ner -     Eval Batch size = 128\n"
     ]
    },
    {
     "name": "stdout",
     "output_type": "stream",
     "text": [
      " |████████████████████████████████████████| 100.00% [71/71 00:01<00:00]\r"
     ]
    },
    {
     "name": "stderr",
     "output_type": "stream",
     "text": [
      "02/14/2024 04:30:18 - INFO - run_ner -   ***** Eval results on test dataset *****\n",
      "02/14/2024 04:30:18 - INFO - run_ner -     f1 = 0.8477840697161847\n",
      "02/14/2024 04:30:18 - INFO - run_ner -     loss = 0.21612472727265156\n",
      "02/14/2024 04:30:18 - INFO - run_ner -     precision = 0.8408555861976189\n",
      "02/14/2024 04:30:18 - INFO - run_ner -     recall = 0.8548276805251641\n",
      "02/14/2024 04:30:19 - INFO - run_ner -   \n",
      "              precision    recall  f1-score   support\n",
      "\n",
      "         AFW       0.57      0.59      0.58       394\n",
      "         ANM       0.75      0.75      0.75       701\n",
      "         CVL       0.82      0.83      0.83      5758\n",
      "         DAT       0.91      0.93      0.92      2521\n",
      "         EVT       0.75      0.78      0.76      1094\n",
      "         FLD       0.62      0.63      0.62       228\n",
      "         LOC       0.83      0.83      0.83      2126\n",
      "         MAT       0.00      0.00      0.00        12\n",
      "         NUM       0.92      0.93      0.92      5590\n",
      "         ORG       0.86      0.85      0.85      4086\n",
      "         PER       0.86      0.89      0.87      4426\n",
      "         PLT       0.30      0.09      0.14        34\n",
      "         TIM       0.84      0.94      0.89       314\n",
      "         TRM       0.71      0.73      0.72      1964\n",
      "\n",
      "   micro avg       0.84      0.85      0.85     29248\n",
      "   macro avg       0.70      0.70      0.69     29248\n",
      "weighted avg       0.84      0.85      0.85     29248\n",
      "\n"
     ]
    },
    {
     "name": "stdout",
     "output_type": "stream",
     "text": [
      "Epoch 8/30 : |███████████████████████████████████-----| 89.53% [2267/2532 00:49<00:05]\r"
     ]
    },
    {
     "name": "stderr",
     "output_type": "stream",
     "text": [
      "02/14/2024 04:30:38 - INFO - run_ner -   ***** Running evaluation on test dataset (20000 step) *****\n",
      "02/14/2024 04:30:38 - INFO - run_ner -     Num examples = 9000\n",
      "02/14/2024 04:30:38 - INFO - run_ner -     Eval Batch size = 128\n"
     ]
    },
    {
     "name": "stdout",
     "output_type": "stream",
     "text": [
      " |████████████████████████████████████████| 100.00% [71/71 00:01<00:00]\r"
     ]
    },
    {
     "name": "stderr",
     "output_type": "stream",
     "text": [
      "02/14/2024 04:30:41 - INFO - run_ner -   ***** Eval results on test dataset *****\n",
      "02/14/2024 04:30:41 - INFO - run_ner -     f1 = 0.8494250160186154\n",
      "02/14/2024 04:30:41 - INFO - run_ner -     loss = 0.2123723372187413\n",
      "02/14/2024 04:30:41 - INFO - run_ner -     precision = 0.8379799055160024\n",
      "02/14/2024 04:30:41 - INFO - run_ner -     recall = 0.8611870897155361\n",
      "02/14/2024 04:30:41 - INFO - run_ner -   \n",
      "              precision    recall  f1-score   support\n",
      "\n",
      "         AFW       0.57      0.59      0.58       394\n",
      "         ANM       0.73      0.78      0.76       701\n",
      "         CVL       0.81      0.85      0.83      5758\n",
      "         DAT       0.91      0.94      0.92      2521\n",
      "         EVT       0.75      0.76      0.76      1094\n",
      "         FLD       0.55      0.70      0.62       228\n",
      "         LOC       0.84      0.84      0.84      2126\n",
      "         MAT       0.00      0.00      0.00        12\n",
      "         NUM       0.91      0.93      0.92      5590\n",
      "         ORG       0.88      0.85      0.86      4086\n",
      "         PER       0.86      0.89      0.87      4426\n",
      "         PLT       0.50      0.06      0.11        34\n",
      "         TIM       0.84      0.93      0.89       314\n",
      "         TRM       0.70      0.74      0.72      1964\n",
      "\n",
      "   micro avg       0.84      0.86      0.85     29248\n",
      "   macro avg       0.70      0.70      0.69     29248\n",
      "weighted avg       0.84      0.86      0.85     29248\n",
      "\n"
     ]
    },
    {
     "name": "stdout",
     "output_type": "stream",
     "text": [
      "Epoch 8 done                                                                           \n",
      "Epoch 9/30 : |███████████-----------------------------| 29.03% [735/2532 00:13<00:34]\r"
     ]
    },
    {
     "name": "stderr",
     "output_type": "stream",
     "text": [
      "02/14/2024 04:31:01 - INFO - run_ner -   ***** Running evaluation on test dataset (21000 step) *****\n",
      "02/14/2024 04:31:01 - INFO - run_ner -     Num examples = 9000\n",
      "02/14/2024 04:31:01 - INFO - run_ner -     Eval Batch size = 128\n"
     ]
    },
    {
     "name": "stdout",
     "output_type": "stream",
     "text": [
      " |████████████████████████████████████████| 100.00% [71/71 00:01<00:00]\r"
     ]
    },
    {
     "name": "stderr",
     "output_type": "stream",
     "text": [
      "02/14/2024 04:31:03 - INFO - run_ner -   ***** Eval results on test dataset *****\n",
      "02/14/2024 04:31:03 - INFO - run_ner -     f1 = 0.8504049547403524\n",
      "02/14/2024 04:31:03 - INFO - run_ner -     loss = 0.21587385426104908\n",
      "02/14/2024 04:31:03 - INFO - run_ner -     precision = 0.8464300230321095\n",
      "02/14/2024 04:31:03 - INFO - run_ner -     recall = 0.8544173960612691\n",
      "02/14/2024 04:31:04 - INFO - run_ner -   \n",
      "              precision    recall  f1-score   support\n",
      "\n",
      "         AFW       0.61      0.58      0.59       394\n",
      "         ANM       0.70      0.79      0.75       701\n",
      "         CVL       0.82      0.83      0.83      5758\n",
      "         DAT       0.92      0.93      0.92      2521\n",
      "         EVT       0.75      0.76      0.76      1094\n",
      "         FLD       0.65      0.63      0.64       228\n",
      "         LOC       0.83      0.86      0.84      2126\n",
      "         MAT       0.33      0.08      0.13        12\n",
      "         NUM       0.92      0.93      0.92      5590\n",
      "         ORG       0.87      0.85      0.86      4086\n",
      "         PER       0.86      0.88      0.87      4426\n",
      "         PLT       0.27      0.12      0.16        34\n",
      "         TIM       0.83      0.93      0.88       314\n",
      "         TRM       0.74      0.71      0.72      1964\n",
      "\n",
      "   micro avg       0.85      0.85      0.85     29248\n",
      "   macro avg       0.72      0.71      0.71     29248\n",
      "weighted avg       0.85      0.85      0.85     29248\n",
      "\n"
     ]
    },
    {
     "name": "stdout",
     "output_type": "stream",
     "text": [
      "Epoch 9/30 : |███████████████████████████-------------| 68.52% [1735/2532 00:36<00:16]\r"
     ]
    },
    {
     "name": "stderr",
     "output_type": "stream",
     "text": [
      "02/14/2024 04:31:24 - INFO - run_ner -   ***** Running evaluation on test dataset (22000 step) *****\n",
      "02/14/2024 04:31:24 - INFO - run_ner -     Num examples = 9000\n",
      "02/14/2024 04:31:24 - INFO - run_ner -     Eval Batch size = 128\n"
     ]
    },
    {
     "name": "stdout",
     "output_type": "stream",
     "text": [
      " |████████████████████████████████████████| 100.00% [71/71 00:01<00:00]\r"
     ]
    },
    {
     "name": "stderr",
     "output_type": "stream",
     "text": [
      "02/14/2024 04:31:26 - INFO - run_ner -   ***** Eval results on test dataset *****\n",
      "02/14/2024 04:31:26 - INFO - run_ner -     f1 = 0.8541397373971018\n",
      "02/14/2024 04:31:26 - INFO - run_ner -     loss = 0.21545792759304316\n",
      "02/14/2024 04:31:26 - INFO - run_ner -     precision = 0.849803709218898\n",
      "02/14/2024 04:31:26 - INFO - run_ner -     recall = 0.8585202407002188\n",
      "02/14/2024 04:31:27 - INFO - run_ner -   \n",
      "              precision    recall  f1-score   support\n",
      "\n",
      "         AFW       0.61      0.57      0.59       394\n",
      "         ANM       0.79      0.75      0.77       701\n",
      "         CVL       0.82      0.84      0.83      5758\n",
      "         DAT       0.91      0.94      0.92      2521\n",
      "         EVT       0.75      0.78      0.77      1094\n",
      "         FLD       0.66      0.61      0.63       228\n",
      "         LOC       0.84      0.85      0.85      2126\n",
      "         MAT       0.00      0.00      0.00        12\n",
      "         NUM       0.92      0.93      0.92      5590\n",
      "         ORG       0.87      0.86      0.86      4086\n",
      "         PER       0.87      0.89      0.88      4426\n",
      "         PLT       0.38      0.09      0.14        34\n",
      "         TIM       0.87      0.93      0.90       314\n",
      "         TRM       0.72      0.73      0.73      1964\n",
      "\n",
      "   micro avg       0.85      0.86      0.85     29248\n",
      "   macro avg       0.72      0.70      0.70     29248\n",
      "weighted avg       0.85      0.86      0.85     29248\n",
      "\n"
     ]
    },
    {
     "name": "stdout",
     "output_type": "stream",
     "text": [
      "Epoch 9 done                                                                           \n",
      "Epoch 10/30 : |███-------------------------------------| 8.10% [205/2532 00:03<00:43]\r"
     ]
    },
    {
     "name": "stderr",
     "output_type": "stream",
     "text": [
      "02/14/2024 04:31:46 - INFO - run_ner -   ***** Running evaluation on test dataset (23000 step) *****\n",
      "02/14/2024 04:31:46 - INFO - run_ner -     Num examples = 9000\n",
      "02/14/2024 04:31:46 - INFO - run_ner -     Eval Batch size = 128\n"
     ]
    },
    {
     "name": "stdout",
     "output_type": "stream",
     "text": [
      " |████████████████████████████████████████| 100.00% [71/71 00:01<00:00]\r"
     ]
    },
    {
     "name": "stderr",
     "output_type": "stream",
     "text": [
      "02/14/2024 04:31:49 - INFO - run_ner -   ***** Eval results on test dataset *****\n",
      "02/14/2024 04:31:49 - INFO - run_ner -     f1 = 0.8519429414658142\n",
      "02/14/2024 04:31:49 - INFO - run_ner -     loss = 0.22046206975486918\n",
      "02/14/2024 04:31:49 - INFO - run_ner -     precision = 0.8453330640546636\n",
      "02/14/2024 04:31:49 - INFO - run_ner -     recall = 0.8586570021881839\n",
      "02/14/2024 04:31:49 - INFO - run_ner -   \n",
      "              precision    recall  f1-score   support\n",
      "\n",
      "         AFW       0.57      0.60      0.58       394\n",
      "         ANM       0.75      0.78      0.77       701\n",
      "         CVL       0.83      0.84      0.83      5758\n",
      "         DAT       0.91      0.93      0.92      2521\n",
      "         EVT       0.75      0.78      0.77      1094\n",
      "         FLD       0.64      0.64      0.64       228\n",
      "         LOC       0.84      0.85      0.85      2126\n",
      "         MAT       0.50      0.08      0.14        12\n",
      "         NUM       0.91      0.93      0.92      5590\n",
      "         ORG       0.88      0.85      0.86      4086\n",
      "         PER       0.86      0.89      0.87      4426\n",
      "         PLT       0.50      0.15      0.23        34\n",
      "         TIM       0.83      0.94      0.88       314\n",
      "         TRM       0.71      0.74      0.72      1964\n",
      "\n",
      "   micro avg       0.85      0.86      0.85     29248\n",
      "   macro avg       0.75      0.71      0.71     29248\n",
      "weighted avg       0.85      0.86      0.85     29248\n",
      "\n"
     ]
    },
    {
     "name": "stdout",
     "output_type": "stream",
     "text": [
      "Epoch 10/30 : |███████████████████---------------------| 47.63% [1206/2532 00:26<00:28]\r"
     ]
    },
    {
     "name": "stderr",
     "output_type": "stream",
     "text": [
      "02/14/2024 04:32:09 - INFO - run_ner -   ***** Running evaluation on test dataset (24000 step) *****\n",
      "02/14/2024 04:32:09 - INFO - run_ner -     Num examples = 9000\n",
      "02/14/2024 04:32:09 - INFO - run_ner -     Eval Batch size = 128\n"
     ]
    },
    {
     "name": "stdout",
     "output_type": "stream",
     "text": [
      " |████████████████████████████████████████| 100.00% [71/71 00:01<00:00]\r"
     ]
    },
    {
     "name": "stderr",
     "output_type": "stream",
     "text": [
      "02/14/2024 04:32:11 - INFO - run_ner -   ***** Eval results on test dataset *****\n",
      "02/14/2024 04:32:11 - INFO - run_ner -     f1 = 0.852029814761363\n",
      "02/14/2024 04:32:11 - INFO - run_ner -     loss = 0.21875594325468573\n",
      "02/14/2024 04:32:11 - INFO - run_ner -     precision = 0.8462680022935006\n",
      "02/14/2024 04:32:11 - INFO - run_ner -     recall = 0.8578706236323851\n",
      "02/14/2024 04:32:12 - INFO - run_ner -   \n",
      "              precision    recall  f1-score   support\n",
      "\n",
      "         AFW       0.62      0.60      0.61       394\n",
      "         ANM       0.75      0.80      0.77       701\n",
      "         CVL       0.83      0.83      0.83      5758\n",
      "         DAT       0.91      0.92      0.92      2521\n",
      "         EVT       0.74      0.77      0.76      1094\n",
      "         FLD       0.63      0.61      0.62       228\n",
      "         LOC       0.82      0.86      0.84      2126\n",
      "         MAT       0.33      0.08      0.13        12\n",
      "         NUM       0.91      0.93      0.92      5590\n",
      "         ORG       0.88      0.85      0.86      4086\n",
      "         PER       0.86      0.89      0.88      4426\n",
      "         PLT       0.40      0.12      0.18        34\n",
      "         TIM       0.84      0.94      0.88       314\n",
      "         TRM       0.73      0.74      0.73      1964\n",
      "\n",
      "   micro avg       0.85      0.86      0.85     29248\n",
      "   macro avg       0.73      0.71      0.71     29248\n",
      "weighted avg       0.85      0.86      0.85     29248\n",
      "\n"
     ]
    },
    {
     "name": "stdout",
     "output_type": "stream",
     "text": [
      "Epoch 10/30 : |██████████████████████████████████------| 87.01% [2203/2532 00:48<00:07]\r"
     ]
    },
    {
     "name": "stderr",
     "output_type": "stream",
     "text": [
      "02/14/2024 04:32:31 - INFO - run_ner -   ***** Running evaluation on test dataset (25000 step) *****\n",
      "02/14/2024 04:32:31 - INFO - run_ner -     Num examples = 9000\n",
      "02/14/2024 04:32:31 - INFO - run_ner -     Eval Batch size = 128\n"
     ]
    },
    {
     "name": "stdout",
     "output_type": "stream",
     "text": [
      " |████████████████████████████████████████| 100.00% [71/71 00:01<00:00]\r"
     ]
    },
    {
     "name": "stderr",
     "output_type": "stream",
     "text": [
      "02/14/2024 04:32:33 - INFO - run_ner -   ***** Eval results on test dataset *****\n",
      "02/14/2024 04:32:33 - INFO - run_ner -     f1 = 0.8532023043036259\n",
      "02/14/2024 04:32:33 - INFO - run_ner -     loss = 0.21707214226185437\n",
      "02/14/2024 04:32:33 - INFO - run_ner -     precision = 0.8456939406153433\n",
      "02/14/2024 04:32:33 - INFO - run_ner -     recall = 0.8608451859956237\n",
      "02/14/2024 04:32:34 - INFO - run_ner -   \n",
      "              precision    recall  f1-score   support\n",
      "\n",
      "         AFW       0.59      0.59      0.59       394\n",
      "         ANM       0.74      0.79      0.77       701\n",
      "         CVL       0.80      0.85      0.82      5758\n",
      "         DAT       0.91      0.93      0.92      2521\n",
      "         EVT       0.76      0.76      0.76      1094\n",
      "         FLD       0.69      0.59      0.64       228\n",
      "         LOC       0.85      0.84      0.84      2126\n",
      "         MAT       0.20      0.08      0.12        12\n",
      "         NUM       0.92      0.93      0.93      5590\n",
      "         ORG       0.88      0.85      0.87      4086\n",
      "         PER       0.87      0.89      0.88      4426\n",
      "         PLT       0.38      0.15      0.21        34\n",
      "         TIM       0.86      0.92      0.89       314\n",
      "         TRM       0.73      0.73      0.73      1964\n",
      "\n",
      "   micro avg       0.85      0.86      0.85     29248\n",
      "   macro avg       0.73      0.71      0.71     29248\n",
      "weighted avg       0.85      0.86      0.85     29248\n",
      "\n",
      "02/14/2024 04:32:35 - INFO - run_ner -   Saving best model checkpoint to ../../../../models/KoELECTRA/koelectra-small-v3-naver-ner-ckpt/checkpoint-best\n"
     ]
    },
    {
     "name": "stdout",
     "output_type": "stream",
     "text": [
      "############## save model -- 1000 ##############\n",
      "Epoch 10 done                                                                           \n",
      "Epoch 11/30 : |██████████------------------------------| 26.66% [675/2532 00:12<00:34]\r"
     ]
    },
    {
     "name": "stderr",
     "output_type": "stream",
     "text": [
      "02/14/2024 04:32:53 - INFO - run_ner -   ***** Running evaluation on test dataset (26000 step) *****\n",
      "02/14/2024 04:32:53 - INFO - run_ner -     Num examples = 9000\n",
      "02/14/2024 04:32:53 - INFO - run_ner -     Eval Batch size = 128\n"
     ]
    },
    {
     "name": "stdout",
     "output_type": "stream",
     "text": [
      " |████████████████████████████████████████| 100.00% [71/71 00:01<00:00]\r"
     ]
    },
    {
     "name": "stderr",
     "output_type": "stream",
     "text": [
      "02/14/2024 04:32:56 - INFO - run_ner -   ***** Eval results on test dataset *****\n",
      "02/14/2024 04:32:56 - INFO - run_ner -     f1 = 0.8528397996434333\n",
      "02/14/2024 04:32:56 - INFO - run_ner -     loss = 0.22455103170703833\n",
      "02/14/2024 04:32:56 - INFO - run_ner -     precision = 0.8471008871049347\n",
      "02/14/2024 04:32:56 - INFO - run_ner -     recall = 0.8586570021881839\n",
      "02/14/2024 04:32:56 - INFO - run_ner -   \n",
      "              precision    recall  f1-score   support\n",
      "\n",
      "         AFW       0.57      0.61      0.59       394\n",
      "         ANM       0.76      0.75      0.76       701\n",
      "         CVL       0.83      0.84      0.83      5758\n",
      "         DAT       0.90      0.93      0.92      2521\n",
      "         EVT       0.76      0.77      0.77      1094\n",
      "         FLD       0.61      0.64      0.62       228\n",
      "         LOC       0.85      0.85      0.85      2126\n",
      "         MAT       0.29      0.17      0.21        12\n",
      "         NUM       0.92      0.93      0.92      5590\n",
      "         ORG       0.84      0.87      0.86      4086\n",
      "         PER       0.88      0.89      0.88      4426\n",
      "         PLT       0.36      0.12      0.18        34\n",
      "         TIM       0.85      0.89      0.87       314\n",
      "         TRM       0.73      0.73      0.73      1964\n",
      "\n",
      "   micro avg       0.85      0.86      0.85     29248\n",
      "   macro avg       0.72      0.71      0.71     29248\n",
      "weighted avg       0.85      0.86      0.85     29248\n",
      "\n",
      "02/14/2024 04:32:57 - INFO - run_ner -   Saving best model checkpoint to ../../../../models/KoELECTRA/koelectra-small-v3-naver-ner-ckpt/checkpoint-best\n"
     ]
    },
    {
     "name": "stdout",
     "output_type": "stream",
     "text": [
      "############## save model -- 1000 ##############\n",
      "Epoch 11/30 : |██████████████████████████--------------| 66.11% [1674/2532 00:34<00:17]\r"
     ]
    },
    {
     "name": "stderr",
     "output_type": "stream",
     "text": [
      "02/14/2024 04:33:16 - INFO - run_ner -   ***** Running evaluation on test dataset (27000 step) *****\n",
      "02/14/2024 04:33:16 - INFO - run_ner -     Num examples = 9000\n",
      "02/14/2024 04:33:16 - INFO - run_ner -     Eval Batch size = 128\n"
     ]
    },
    {
     "name": "stdout",
     "output_type": "stream",
     "text": [
      " |████████████████████████████████████████| 100.00% [71/71 00:01<00:00]\r"
     ]
    },
    {
     "name": "stderr",
     "output_type": "stream",
     "text": [
      "02/14/2024 04:33:18 - INFO - run_ner -   ***** Eval results on test dataset *****\n",
      "02/14/2024 04:33:18 - INFO - run_ner -     f1 = 0.8540881575581891\n",
      "02/14/2024 04:33:18 - INFO - run_ner -     loss = 0.21968384296961233\n",
      "02/14/2024 04:33:18 - INFO - run_ner -     precision = 0.8519236656801714\n",
      "02/14/2024 04:33:18 - INFO - run_ner -     recall = 0.8562636761487965\n",
      "02/14/2024 04:33:19 - INFO - run_ner -   \n",
      "              precision    recall  f1-score   support\n",
      "\n",
      "         AFW       0.62      0.57      0.60       394\n",
      "         ANM       0.76      0.78      0.77       701\n",
      "         CVL       0.83      0.83      0.83      5758\n",
      "         DAT       0.92      0.93      0.92      2521\n",
      "         EVT       0.76      0.78      0.77      1094\n",
      "         FLD       0.62      0.67      0.65       228\n",
      "         LOC       0.82      0.86      0.84      2126\n",
      "         MAT       0.25      0.08      0.12        12\n",
      "         NUM       0.91      0.93      0.92      5590\n",
      "         ORG       0.87      0.85      0.86      4086\n",
      "         PER       0.87      0.87      0.87      4426\n",
      "         PLT       0.44      0.21      0.28        34\n",
      "         TIM       0.83      0.93      0.88       314\n",
      "         TRM       0.75      0.72      0.74      1964\n",
      "\n",
      "   micro avg       0.85      0.86      0.85     29248\n",
      "   macro avg       0.73      0.72      0.72     29248\n",
      "weighted avg       0.85      0.86      0.85     29248\n",
      "\n"
     ]
    },
    {
     "name": "stdout",
     "output_type": "stream",
     "text": [
      "Epoch 11 done                                                                           \n",
      "Epoch 12/30 : |██--------------------------------------| 5.73% [145/2532 00:02<00:44]\r"
     ]
    },
    {
     "name": "stderr",
     "output_type": "stream",
     "text": [
      "02/14/2024 04:33:38 - INFO - run_ner -   ***** Running evaluation on test dataset (28000 step) *****\n",
      "02/14/2024 04:33:38 - INFO - run_ner -     Num examples = 9000\n",
      "02/14/2024 04:33:38 - INFO - run_ner -     Eval Batch size = 128\n"
     ]
    },
    {
     "name": "stdout",
     "output_type": "stream",
     "text": [
      " |████████████████████████████████████████| 100.00% [71/71 00:02<00:00]\r"
     ]
    },
    {
     "name": "stderr",
     "output_type": "stream",
     "text": [
      "02/14/2024 04:33:41 - INFO - run_ner -   ***** Eval results on test dataset *****\n",
      "02/14/2024 04:33:41 - INFO - run_ner -     f1 = 0.8533496732026145\n",
      "02/14/2024 04:33:41 - INFO - run_ner -     loss = 0.22571861555039044\n",
      "02/14/2024 04:33:41 - INFO - run_ner -     precision = 0.8496475054229935\n",
      "02/14/2024 04:33:41 - INFO - run_ner -     recall = 0.8570842450765864\n",
      "02/14/2024 04:33:41 - INFO - run_ner -   \n",
      "              precision    recall  f1-score   support\n",
      "\n",
      "         AFW       0.59      0.63      0.61       394\n",
      "         ANM       0.76      0.78      0.77       701\n",
      "         CVL       0.83      0.84      0.83      5758\n",
      "         DAT       0.91      0.93      0.92      2521\n",
      "         EVT       0.75      0.78      0.77      1094\n",
      "         FLD       0.61      0.63      0.62       228\n",
      "         LOC       0.87      0.81      0.84      2126\n",
      "         MAT       0.25      0.08      0.12        12\n",
      "         NUM       0.91      0.93      0.92      5590\n",
      "         ORG       0.86      0.87      0.86      4086\n",
      "         PER       0.87      0.89      0.88      4426\n",
      "         PLT       0.38      0.15      0.21        34\n",
      "         TIM       0.83      0.93      0.88       314\n",
      "         TRM       0.75      0.71      0.73      1964\n",
      "\n",
      "   micro avg       0.85      0.86      0.85     29248\n",
      "   macro avg       0.73      0.71      0.71     29248\n",
      "weighted avg       0.85      0.86      0.85     29248\n",
      "\n"
     ]
    },
    {
     "name": "stdout",
     "output_type": "stream",
     "text": [
      "Epoch 12/30 : |██████████████████----------------------| 45.06% [1141/2532 00:25<00:30]\r"
     ]
    },
    {
     "name": "stderr",
     "output_type": "stream",
     "text": [
      "02/14/2024 04:34:00 - INFO - run_ner -   ***** Running evaluation on test dataset (29000 step) *****\n",
      "02/14/2024 04:34:00 - INFO - run_ner -     Num examples = 9000\n",
      "02/14/2024 04:34:00 - INFO - run_ner -     Eval Batch size = 128\n"
     ]
    },
    {
     "name": "stdout",
     "output_type": "stream",
     "text": [
      " |████████████████████████████████████████| 100.00% [71/71 00:01<00:00]\r"
     ]
    },
    {
     "name": "stderr",
     "output_type": "stream",
     "text": [
      "02/14/2024 04:34:03 - INFO - run_ner -   ***** Eval results on test dataset *****\n",
      "02/14/2024 04:34:03 - INFO - run_ner -     f1 = 0.855411638554627\n",
      "02/14/2024 04:34:03 - INFO - run_ner -     loss = 0.2258067290547868\n",
      "02/14/2024 04:34:03 - INFO - run_ner -     precision = 0.8516861548890019\n",
      "02/14/2024 04:34:03 - INFO - run_ner -     recall = 0.8591698577680525\n",
      "02/14/2024 04:34:04 - INFO - run_ner -   \n",
      "              precision    recall  f1-score   support\n",
      "\n",
      "         AFW       0.61      0.58      0.59       394\n",
      "         ANM       0.74      0.80      0.76       701\n",
      "         CVL       0.82      0.85      0.83      5758\n",
      "         DAT       0.92      0.92      0.92      2521\n",
      "         EVT       0.77      0.77      0.77      1094\n",
      "         FLD       0.63      0.63      0.63       228\n",
      "         LOC       0.83      0.85      0.84      2126\n",
      "         MAT       0.20      0.08      0.12        12\n",
      "         NUM       0.92      0.93      0.92      5590\n",
      "         ORG       0.87      0.86      0.87      4086\n",
      "         PER       0.88      0.88      0.88      4426\n",
      "         PLT       0.45      0.15      0.22        34\n",
      "         TIM       0.83      0.92      0.87       314\n",
      "         TRM       0.75      0.73      0.74      1964\n",
      "\n",
      "   micro avg       0.85      0.86      0.86     29248\n",
      "   macro avg       0.73      0.71      0.71     29248\n",
      "weighted avg       0.85      0.86      0.85     29248\n",
      "\n"
     ]
    },
    {
     "name": "stdout",
     "output_type": "stream",
     "text": [
      "Epoch 12/30 : |█████████████████████████████████-------| 84.56% [2141/2532 00:47<00:08]\r"
     ]
    },
    {
     "name": "stderr",
     "output_type": "stream",
     "text": [
      "02/14/2024 04:34:23 - INFO - run_ner -   ***** Running evaluation on test dataset (30000 step) *****\n",
      "02/14/2024 04:34:23 - INFO - run_ner -     Num examples = 9000\n",
      "02/14/2024 04:34:23 - INFO - run_ner -     Eval Batch size = 128\n"
     ]
    },
    {
     "name": "stdout",
     "output_type": "stream",
     "text": [
      " |████████████████████████████████████████| 100.00% [71/71 00:01<00:00]\r"
     ]
    },
    {
     "name": "stderr",
     "output_type": "stream",
     "text": [
      "02/14/2024 04:34:25 - INFO - run_ner -   ***** Eval results on test dataset *****\n",
      "02/14/2024 04:34:25 - INFO - run_ner -     f1 = 0.8567184058193741\n",
      "02/14/2024 04:34:25 - INFO - run_ner -     loss = 0.22230757122308437\n",
      "02/14/2024 04:34:25 - INFO - run_ner -     precision = 0.8557393825686509\n",
      "02/14/2024 04:34:25 - INFO - run_ner -     recall = 0.8576996717724289\n",
      "02/14/2024 04:34:26 - INFO - run_ner -   \n",
      "              precision    recall  f1-score   support\n",
      "\n",
      "         AFW       0.61      0.60      0.61       394\n",
      "         ANM       0.79      0.75      0.77       701\n",
      "         CVL       0.83      0.84      0.84      5758\n",
      "         DAT       0.91      0.93      0.92      2521\n",
      "         EVT       0.76      0.78      0.77      1094\n",
      "         FLD       0.66      0.60      0.63       228\n",
      "         LOC       0.85      0.84      0.85      2126\n",
      "         MAT       0.20      0.08      0.12        12\n",
      "         NUM       0.91      0.93      0.92      5590\n",
      "         ORG       0.86      0.87      0.86      4086\n",
      "         PER       0.88      0.89      0.88      4426\n",
      "         PLT       0.50      0.15      0.23        34\n",
      "         TIM       0.85      0.93      0.89       314\n",
      "         TRM       0.76      0.71      0.73      1964\n",
      "\n",
      "   micro avg       0.86      0.86      0.86     29248\n",
      "   macro avg       0.74      0.71      0.72     29248\n",
      "weighted avg       0.85      0.86      0.86     29248\n",
      "\n"
     ]
    },
    {
     "name": "stdout",
     "output_type": "stream",
     "text": [
      "Epoch 12 done                                                                           \n",
      "Epoch 13/30 : |█████████-------------------------------| 24.29% [615/2532 00:11<00:35]\r"
     ]
    },
    {
     "name": "stderr",
     "output_type": "stream",
     "text": [
      "02/14/2024 04:34:45 - INFO - run_ner -   ***** Running evaluation on test dataset (31000 step) *****\n",
      "02/14/2024 04:34:45 - INFO - run_ner -     Num examples = 9000\n",
      "02/14/2024 04:34:45 - INFO - run_ner -     Eval Batch size = 128\n"
     ]
    },
    {
     "name": "stdout",
     "output_type": "stream",
     "text": [
      " |████████████████████████████████████████| 100.00% [71/71 00:01<00:00]\r"
     ]
    },
    {
     "name": "stderr",
     "output_type": "stream",
     "text": [
      "02/14/2024 04:34:48 - INFO - run_ner -   ***** Eval results on test dataset *****\n",
      "02/14/2024 04:34:48 - INFO - run_ner -     f1 = 0.8553226190071693\n",
      "02/14/2024 04:34:48 - INFO - run_ner -     loss = 0.23057373455712493\n",
      "02/14/2024 04:34:48 - INFO - run_ner -     precision = 0.8500371445937732\n",
      "02/14/2024 04:34:48 - INFO - run_ner -     recall = 0.8606742341356673\n",
      "02/14/2024 04:34:48 - INFO - run_ner -   \n",
      "              precision    recall  f1-score   support\n",
      "\n",
      "         AFW       0.59      0.61      0.60       394\n",
      "         ANM       0.75      0.79      0.77       701\n",
      "         CVL       0.85      0.83      0.84      5758\n",
      "         DAT       0.91      0.93      0.92      2521\n",
      "         EVT       0.77      0.78      0.78      1094\n",
      "         FLD       0.62      0.67      0.65       228\n",
      "         LOC       0.85      0.84      0.85      2126\n",
      "         MAT       0.29      0.17      0.21        12\n",
      "         NUM       0.91      0.93      0.92      5590\n",
      "         ORG       0.88      0.86      0.87      4086\n",
      "         PER       0.87      0.89      0.88      4426\n",
      "         PLT       0.33      0.12      0.17        34\n",
      "         TIM       0.83      0.93      0.88       314\n",
      "         TRM       0.69      0.76      0.72      1964\n",
      "\n",
      "   micro avg       0.85      0.86      0.86     29248\n",
      "   macro avg       0.72      0.72      0.72     29248\n",
      "weighted avg       0.85      0.86      0.86     29248\n",
      "\n"
     ]
    },
    {
     "name": "stdout",
     "output_type": "stream",
     "text": [
      "Epoch 13/30 : |█████████████████████████---------------| 63.74% [1614/2532 00:33<00:19]\r"
     ]
    },
    {
     "name": "stderr",
     "output_type": "stream",
     "text": [
      "02/14/2024 04:35:08 - INFO - run_ner -   ***** Running evaluation on test dataset (32000 step) *****\n",
      "02/14/2024 04:35:08 - INFO - run_ner -     Num examples = 9000\n",
      "02/14/2024 04:35:08 - INFO - run_ner -     Eval Batch size = 128\n"
     ]
    },
    {
     "name": "stdout",
     "output_type": "stream",
     "text": [
      " |████████████████████████████████████████| 100.00% [71/71 00:01<00:00]\r"
     ]
    },
    {
     "name": "stderr",
     "output_type": "stream",
     "text": [
      "02/14/2024 04:35:10 - INFO - run_ner -   ***** Eval results on test dataset *****\n",
      "02/14/2024 04:35:10 - INFO - run_ner -     f1 = 0.8539132488654193\n",
      "02/14/2024 04:35:10 - INFO - run_ner -     loss = 0.22981952718445953\n",
      "02/14/2024 04:35:10 - INFO - run_ner -     precision = 0.842864279766861\n",
      "02/14/2024 04:35:10 - INFO - run_ner -     recall = 0.8652557439824945\n",
      "02/14/2024 04:35:11 - INFO - run_ner -   \n",
      "              precision    recall  f1-score   support\n",
      "\n",
      "         AFW       0.57      0.61      0.59       394\n",
      "         ANM       0.74      0.79      0.76       701\n",
      "         CVL       0.82      0.85      0.84      5758\n",
      "         DAT       0.91      0.92      0.92      2521\n",
      "         EVT       0.76      0.78      0.77      1094\n",
      "         FLD       0.62      0.66      0.64       228\n",
      "         LOC       0.82      0.86      0.84      2126\n",
      "         MAT       0.17      0.08      0.11        12\n",
      "         NUM       0.91      0.93      0.92      5590\n",
      "         ORG       0.86      0.86      0.86      4086\n",
      "         PER       0.88      0.88      0.88      4426\n",
      "         PLT       0.40      0.18      0.24        34\n",
      "         TIM       0.85      0.92      0.89       314\n",
      "         TRM       0.72      0.76      0.74      1964\n",
      "\n",
      "   micro avg       0.84      0.87      0.85     29248\n",
      "   macro avg       0.72      0.72      0.71     29248\n",
      "weighted avg       0.84      0.87      0.85     29248\n",
      "\n"
     ]
    },
    {
     "name": "stdout",
     "output_type": "stream",
     "text": [
      "Epoch 13 done                                                                           \n",
      "Epoch 14/30 : |█---------------------------------------| 2.96% [75/2532 00:01<00:45]\r"
     ]
    },
    {
     "name": "stderr",
     "output_type": "stream",
     "text": [
      "02/14/2024 04:35:30 - INFO - run_ner -   ***** Running evaluation on test dataset (33000 step) *****\n",
      "02/14/2024 04:35:30 - INFO - run_ner -     Num examples = 9000\n",
      "02/14/2024 04:35:30 - INFO - run_ner -     Eval Batch size = 128\n"
     ]
    },
    {
     "name": "stdout",
     "output_type": "stream",
     "text": [
      " |████████████████████████████████████████| 100.00% [71/71 00:01<00:00]\r"
     ]
    },
    {
     "name": "stderr",
     "output_type": "stream",
     "text": [
      "02/14/2024 04:35:33 - INFO - run_ner -   ***** Eval results on test dataset *****\n",
      "02/14/2024 04:35:33 - INFO - run_ner -     f1 = 0.8533351327642633\n",
      "02/14/2024 04:35:33 - INFO - run_ner -     loss = 0.2335759978479063\n",
      "02/14/2024 04:35:33 - INFO - run_ner -     precision = 0.8422244422244423\n",
      "02/14/2024 04:35:33 - INFO - run_ner -     recall = 0.8647428884026258\n",
      "02/14/2024 04:35:33 - INFO - run_ner -   \n",
      "              precision    recall  f1-score   support\n",
      "\n",
      "         AFW       0.56      0.63      0.59       394\n",
      "         ANM       0.75      0.80      0.77       701\n",
      "         CVL       0.83      0.84      0.83      5758\n",
      "         DAT       0.91      0.93      0.92      2521\n",
      "         EVT       0.75      0.77      0.76      1094\n",
      "         FLD       0.62      0.65      0.64       228\n",
      "         LOC       0.83      0.85      0.84      2126\n",
      "         MAT       0.14      0.08      0.11        12\n",
      "         NUM       0.91      0.93      0.92      5590\n",
      "         ORG       0.86      0.87      0.86      4086\n",
      "         PER       0.87      0.89      0.88      4426\n",
      "         PLT       0.42      0.15      0.22        34\n",
      "         TIM       0.84      0.93      0.88       314\n",
      "         TRM       0.72      0.76      0.74      1964\n",
      "\n",
      "   micro avg       0.84      0.86      0.85     29248\n",
      "   macro avg       0.71      0.72      0.71     29248\n",
      "weighted avg       0.84      0.86      0.85     29248\n",
      "\n",
      "02/14/2024 04:35:34 - INFO - run_ner -   Saving best model checkpoint to ../../../../models/KoELECTRA/koelectra-small-v3-naver-ner-ckpt/checkpoint-best\n"
     ]
    },
    {
     "name": "stdout",
     "output_type": "stream",
     "text": [
      "############## save model -- 1000 ##############\n",
      "Epoch 14/30 : |█████████████████-----------------------| 42.65% [1080/2532 00:23<00:32]\r"
     ]
    },
    {
     "name": "stderr",
     "output_type": "stream",
     "text": [
      "02/14/2024 04:35:52 - INFO - run_ner -   ***** Running evaluation on test dataset (34000 step) *****\n",
      "02/14/2024 04:35:52 - INFO - run_ner -     Num examples = 9000\n",
      "02/14/2024 04:35:52 - INFO - run_ner -     Eval Batch size = 128\n"
     ]
    },
    {
     "name": "stdout",
     "output_type": "stream",
     "text": [
      " |████████████████████████████████████████| 100.00% [71/71 00:01<00:00]\r"
     ]
    },
    {
     "name": "stderr",
     "output_type": "stream",
     "text": [
      "02/14/2024 04:35:55 - INFO - run_ner -   ***** Eval results on test dataset *****\n",
      "02/14/2024 04:35:55 - INFO - run_ner -     f1 = 0.8562234698069286\n",
      "02/14/2024 04:35:55 - INFO - run_ner -     loss = 0.23350883243789136\n",
      "02/14/2024 04:35:55 - INFO - run_ner -     precision = 0.8572799561283246\n",
      "02/14/2024 04:35:55 - INFO - run_ner -     recall = 0.8551695842450766\n",
      "02/14/2024 04:35:56 - INFO - run_ner -   \n",
      "              precision    recall  f1-score   support\n",
      "\n",
      "         AFW       0.60      0.60      0.60       394\n",
      "         ANM       0.78      0.75      0.77       701\n",
      "         CVL       0.84      0.83      0.83      5758\n",
      "         DAT       0.92      0.93      0.92      2521\n",
      "         EVT       0.75      0.78      0.76      1094\n",
      "         FLD       0.65      0.63      0.64       228\n",
      "         LOC       0.84      0.85      0.85      2126\n",
      "         MAT       0.17      0.08      0.11        12\n",
      "         NUM       0.91      0.93      0.92      5590\n",
      "         ORG       0.88      0.85      0.87      4086\n",
      "         PER       0.87      0.89      0.88      4426\n",
      "         PLT       0.32      0.18      0.23        34\n",
      "         TIM       0.83      0.93      0.88       314\n",
      "         TRM       0.78      0.70      0.74      1964\n",
      "\n",
      "   micro avg       0.86      0.86      0.86     29248\n",
      "   macro avg       0.72      0.71      0.71     29248\n",
      "weighted avg       0.86      0.86      0.86     29248\n",
      "\n"
     ]
    },
    {
     "name": "stdout",
     "output_type": "stream",
     "text": [
      "Epoch 14/30 : |████████████████████████████████--------| 82.07% [2078/2532 00:46<00:10]\r"
     ]
    },
    {
     "name": "stderr",
     "output_type": "stream",
     "text": [
      "02/14/2024 04:36:15 - INFO - run_ner -   ***** Running evaluation on test dataset (35000 step) *****\n",
      "02/14/2024 04:36:15 - INFO - run_ner -     Num examples = 9000\n",
      "02/14/2024 04:36:15 - INFO - run_ner -     Eval Batch size = 128\n"
     ]
    },
    {
     "name": "stdout",
     "output_type": "stream",
     "text": [
      " |████████████████████████████████████████| 100.00% [71/71 00:01<00:00]\r"
     ]
    },
    {
     "name": "stderr",
     "output_type": "stream",
     "text": [
      "02/14/2024 04:36:17 - INFO - run_ner -   ***** Eval results on test dataset *****\n",
      "02/14/2024 04:36:17 - INFO - run_ner -     f1 = 0.8565484311050477\n",
      "02/14/2024 04:36:17 - INFO - run_ner -     loss = 0.23180751250663273\n",
      "02/14/2024 04:36:17 - INFO - run_ner -     precision = 0.8544501905280348\n",
      "02/14/2024 04:36:17 - INFO - run_ner -     recall = 0.8586570021881839\n",
      "02/14/2024 04:36:18 - INFO - run_ner -   \n",
      "              precision    recall  f1-score   support\n",
      "\n",
      "         AFW       0.54      0.63      0.58       394\n",
      "         ANM       0.75      0.78      0.77       701\n",
      "         CVL       0.84      0.83      0.84      5758\n",
      "         DAT       0.91      0.93      0.92      2521\n",
      "         EVT       0.75      0.78      0.77      1094\n",
      "         FLD       0.63      0.63      0.63       228\n",
      "         LOC       0.84      0.85      0.85      2126\n",
      "         MAT       0.12      0.08      0.10        12\n",
      "         NUM       0.92      0.93      0.92      5590\n",
      "         ORG       0.87      0.86      0.87      4086\n",
      "         PER       0.88      0.88      0.88      4426\n",
      "         PLT       0.32      0.21      0.25        34\n",
      "         TIM       0.83      0.93      0.88       314\n",
      "         TRM       0.74      0.73      0.74      1964\n",
      "\n",
      "   micro avg       0.85      0.86      0.86     29248\n",
      "   macro avg       0.71      0.72      0.71     29248\n",
      "weighted avg       0.85      0.86      0.86     29248\n",
      "\n"
     ]
    },
    {
     "name": "stdout",
     "output_type": "stream",
     "text": [
      "Epoch 14 done                                                                           \n",
      "Epoch 15/30 : |████████--------------------------------| 21.52% [545/2532 00:10<00:36]\r"
     ]
    },
    {
     "name": "stderr",
     "output_type": "stream",
     "text": [
      "02/14/2024 04:36:37 - INFO - run_ner -   ***** Running evaluation on test dataset (36000 step) *****\n",
      "02/14/2024 04:36:37 - INFO - run_ner -     Num examples = 9000\n",
      "02/14/2024 04:36:37 - INFO - run_ner -     Eval Batch size = 128\n"
     ]
    },
    {
     "name": "stdout",
     "output_type": "stream",
     "text": [
      " |████████████████████████████████████████| 100.00% [71/71 00:01<00:00]\r"
     ]
    },
    {
     "name": "stderr",
     "output_type": "stream",
     "text": [
      "02/14/2024 04:36:40 - INFO - run_ner -   ***** Eval results on test dataset *****\n",
      "02/14/2024 04:36:40 - INFO - run_ner -     f1 = 0.8551326608459778\n",
      "02/14/2024 04:36:40 - INFO - run_ner -     loss = 0.24011625517422044\n",
      "02/14/2024 04:36:40 - INFO - run_ner -     precision = 0.8481016914954433\n",
      "02/14/2024 04:36:40 - INFO - run_ner -     recall = 0.862281181619256\n",
      "02/14/2024 04:36:40 - INFO - run_ner -   \n",
      "              precision    recall  f1-score   support\n",
      "\n",
      "         AFW       0.60      0.62      0.61       394\n",
      "         ANM       0.79      0.76      0.78       701\n",
      "         CVL       0.82      0.85      0.83      5758\n",
      "         DAT       0.91      0.93      0.92      2521\n",
      "         EVT       0.77      0.78      0.78      1094\n",
      "         FLD       0.61      0.65      0.63       228\n",
      "         LOC       0.84      0.85      0.85      2126\n",
      "         MAT       0.25      0.08      0.12        12\n",
      "         NUM       0.91      0.93      0.92      5590\n",
      "         ORG       0.87      0.87      0.87      4086\n",
      "         PER       0.88      0.89      0.88      4426\n",
      "         PLT       0.38      0.15      0.21        34\n",
      "         TIM       0.84      0.92      0.88       314\n",
      "         TRM       0.73      0.74      0.73      1964\n",
      "\n",
      "   micro avg       0.85      0.86      0.86     29248\n",
      "   macro avg       0.73      0.71      0.72     29248\n",
      "weighted avg       0.85      0.86      0.85     29248\n",
      "\n"
     ]
    },
    {
     "name": "stdout",
     "output_type": "stream",
     "text": [
      "Epoch 15/30 : |████████████████████████----------------| 61.22% [1550/2532 00:32<00:20]\r"
     ]
    },
    {
     "name": "stderr",
     "output_type": "stream",
     "text": [
      "02/14/2024 04:36:59 - INFO - run_ner -   ***** Running evaluation on test dataset (37000 step) *****\n",
      "02/14/2024 04:36:59 - INFO - run_ner -     Num examples = 9000\n",
      "02/14/2024 04:36:59 - INFO - run_ner -     Eval Batch size = 128\n"
     ]
    },
    {
     "name": "stdout",
     "output_type": "stream",
     "text": [
      " |████████████████████████████████████████| 100.00% [71/71 00:01<00:00]\r"
     ]
    },
    {
     "name": "stderr",
     "output_type": "stream",
     "text": [
      "02/14/2024 04:37:02 - INFO - run_ner -   ***** Eval results on test dataset *****\n",
      "02/14/2024 04:37:02 - INFO - run_ner -     f1 = 0.8559900577129333\n",
      "02/14/2024 04:37:02 - INFO - run_ner -     loss = 0.23915040493011475\n",
      "02/14/2024 04:37:02 - INFO - run_ner -     precision = 0.8524634634295208\n",
      "02/14/2024 04:37:02 - INFO - run_ner -     recall = 0.8595459518599562\n",
      "02/14/2024 04:37:03 - INFO - run_ner -   \n",
      "              precision    recall  f1-score   support\n",
      "\n",
      "         AFW       0.62      0.62      0.62       394\n",
      "         ANM       0.77      0.79      0.78       701\n",
      "         CVL       0.84      0.83      0.84      5758\n",
      "         DAT       0.91      0.93      0.92      2521\n",
      "         EVT       0.74      0.78      0.76      1094\n",
      "         FLD       0.57      0.71      0.63       228\n",
      "         LOC       0.85      0.86      0.85      2126\n",
      "         MAT       0.18      0.17      0.17        12\n",
      "         NUM       0.91      0.93      0.92      5590\n",
      "         ORG       0.86      0.86      0.86      4086\n",
      "         PER       0.88      0.88      0.88      4426\n",
      "         PLT       0.38      0.15      0.21        34\n",
      "         TIM       0.86      0.93      0.90       314\n",
      "         TRM       0.73      0.74      0.73      1964\n",
      "\n",
      "   micro avg       0.85      0.86      0.86     29248\n",
      "   macro avg       0.72      0.73      0.72     29248\n",
      "weighted avg       0.85      0.86      0.86     29248\n",
      "\n"
     ]
    },
    {
     "name": "stdout",
     "output_type": "stream",
     "text": [
      "Epoch 15 done                                                                           \n",
      "Epoch 16/30 : |----------------------------------------| 0.59% [15/2532 00:00<00:47]\r"
     ]
    },
    {
     "name": "stderr",
     "output_type": "stream",
     "text": [
      "02/14/2024 04:37:22 - INFO - run_ner -   ***** Running evaluation on test dataset (38000 step) *****\n",
      "02/14/2024 04:37:22 - INFO - run_ner -     Num examples = 9000\n",
      "02/14/2024 04:37:22 - INFO - run_ner -     Eval Batch size = 128\n"
     ]
    },
    {
     "name": "stdout",
     "output_type": "stream",
     "text": [
      " |████████████████████████████████████████| 100.00% [71/71 00:01<00:00]\r"
     ]
    },
    {
     "name": "stderr",
     "output_type": "stream",
     "text": [
      "02/14/2024 04:37:24 - INFO - run_ner -   ***** Eval results on test dataset *****\n",
      "02/14/2024 04:37:24 - INFO - run_ner -     f1 = 0.8587080419877847\n",
      "02/14/2024 04:37:24 - INFO - run_ner -     loss = 0.23502347251059305\n",
      "02/14/2024 04:37:24 - INFO - run_ner -     precision = 0.8545934780400257\n",
      "02/14/2024 04:37:24 - INFO - run_ner -     recall = 0.8628624179431073\n",
      "02/14/2024 04:37:25 - INFO - run_ner -   \n",
      "              precision    recall  f1-score   support\n",
      "\n",
      "         AFW       0.66      0.59      0.62       394\n",
      "         ANM       0.76      0.79      0.77       701\n",
      "         CVL       0.83      0.85      0.84      5758\n",
      "         DAT       0.92      0.93      0.92      2521\n",
      "         EVT       0.77      0.78      0.78      1094\n",
      "         FLD       0.62      0.67      0.64       228\n",
      "         LOC       0.87      0.84      0.85      2126\n",
      "         MAT       0.00      0.00      0.00        12\n",
      "         NUM       0.91      0.93      0.92      5590\n",
      "         ORG       0.87      0.86      0.87      4086\n",
      "         PER       0.87      0.89      0.88      4426\n",
      "         PLT       0.38      0.15      0.21        34\n",
      "         TIM       0.85      0.93      0.89       314\n",
      "         TRM       0.74      0.73      0.74      1964\n",
      "\n",
      "   micro avg       0.85      0.86      0.86     29248\n",
      "   macro avg       0.72      0.71      0.71     29248\n",
      "weighted avg       0.85      0.86      0.86     29248\n",
      "\n",
      "02/14/2024 04:37:26 - INFO - run_ner -   Saving best model checkpoint to ../../../../models/KoELECTRA/koelectra-small-v3-naver-ner-ckpt/checkpoint-best\n"
     ]
    },
    {
     "name": "stdout",
     "output_type": "stream",
     "text": [
      "############## save model -- 1000 ##############\n",
      "Epoch 16/30 : |███████████████-------------------------| 39.97% [1012/2532 00:22<00:33]\r"
     ]
    },
    {
     "name": "stderr",
     "output_type": "stream",
     "text": [
      "02/14/2024 04:37:44 - INFO - run_ner -   ***** Running evaluation on test dataset (39000 step) *****\n",
      "02/14/2024 04:37:44 - INFO - run_ner -     Num examples = 9000\n",
      "02/14/2024 04:37:44 - INFO - run_ner -     Eval Batch size = 128\n"
     ]
    },
    {
     "name": "stdout",
     "output_type": "stream",
     "text": [
      " |████████████████████████████████████████| 100.00% [71/71 00:01<00:00]\r"
     ]
    },
    {
     "name": "stderr",
     "output_type": "stream",
     "text": [
      "02/14/2024 04:37:47 - INFO - run_ner -   ***** Eval results on test dataset *****\n",
      "02/14/2024 04:37:47 - INFO - run_ner -     f1 = 0.8551292884907892\n",
      "02/14/2024 04:37:47 - INFO - run_ner -     loss = 0.24691891796152357\n",
      "02/14/2024 04:37:47 - INFO - run_ner -     precision = 0.845498295568478\n",
      "02/14/2024 04:37:47 - INFO - run_ner -     recall = 0.8649822210065645\n",
      "02/14/2024 04:37:47 - INFO - run_ner -   \n",
      "              precision    recall  f1-score   support\n",
      "\n",
      "         AFW       0.60      0.62      0.61       394\n",
      "         ANM       0.74      0.81      0.78       701\n",
      "         CVL       0.83      0.85      0.84      5758\n",
      "         DAT       0.91      0.93      0.92      2521\n",
      "         EVT       0.75      0.79      0.77      1094\n",
      "         FLD       0.57      0.68      0.62       228\n",
      "         LOC       0.83      0.86      0.84      2126\n",
      "         MAT       0.19      0.33      0.24        12\n",
      "         NUM       0.91      0.93      0.92      5590\n",
      "         ORG       0.88      0.86      0.87      4086\n",
      "         PER       0.87      0.89      0.88      4426\n",
      "         PLT       0.26      0.18      0.21        34\n",
      "         TIM       0.86      0.93      0.89       314\n",
      "         TRM       0.73      0.74      0.74      1964\n",
      "\n",
      "   micro avg       0.85      0.86      0.86     29248\n",
      "   macro avg       0.71      0.74      0.72     29248\n",
      "weighted avg       0.85      0.86      0.86     29248\n",
      "\n"
     ]
    },
    {
     "name": "stdout",
     "output_type": "stream",
     "text": [
      "Epoch 16/30 : |███████████████████████████████---------| 79.50% [2013/2532 00:44<00:11]\r"
     ]
    },
    {
     "name": "stderr",
     "output_type": "stream",
     "text": [
      "02/14/2024 04:38:07 - INFO - run_ner -   ***** Running evaluation on test dataset (40000 step) *****\n",
      "02/14/2024 04:38:07 - INFO - run_ner -     Num examples = 9000\n",
      "02/14/2024 04:38:07 - INFO - run_ner -     Eval Batch size = 128\n"
     ]
    },
    {
     "name": "stdout",
     "output_type": "stream",
     "text": [
      " |████████████████████████████████████████| 100.00% [71/71 00:01<00:00]\r"
     ]
    },
    {
     "name": "stderr",
     "output_type": "stream",
     "text": [
      "02/14/2024 04:38:09 - INFO - run_ner -   ***** Eval results on test dataset *****\n",
      "02/14/2024 04:38:09 - INFO - run_ner -     f1 = 0.856720676653419\n",
      "02/14/2024 04:38:09 - INFO - run_ner -     loss = 0.24030440311196824\n",
      "02/14/2024 04:38:09 - INFO - run_ner -     precision = 0.8511981100236247\n",
      "02/14/2024 04:38:09 - INFO - run_ner -     recall = 0.8623153719912473\n",
      "02/14/2024 04:38:10 - INFO - run_ner -   \n",
      "              precision    recall  f1-score   support\n",
      "\n",
      "         AFW       0.55      0.62      0.58       394\n",
      "         ANM       0.78      0.77      0.77       701\n",
      "         CVL       0.84      0.84      0.84      5758\n",
      "         DAT       0.91      0.94      0.92      2521\n",
      "         EVT       0.75      0.78      0.77      1094\n",
      "         FLD       0.61      0.67      0.64       228\n",
      "         LOC       0.84      0.86      0.85      2126\n",
      "         MAT       0.20      0.25      0.22        12\n",
      "         NUM       0.91      0.93      0.92      5590\n",
      "         ORG       0.87      0.86      0.87      4086\n",
      "         PER       0.88      0.88      0.88      4426\n",
      "         PLT       0.28      0.21      0.24        34\n",
      "         TIM       0.85      0.93      0.89       314\n",
      "         TRM       0.74      0.75      0.74      1964\n",
      "\n",
      "   micro avg       0.85      0.86      0.86     29248\n",
      "   macro avg       0.71      0.74      0.72     29248\n",
      "weighted avg       0.85      0.86      0.86     29248\n",
      "\n",
      "02/14/2024 04:38:10 - INFO - run_ner -   Saving best model checkpoint to ../../../../models/KoELECTRA/koelectra-small-v3-naver-ner-ckpt/checkpoint-best\n"
     ]
    },
    {
     "name": "stdout",
     "output_type": "stream",
     "text": [
      "############## save model -- 1000 ##############\n",
      "Epoch 16 done                                                                           \n",
      "Epoch 17/30 : |███████---------------------------------| 19.15% [485/2532 00:08<00:37]\r"
     ]
    },
    {
     "name": "stderr",
     "output_type": "stream",
     "text": [
      "02/14/2024 04:38:29 - INFO - run_ner -   ***** Running evaluation on test dataset (41000 step) *****\n",
      "02/14/2024 04:38:29 - INFO - run_ner -     Num examples = 9000\n",
      "02/14/2024 04:38:29 - INFO - run_ner -     Eval Batch size = 128\n"
     ]
    },
    {
     "name": "stdout",
     "output_type": "stream",
     "text": [
      " |████████████████████████████████████████| 100.00% [71/71 00:01<00:00]\r"
     ]
    },
    {
     "name": "stderr",
     "output_type": "stream",
     "text": [
      "02/14/2024 04:38:31 - INFO - run_ner -   ***** Eval results on test dataset *****\n",
      "02/14/2024 04:38:31 - INFO - run_ner -     f1 = 0.857292795232936\n",
      "02/14/2024 04:38:31 - INFO - run_ner -     loss = 0.24395600443994495\n",
      "02/14/2024 04:38:31 - INFO - run_ner -     precision = 0.8490142167381974\n",
      "02/14/2024 04:38:31 - INFO - run_ner -     recall = 0.865734409190372\n",
      "02/14/2024 04:38:32 - INFO - run_ner -   \n",
      "              precision    recall  f1-score   support\n",
      "\n",
      "         AFW       0.60      0.62      0.61       394\n",
      "         ANM       0.76      0.80      0.78       701\n",
      "         CVL       0.84      0.84      0.84      5758\n",
      "         DAT       0.91      0.93      0.92      2521\n",
      "         EVT       0.77      0.78      0.77      1094\n",
      "         FLD       0.61      0.67      0.64       228\n",
      "         LOC       0.82      0.87      0.85      2126\n",
      "         MAT       0.20      0.17      0.18        12\n",
      "         NUM       0.91      0.93      0.92      5590\n",
      "         ORG       0.87      0.86      0.87      4086\n",
      "         PER       0.88      0.89      0.88      4426\n",
      "         PLT       0.38      0.18      0.24        34\n",
      "         TIM       0.86      0.93      0.90       314\n",
      "         TRM       0.72      0.76      0.74      1964\n",
      "\n",
      "   micro avg       0.85      0.87      0.86     29248\n",
      "   macro avg       0.72      0.73      0.72     29248\n",
      "weighted avg       0.85      0.87      0.86     29248\n",
      "\n"
     ]
    },
    {
     "name": "stdout",
     "output_type": "stream",
     "text": [
      "Epoch 17/30 : |███████████████████████-----------------| 58.41% [1479/2532 00:31<00:22]\r"
     ]
    },
    {
     "name": "stderr",
     "output_type": "stream",
     "text": [
      "02/14/2024 04:38:51 - INFO - run_ner -   ***** Running evaluation on test dataset (42000 step) *****\n",
      "02/14/2024 04:38:51 - INFO - run_ner -     Num examples = 9000\n",
      "02/14/2024 04:38:51 - INFO - run_ner -     Eval Batch size = 128\n"
     ]
    },
    {
     "name": "stdout",
     "output_type": "stream",
     "text": [
      " |████████████████████████████████████████| 100.00% [71/71 00:01<00:00]\r"
     ]
    },
    {
     "name": "stderr",
     "output_type": "stream",
     "text": [
      "02/14/2024 04:38:54 - INFO - run_ner -   ***** Eval results on test dataset *****\n",
      "02/14/2024 04:38:54 - INFO - run_ner -     f1 = 0.8568469661471596\n",
      "02/14/2024 04:38:54 - INFO - run_ner -     loss = 0.24376855160988553\n",
      "02/14/2024 04:38:54 - INFO - run_ner -     precision = 0.8509813178660551\n",
      "02/14/2024 04:38:54 - INFO - run_ner -     recall = 0.8627940371991247\n",
      "02/14/2024 04:38:54 - INFO - run_ner -   \n",
      "              precision    recall  f1-score   support\n",
      "\n",
      "         AFW       0.54      0.62      0.58       394\n",
      "         ANM       0.77      0.79      0.78       701\n",
      "         CVL       0.84      0.84      0.84      5758\n",
      "         DAT       0.91      0.93      0.92      2521\n",
      "         EVT       0.76      0.78      0.77      1094\n",
      "         FLD       0.64      0.63      0.63       228\n",
      "         LOC       0.84      0.86      0.85      2126\n",
      "         MAT       0.10      0.08      0.09        12\n",
      "         NUM       0.91      0.93      0.92      5590\n",
      "         ORG       0.87      0.86      0.87      4086\n",
      "         PER       0.89      0.88      0.88      4426\n",
      "         PLT       0.29      0.15      0.20        34\n",
      "         TIM       0.86      0.92      0.89       314\n",
      "         TRM       0.73      0.75      0.74      1964\n",
      "\n",
      "   micro avg       0.85      0.86      0.86     29248\n",
      "   macro avg       0.71      0.72      0.71     29248\n",
      "weighted avg       0.85      0.86      0.86     29248\n",
      "\n"
     ]
    },
    {
     "name": "stdout",
     "output_type": "stream",
     "text": [
      "Epoch 17/30 : |███████████████████████████████████████-| 98.06% [2483/2532 00:53<00:01]\r"
     ]
    },
    {
     "name": "stderr",
     "output_type": "stream",
     "text": [
      "02/14/2024 04:39:13 - INFO - run_ner -   ***** Running evaluation on test dataset (43000 step) *****\n",
      "02/14/2024 04:39:13 - INFO - run_ner -     Num examples = 9000\n",
      "02/14/2024 04:39:13 - INFO - run_ner -     Eval Batch size = 128\n"
     ]
    },
    {
     "name": "stdout",
     "output_type": "stream",
     "text": [
      " |████████████████████████████████████████| 100.00% [71/71 00:01<00:00]\r"
     ]
    },
    {
     "name": "stderr",
     "output_type": "stream",
     "text": [
      "02/14/2024 04:39:16 - INFO - run_ner -   ***** Eval results on test dataset *****\n",
      "02/14/2024 04:39:16 - INFO - run_ner -     f1 = 0.8555643785162783\n",
      "02/14/2024 04:39:16 - INFO - run_ner -     loss = 0.24808167110026721\n",
      "02/14/2024 04:39:16 - INFO - run_ner -     precision = 0.8456631375037574\n",
      "02/14/2024 04:39:16 - INFO - run_ner -     recall = 0.8657002188183808\n",
      "02/14/2024 04:39:17 - INFO - run_ner -   \n",
      "              precision    recall  f1-score   support\n",
      "\n",
      "         AFW       0.59      0.60      0.60       394\n",
      "         ANM       0.74      0.80      0.77       701\n",
      "         CVL       0.83      0.85      0.84      5758\n",
      "         DAT       0.91      0.94      0.92      2521\n",
      "         EVT       0.74      0.78      0.76      1094\n",
      "         FLD       0.58      0.67      0.62       228\n",
      "         LOC       0.85      0.84      0.85      2126\n",
      "         MAT       0.14      0.17      0.15        12\n",
      "         NUM       0.91      0.93      0.92      5590\n",
      "         ORG       0.86      0.87      0.86      4086\n",
      "         PER       0.87      0.89      0.88      4426\n",
      "         PLT       0.26      0.18      0.21        34\n",
      "         TIM       0.85      0.93      0.89       314\n",
      "         TRM       0.71      0.76      0.74      1964\n",
      "\n",
      "   micro avg       0.85      0.87      0.86     29248\n",
      "   macro avg       0.70      0.73      0.72     29248\n",
      "weighted avg       0.85      0.87      0.86     29248\n",
      "\n"
     ]
    },
    {
     "name": "stdout",
     "output_type": "stream",
     "text": [
      "Epoch 17 done                                                                           \n",
      "Epoch 18/30 : |███████████████-------------------------| 37.72% [955/2532 00:17<00:29]\r"
     ]
    },
    {
     "name": "stderr",
     "output_type": "stream",
     "text": [
      "02/14/2024 04:39:36 - INFO - run_ner -   ***** Running evaluation on test dataset (44000 step) *****\n",
      "02/14/2024 04:39:36 - INFO - run_ner -     Num examples = 9000\n",
      "02/14/2024 04:39:36 - INFO - run_ner -     Eval Batch size = 128\n"
     ]
    },
    {
     "name": "stdout",
     "output_type": "stream",
     "text": [
      " |████████████████████████████████████████| 100.00% [71/71 00:01<00:00]\r"
     ]
    },
    {
     "name": "stderr",
     "output_type": "stream",
     "text": [
      "02/14/2024 04:39:38 - INFO - run_ner -   ***** Eval results on test dataset *****\n",
      "02/14/2024 04:39:38 - INFO - run_ner -     f1 = 0.8558823030323599\n",
      "02/14/2024 04:39:38 - INFO - run_ner -     loss = 0.25454904663730676\n",
      "02/14/2024 04:39:38 - INFO - run_ner -     precision = 0.8496108883872924\n",
      "02/14/2024 04:39:38 - INFO - run_ner -     recall = 0.8622469912472648\n",
      "02/14/2024 04:39:39 - INFO - run_ner -   \n",
      "              precision    recall  f1-score   support\n",
      "\n",
      "         AFW       0.57      0.62      0.59       394\n",
      "         ANM       0.75      0.80      0.78       701\n",
      "         CVL       0.85      0.83      0.84      5758\n",
      "         DAT       0.92      0.93      0.93      2521\n",
      "         EVT       0.74      0.77      0.76      1094\n",
      "         FLD       0.62      0.66      0.64       228\n",
      "         LOC       0.83      0.86      0.85      2126\n",
      "         MAT       0.22      0.17      0.19        12\n",
      "         NUM       0.91      0.93      0.92      5590\n",
      "         ORG       0.86      0.86      0.86      4086\n",
      "         PER       0.86      0.89      0.88      4426\n",
      "         PLT       0.40      0.18      0.24        34\n",
      "         TIM       0.85      0.92      0.88       314\n",
      "         TRM       0.74      0.75      0.74      1964\n",
      "\n",
      "   micro avg       0.85      0.86      0.86     29248\n",
      "   macro avg       0.72      0.73      0.72     29248\n",
      "weighted avg       0.85      0.86      0.86     29248\n",
      "\n"
     ]
    },
    {
     "name": "stdout",
     "output_type": "stream",
     "text": [
      "Epoch 18/30 : |██████████████████████████████----------| 77.01% [1950/2532 00:39<00:11]\r"
     ]
    },
    {
     "name": "stderr",
     "output_type": "stream",
     "text": [
      "02/14/2024 04:39:58 - INFO - run_ner -   ***** Running evaluation on test dataset (45000 step) *****\n",
      "02/14/2024 04:39:58 - INFO - run_ner -     Num examples = 9000\n",
      "02/14/2024 04:39:58 - INFO - run_ner -     Eval Batch size = 128\n"
     ]
    },
    {
     "name": "stdout",
     "output_type": "stream",
     "text": [
      " |████████████████████████████████████████| 100.00% [71/71 00:01<00:00]\r"
     ]
    },
    {
     "name": "stderr",
     "output_type": "stream",
     "text": [
      "02/14/2024 04:40:00 - INFO - run_ner -   ***** Eval results on test dataset *****\n",
      "02/14/2024 04:40:00 - INFO - run_ner -     f1 = 0.8581525340219848\n",
      "02/14/2024 04:40:00 - INFO - run_ner -     loss = 0.24677920089641087\n",
      "02/14/2024 04:40:00 - INFO - run_ner -     precision = 0.8528925061632502\n",
      "02/14/2024 04:40:00 - INFO - run_ner -     recall = 0.8634778446389497\n",
      "02/14/2024 04:40:01 - INFO - run_ner -   \n",
      "              precision    recall  f1-score   support\n",
      "\n",
      "         AFW       0.64      0.62      0.63       394\n",
      "         ANM       0.77      0.78      0.77       701\n",
      "         CVL       0.84      0.84      0.84      5758\n",
      "         DAT       0.92      0.94      0.93      2521\n",
      "         EVT       0.76      0.79      0.77      1094\n",
      "         FLD       0.64      0.64      0.64       228\n",
      "         LOC       0.84      0.86      0.85      2126\n",
      "         MAT       0.17      0.08      0.11        12\n",
      "         NUM       0.91      0.93      0.92      5590\n",
      "         ORG       0.87      0.87      0.87      4086\n",
      "         PER       0.88      0.89      0.88      4426\n",
      "         PLT       0.29      0.21      0.24        34\n",
      "         TIM       0.83      0.93      0.88       314\n",
      "         TRM       0.74      0.74      0.74      1964\n",
      "\n",
      "   micro avg       0.85      0.86      0.86     29248\n",
      "   macro avg       0.72      0.72      0.72     29248\n",
      "weighted avg       0.85      0.86      0.86     29248\n",
      "\n"
     ]
    },
    {
     "name": "stdout",
     "output_type": "stream",
     "text": [
      "Epoch 18 done                                                                           \n",
      "Epoch 19/30 : |██████----------------------------------| 16.35% [414/2532 00:07<00:39]\r"
     ]
    },
    {
     "name": "stderr",
     "output_type": "stream",
     "text": [
      "02/14/2024 04:40:20 - INFO - run_ner -   ***** Running evaluation on test dataset (46000 step) *****\n",
      "02/14/2024 04:40:20 - INFO - run_ner -     Num examples = 9000\n",
      "02/14/2024 04:40:20 - INFO - run_ner -     Eval Batch size = 128\n"
     ]
    },
    {
     "name": "stdout",
     "output_type": "stream",
     "text": [
      " |████████████████████████████████████████| 100.00% [71/71 00:01<00:00]\r"
     ]
    },
    {
     "name": "stderr",
     "output_type": "stream",
     "text": [
      "02/14/2024 04:40:23 - INFO - run_ner -   ***** Eval results on test dataset *****\n",
      "02/14/2024 04:40:23 - INFO - run_ner -     f1 = 0.8592140274271679\n",
      "02/14/2024 04:40:23 - INFO - run_ner -     loss = 0.25332558322960225\n",
      "02/14/2024 04:40:23 - INFO - run_ner -     precision = 0.8572838665759019\n",
      "02/14/2024 04:40:23 - INFO - run_ner -     recall = 0.8611528993435449\n",
      "02/14/2024 04:40:23 - INFO - run_ner -   \n",
      "              precision    recall  f1-score   support\n",
      "\n",
      "         AFW       0.62      0.62      0.62       394\n",
      "         ANM       0.78      0.76      0.77       701\n",
      "         CVL       0.84      0.84      0.84      5758\n",
      "         DAT       0.92      0.94      0.93      2521\n",
      "         EVT       0.77      0.78      0.77      1094\n",
      "         FLD       0.57      0.68      0.62       228\n",
      "         LOC       0.85      0.85      0.85      2126\n",
      "         MAT       0.20      0.17      0.18        12\n",
      "         NUM       0.92      0.93      0.92      5590\n",
      "         ORG       0.87      0.87      0.87      4086\n",
      "         PER       0.89      0.88      0.88      4426\n",
      "         PLT       0.28      0.15      0.19        34\n",
      "         TIM       0.85      0.92      0.88       314\n",
      "         TRM       0.73      0.74      0.73      1964\n",
      "\n",
      "   micro avg       0.86      0.86      0.86     29248\n",
      "   macro avg       0.72      0.72      0.72     29248\n",
      "weighted avg       0.86      0.86      0.86     29248\n",
      "\n"
     ]
    },
    {
     "name": "stdout",
     "output_type": "stream",
     "text": [
      "Epoch 19/30 : |██████████████████████------------------| 56.16% [1422/2532 00:30<00:23]\r"
     ]
    },
    {
     "name": "stderr",
     "output_type": "stream",
     "text": [
      "02/14/2024 04:40:42 - INFO - run_ner -   ***** Running evaluation on test dataset (47000 step) *****\n",
      "02/14/2024 04:40:42 - INFO - run_ner -     Num examples = 9000\n",
      "02/14/2024 04:40:42 - INFO - run_ner -     Eval Batch size = 128\n"
     ]
    },
    {
     "name": "stdout",
     "output_type": "stream",
     "text": [
      " |████████████████████████████████████████| 100.00% [71/71 00:01<00:00]\r"
     ]
    },
    {
     "name": "stderr",
     "output_type": "stream",
     "text": [
      "02/14/2024 04:40:45 - INFO - run_ner -   ***** Eval results on test dataset *****\n",
      "02/14/2024 04:40:45 - INFO - run_ner -     f1 = 0.8583113634827283\n",
      "02/14/2024 04:40:45 - INFO - run_ner -     loss = 0.25559945614405083\n",
      "02/14/2024 04:40:45 - INFO - run_ner -     precision = 0.8486164951209731\n",
      "02/14/2024 04:40:45 - INFO - run_ner -     recall = 0.8682303063457331\n",
      "02/14/2024 04:40:46 - INFO - run_ner -   \n",
      "              precision    recall  f1-score   support\n",
      "\n",
      "         AFW       0.61      0.60      0.61       394\n",
      "         ANM       0.74      0.81      0.77       701\n",
      "         CVL       0.82      0.86      0.84      5758\n",
      "         DAT       0.92      0.93      0.93      2521\n",
      "         EVT       0.77      0.77      0.77      1094\n",
      "         FLD       0.66      0.64      0.65       228\n",
      "         LOC       0.85      0.85      0.85      2126\n",
      "         MAT       0.12      0.08      0.10        12\n",
      "         NUM       0.92      0.93      0.92      5590\n",
      "         ORG       0.87      0.87      0.87      4086\n",
      "         PER       0.87      0.89      0.88      4426\n",
      "         PLT       0.38      0.15      0.21        34\n",
      "         TIM       0.86      0.93      0.89       314\n",
      "         TRM       0.72      0.75      0.74      1964\n",
      "\n",
      "   micro avg       0.85      0.87      0.86     29248\n",
      "   macro avg       0.72      0.72      0.72     29248\n",
      "weighted avg       0.85      0.87      0.86     29248\n",
      "\n"
     ]
    },
    {
     "name": "stdout",
     "output_type": "stream",
     "text": [
      "Epoch 19/30 : |██████████████████████████████████████--| 95.70% [2423/2532 00:52<00:02]\r"
     ]
    },
    {
     "name": "stderr",
     "output_type": "stream",
     "text": [
      "02/14/2024 04:41:05 - INFO - run_ner -   ***** Running evaluation on test dataset (48000 step) *****\n",
      "02/14/2024 04:41:05 - INFO - run_ner -     Num examples = 9000\n",
      "02/14/2024 04:41:05 - INFO - run_ner -     Eval Batch size = 128\n"
     ]
    },
    {
     "name": "stdout",
     "output_type": "stream",
     "text": [
      " |████████████████████████████████████████| 100.00% [71/71 00:01<00:00]\r"
     ]
    },
    {
     "name": "stderr",
     "output_type": "stream",
     "text": [
      "02/14/2024 04:41:07 - INFO - run_ner -   ***** Eval results on test dataset *****\n",
      "02/14/2024 04:41:07 - INFO - run_ner -     f1 = 0.8583711326247377\n",
      "02/14/2024 04:41:07 - INFO - run_ner -     loss = 0.2535616098575189\n",
      "02/14/2024 04:41:07 - INFO - run_ner -     precision = 0.849912856951334\n",
      "02/14/2024 04:41:07 - INFO - run_ner -     recall = 0.8669994529540481\n",
      "02/14/2024 04:41:08 - INFO - run_ner -   \n",
      "              precision    recall  f1-score   support\n",
      "\n",
      "         AFW       0.59      0.62      0.60       394\n",
      "         ANM       0.75      0.80      0.78       701\n",
      "         CVL       0.82      0.85      0.84      5758\n",
      "         DAT       0.91      0.93      0.92      2521\n",
      "         EVT       0.77      0.78      0.78      1094\n",
      "         FLD       0.60      0.68      0.64       228\n",
      "         LOC       0.85      0.85      0.85      2126\n",
      "         MAT       0.18      0.17      0.17        12\n",
      "         NUM       0.91      0.93      0.92      5590\n",
      "         ORG       0.87      0.87      0.87      4086\n",
      "         PER       0.88      0.89      0.88      4426\n",
      "         PLT       0.32      0.21      0.25        34\n",
      "         TIM       0.84      0.94      0.89       314\n",
      "         TRM       0.73      0.75      0.74      1964\n",
      "\n",
      "   micro avg       0.85      0.87      0.86     29248\n",
      "   macro avg       0.72      0.73      0.72     29248\n",
      "weighted avg       0.85      0.87      0.86     29248\n",
      "\n",
      "02/14/2024 04:41:09 - INFO - run_ner -   Saving best model checkpoint to ../../../../models/KoELECTRA/koelectra-small-v3-naver-ner-ckpt/checkpoint-best\n"
     ]
    },
    {
     "name": "stdout",
     "output_type": "stream",
     "text": [
      "############## save model -- 1000 ##############\n",
      "Epoch 19 done                                                                           \n",
      "Epoch 20/30 : |█████████████---------------------------| 34.95% [885/2532 00:16<00:30]\r"
     ]
    },
    {
     "name": "stderr",
     "output_type": "stream",
     "text": [
      "02/14/2024 04:41:27 - INFO - run_ner -   ***** Running evaluation on test dataset (49000 step) *****\n",
      "02/14/2024 04:41:27 - INFO - run_ner -     Num examples = 9000\n",
      "02/14/2024 04:41:27 - INFO - run_ner -     Eval Batch size = 128\n"
     ]
    },
    {
     "name": "stdout",
     "output_type": "stream",
     "text": [
      " |████████████████████████████████████████| 100.00% [71/71 00:01<00:00]\r"
     ]
    },
    {
     "name": "stderr",
     "output_type": "stream",
     "text": [
      "02/14/2024 04:41:30 - INFO - run_ner -   ***** Eval results on test dataset *****\n",
      "02/14/2024 04:41:30 - INFO - run_ner -     f1 = 0.85821478287441\n",
      "02/14/2024 04:41:30 - INFO - run_ner -     loss = 0.2556055026574874\n",
      "02/14/2024 04:41:30 - INFO - run_ner -     precision = 0.8522826893249713\n",
      "02/14/2024 04:41:30 - INFO - run_ner -     recall = 0.8642300328227571\n",
      "02/14/2024 04:41:30 - INFO - run_ner -   \n",
      "              precision    recall  f1-score   support\n",
      "\n",
      "         AFW       0.56      0.62      0.59       394\n",
      "         ANM       0.75      0.80      0.77       701\n",
      "         CVL       0.84      0.85      0.84      5758\n",
      "         DAT       0.92      0.93      0.92      2521\n",
      "         EVT       0.78      0.77      0.78      1094\n",
      "         FLD       0.59      0.69      0.64       228\n",
      "         LOC       0.85      0.86      0.85      2126\n",
      "         MAT       0.18      0.25      0.21        12\n",
      "         NUM       0.91      0.93      0.92      5590\n",
      "         ORG       0.87      0.87      0.87      4086\n",
      "         PER       0.88      0.89      0.88      4426\n",
      "         PLT       0.32      0.18      0.23        34\n",
      "         TIM       0.85      0.92      0.88       314\n",
      "         TRM       0.73      0.74      0.74      1964\n",
      "\n",
      "   micro avg       0.85      0.86      0.86     29248\n",
      "   macro avg       0.72      0.74      0.72     29248\n",
      "weighted avg       0.85      0.86      0.86     29248\n",
      "\n"
     ]
    },
    {
     "name": "stdout",
     "output_type": "stream",
     "text": [
      "Epoch 20/30 : |█████████████████████████████-----------| 74.41% [1884/2532 00:38<00:13]\r"
     ]
    },
    {
     "name": "stderr",
     "output_type": "stream",
     "text": [
      "02/14/2024 04:41:50 - INFO - run_ner -   ***** Running evaluation on test dataset (50000 step) *****\n",
      "02/14/2024 04:41:50 - INFO - run_ner -     Num examples = 9000\n",
      "02/14/2024 04:41:50 - INFO - run_ner -     Eval Batch size = 128\n"
     ]
    },
    {
     "name": "stdout",
     "output_type": "stream",
     "text": [
      " |████████████████████████████████████████| 100.00% [71/71 00:01<00:00]\r"
     ]
    },
    {
     "name": "stderr",
     "output_type": "stream",
     "text": [
      "02/14/2024 04:41:52 - INFO - run_ner -   ***** Eval results on test dataset *****\n",
      "02/14/2024 04:41:52 - INFO - run_ner -     f1 = 0.8567665236921207\n",
      "02/14/2024 04:41:52 - INFO - run_ner -     loss = 0.25725032095338257\n",
      "02/14/2024 04:41:52 - INFO - run_ner -     precision = 0.8464464464464464\n",
      "02/14/2024 04:41:52 - INFO - run_ner -     recall = 0.8673413566739606\n",
      "02/14/2024 04:41:53 - INFO - run_ner -   \n",
      "              precision    recall  f1-score   support\n",
      "\n",
      "         AFW       0.56      0.63      0.59       394\n",
      "         ANM       0.75      0.80      0.78       701\n",
      "         CVL       0.83      0.85      0.84      5758\n",
      "         DAT       0.92      0.93      0.92      2521\n",
      "         EVT       0.76      0.79      0.78      1094\n",
      "         FLD       0.60      0.68      0.64       228\n",
      "         LOC       0.83      0.87      0.85      2126\n",
      "         MAT       0.18      0.17      0.17        12\n",
      "         NUM       0.91      0.93      0.92      5590\n",
      "         ORG       0.87      0.86      0.87      4086\n",
      "         PER       0.88      0.88      0.88      4426\n",
      "         PLT       0.29      0.21      0.24        34\n",
      "         TIM       0.86      0.93      0.89       314\n",
      "         TRM       0.71      0.77      0.74      1964\n",
      "\n",
      "   micro avg       0.85      0.87      0.86     29248\n",
      "   macro avg       0.71      0.74      0.72     29248\n",
      "weighted avg       0.85      0.87      0.86     29248\n",
      "\n"
     ]
    },
    {
     "name": "stdout",
     "output_type": "stream",
     "text": [
      "Epoch 20 done                                                                           \n",
      "Epoch 21/30 : |█████-----------------------------------| 14.02% [355/2532 00:06<00:40]\r"
     ]
    },
    {
     "name": "stderr",
     "output_type": "stream",
     "text": [
      "02/14/2024 04:42:12 - INFO - run_ner -   ***** Running evaluation on test dataset (51000 step) *****\n",
      "02/14/2024 04:42:12 - INFO - run_ner -     Num examples = 9000\n",
      "02/14/2024 04:42:12 - INFO - run_ner -     Eval Batch size = 128\n"
     ]
    },
    {
     "name": "stdout",
     "output_type": "stream",
     "text": [
      " |████████████████████████████████████████| 100.00% [71/71 00:01<00:00]\r"
     ]
    },
    {
     "name": "stderr",
     "output_type": "stream",
     "text": [
      "02/14/2024 04:42:14 - INFO - run_ner -   ***** Eval results on test dataset *****\n",
      "02/14/2024 04:42:14 - INFO - run_ner -     f1 = 0.8579081200203424\n",
      "02/14/2024 04:42:14 - INFO - run_ner -     loss = 0.2609212597910787\n",
      "02/14/2024 04:42:14 - INFO - run_ner -     precision = 0.8507834039405554\n",
      "02/14/2024 04:42:14 - INFO - run_ner -     recall = 0.8651531728665208\n",
      "02/14/2024 04:42:15 - INFO - run_ner -   \n",
      "              precision    recall  f1-score   support\n",
      "\n",
      "         AFW       0.57      0.61      0.59       394\n",
      "         ANM       0.77      0.79      0.78       701\n",
      "         CVL       0.83      0.85      0.84      5758\n",
      "         DAT       0.91      0.93      0.92      2521\n",
      "         EVT       0.77      0.77      0.77      1094\n",
      "         FLD       0.59      0.69      0.63       228\n",
      "         LOC       0.84      0.86      0.85      2126\n",
      "         MAT       0.14      0.17      0.15        12\n",
      "         NUM       0.91      0.93      0.92      5590\n",
      "         ORG       0.89      0.86      0.87      4086\n",
      "         PER       0.87      0.89      0.88      4426\n",
      "         PLT       0.30      0.26      0.28        34\n",
      "         TIM       0.86      0.94      0.90       314\n",
      "         TRM       0.73      0.75      0.74      1964\n",
      "\n",
      "   micro avg       0.85      0.87      0.86     29248\n",
      "   macro avg       0.71      0.74      0.72     29248\n",
      "weighted avg       0.85      0.87      0.86     29248\n",
      "\n"
     ]
    },
    {
     "name": "stdout",
     "output_type": "stream",
     "text": [
      "Epoch 21/30 : |█████████████████████-------------------| 53.59% [1357/2532 00:28<00:24]\r"
     ]
    },
    {
     "name": "stderr",
     "output_type": "stream",
     "text": [
      "02/14/2024 04:42:34 - INFO - run_ner -   ***** Running evaluation on test dataset (52000 step) *****\n",
      "02/14/2024 04:42:34 - INFO - run_ner -     Num examples = 9000\n",
      "02/14/2024 04:42:34 - INFO - run_ner -     Eval Batch size = 128\n"
     ]
    },
    {
     "name": "stdout",
     "output_type": "stream",
     "text": [
      " |████████████████████████████████████████| 100.00% [71/71 00:01<00:00]\r"
     ]
    },
    {
     "name": "stderr",
     "output_type": "stream",
     "text": [
      "02/14/2024 04:42:37 - INFO - run_ner -   ***** Eval results on test dataset *****\n",
      "02/14/2024 04:42:37 - INFO - run_ner -     f1 = 0.8574725125559929\n",
      "02/14/2024 04:42:37 - INFO - run_ner -     loss = 0.26408745852154747\n",
      "02/14/2024 04:42:37 - INFO - run_ner -     precision = 0.8511182969549986\n",
      "02/14/2024 04:42:37 - INFO - run_ner -     recall = 0.8639223194748359\n",
      "02/14/2024 04:42:37 - INFO - run_ner -   \n",
      "              precision    recall  f1-score   support\n",
      "\n",
      "         AFW       0.56      0.61      0.58       394\n",
      "         ANM       0.76      0.79      0.77       701\n",
      "         CVL       0.83      0.85      0.84      5758\n",
      "         DAT       0.92      0.93      0.93      2521\n",
      "         EVT       0.76      0.79      0.77      1094\n",
      "         FLD       0.56      0.70      0.62       228\n",
      "         LOC       0.85      0.85      0.85      2126\n",
      "         MAT       0.00      0.00      0.00        12\n",
      "         NUM       0.91      0.93      0.92      5590\n",
      "         ORG       0.89      0.86      0.87      4086\n",
      "         PER       0.88      0.89      0.88      4426\n",
      "         PLT       0.26      0.15      0.19        34\n",
      "         TIM       0.85      0.93      0.89       314\n",
      "         TRM       0.71      0.75      0.73      1964\n",
      "\n",
      "   micro avg       0.85      0.86      0.86     29248\n",
      "   macro avg       0.70      0.72      0.70     29248\n",
      "weighted avg       0.85      0.86      0.86     29248\n",
      "\n"
     ]
    },
    {
     "name": "stdout",
     "output_type": "stream",
     "text": [
      "Epoch 21/30 : |█████████████████████████████████████---| 93.05% [2356/2532 00:51<00:03]\r"
     ]
    },
    {
     "name": "stderr",
     "output_type": "stream",
     "text": [
      "02/14/2024 04:42:56 - INFO - run_ner -   ***** Running evaluation on test dataset (53000 step) *****\n",
      "02/14/2024 04:42:56 - INFO - run_ner -     Num examples = 9000\n",
      "02/14/2024 04:42:56 - INFO - run_ner -     Eval Batch size = 128\n"
     ]
    },
    {
     "name": "stdout",
     "output_type": "stream",
     "text": [
      " |████████████████████████████████████████| 100.00% [71/71 00:01<00:00]\r"
     ]
    },
    {
     "name": "stderr",
     "output_type": "stream",
     "text": [
      "02/14/2024 04:42:59 - INFO - run_ner -   ***** Eval results on test dataset *****\n",
      "02/14/2024 04:42:59 - INFO - run_ner -     f1 = 0.8594073520925971\n",
      "02/14/2024 04:42:59 - INFO - run_ner -     loss = 0.26298773015888643\n",
      "02/14/2024 04:42:59 - INFO - run_ner -     precision = 0.8532385253083508\n",
      "02/14/2024 04:42:59 - INFO - run_ner -     recall = 0.8656660284463895\n",
      "02/14/2024 04:42:59 - INFO - run_ner -   \n",
      "              precision    recall  f1-score   support\n",
      "\n",
      "         AFW       0.62      0.61      0.61       394\n",
      "         ANM       0.76      0.80      0.78       701\n",
      "         CVL       0.83      0.85      0.84      5758\n",
      "         DAT       0.91      0.93      0.92      2521\n",
      "         EVT       0.75      0.79      0.77      1094\n",
      "         FLD       0.60      0.69      0.64       228\n",
      "         LOC       0.84      0.86      0.85      2126\n",
      "         MAT       0.20      0.17      0.18        12\n",
      "         NUM       0.92      0.93      0.92      5590\n",
      "         ORG       0.89      0.86      0.87      4086\n",
      "         PER       0.88      0.89      0.88      4426\n",
      "         PLT       0.32      0.18      0.23        34\n",
      "         TIM       0.86      0.93      0.89       314\n",
      "         TRM       0.73      0.75      0.74      1964\n",
      "\n",
      "   micro avg       0.85      0.87      0.86     29248\n",
      "   macro avg       0.72      0.73      0.72     29248\n",
      "weighted avg       0.85      0.87      0.86     29248\n",
      "\n"
     ]
    },
    {
     "name": "stdout",
     "output_type": "stream",
     "text": [
      "Epoch 21 done                                                                           \n",
      "Epoch 22/30 : |█████████████---------------------------| 32.58% [825/2532 00:15<00:31]\r"
     ]
    },
    {
     "name": "stderr",
     "output_type": "stream",
     "text": [
      "02/14/2024 04:43:19 - INFO - run_ner -   ***** Running evaluation on test dataset (54000 step) *****\n",
      "02/14/2024 04:43:19 - INFO - run_ner -     Num examples = 9000\n",
      "02/14/2024 04:43:19 - INFO - run_ner -     Eval Batch size = 128\n"
     ]
    },
    {
     "name": "stdout",
     "output_type": "stream",
     "text": [
      " |████████████████████████████████████████| 100.00% [71/71 00:02<00:00]\r"
     ]
    },
    {
     "name": "stderr",
     "output_type": "stream",
     "text": [
      "02/14/2024 04:43:21 - INFO - run_ner -   ***** Eval results on test dataset *****\n",
      "02/14/2024 04:43:21 - INFO - run_ner -     f1 = 0.8579617726370774\n",
      "02/14/2024 04:43:21 - INFO - run_ner -     loss = 0.2663017305689798\n",
      "02/14/2024 04:43:21 - INFO - run_ner -     precision = 0.8512199225980145\n",
      "02/14/2024 04:43:21 - INFO - run_ner -     recall = 0.8648112691466083\n",
      "02/14/2024 04:43:22 - INFO - run_ner -   \n",
      "              precision    recall  f1-score   support\n",
      "\n",
      "         AFW       0.63      0.60      0.62       394\n",
      "         ANM       0.76      0.79      0.78       701\n",
      "         CVL       0.83      0.84      0.84      5758\n",
      "         DAT       0.92      0.93      0.93      2521\n",
      "         EVT       0.77      0.78      0.77      1094\n",
      "         FLD       0.66      0.62      0.64       228\n",
      "         LOC       0.85      0.85      0.85      2126\n",
      "         MAT       0.22      0.17      0.19        12\n",
      "         NUM       0.91      0.93      0.92      5590\n",
      "         ORG       0.86      0.87      0.87      4086\n",
      "         PER       0.87      0.89      0.88      4426\n",
      "         PLT       0.35      0.18      0.24        34\n",
      "         TIM       0.86      0.93      0.89       314\n",
      "         TRM       0.73      0.75      0.74      1964\n",
      "\n",
      "   micro avg       0.85      0.86      0.86     29248\n",
      "   macro avg       0.73      0.72      0.72     29248\n",
      "weighted avg       0.85      0.86      0.86     29248\n",
      "\n"
     ]
    },
    {
     "name": "stdout",
     "output_type": "stream",
     "text": [
      "Epoch 22/30 : |████████████████████████████------------| 71.96% [1822/2532 00:37<00:14]\r"
     ]
    },
    {
     "name": "stderr",
     "output_type": "stream",
     "text": [
      "02/14/2024 04:43:41 - INFO - run_ner -   ***** Running evaluation on test dataset (55000 step) *****\n",
      "02/14/2024 04:43:41 - INFO - run_ner -     Num examples = 9000\n",
      "02/14/2024 04:43:41 - INFO - run_ner -     Eval Batch size = 128\n"
     ]
    },
    {
     "name": "stdout",
     "output_type": "stream",
     "text": [
      " |████████████████████████████████████████| 100.00% [71/71 00:01<00:00]\r"
     ]
    },
    {
     "name": "stderr",
     "output_type": "stream",
     "text": [
      "02/14/2024 04:43:44 - INFO - run_ner -   ***** Eval results on test dataset *****\n",
      "02/14/2024 04:43:44 - INFO - run_ner -     f1 = 0.8584961716720709\n",
      "02/14/2024 04:43:44 - INFO - run_ner -     loss = 0.26693645308555014\n",
      "02/14/2024 04:43:44 - INFO - run_ner -     precision = 0.8526049570055639\n",
      "02/14/2024 04:43:44 - INFO - run_ner -     recall = 0.8644693654266958\n",
      "02/14/2024 04:43:44 - INFO - run_ner -   \n",
      "              precision    recall  f1-score   support\n",
      "\n",
      "         AFW       0.58      0.62      0.60       394\n",
      "         ANM       0.76      0.80      0.78       701\n",
      "         CVL       0.84      0.84      0.84      5758\n",
      "         DAT       0.91      0.94      0.93      2521\n",
      "         EVT       0.76      0.78      0.77      1094\n",
      "         FLD       0.60      0.68      0.64       228\n",
      "         LOC       0.85      0.86      0.85      2126\n",
      "         MAT       0.12      0.17      0.14        12\n",
      "         NUM       0.91      0.93      0.92      5590\n",
      "         ORG       0.87      0.87      0.87      4086\n",
      "         PER       0.87      0.89      0.88      4426\n",
      "         PLT       0.29      0.21      0.24        34\n",
      "         TIM       0.86      0.93      0.89       314\n",
      "         TRM       0.74      0.74      0.74      1964\n",
      "\n",
      "   micro avg       0.85      0.86      0.86     29248\n",
      "   macro avg       0.71      0.73      0.72     29248\n",
      "weighted avg       0.85      0.86      0.86     29248\n",
      "\n"
     ]
    },
    {
     "name": "stdout",
     "output_type": "stream",
     "text": [
      "Epoch 22 done                                                                           \n",
      "Epoch 23/30 : |████------------------------------------| 11.65% [295/2532 00:05<00:41]\r"
     ]
    },
    {
     "name": "stderr",
     "output_type": "stream",
     "text": [
      "02/14/2024 04:44:03 - INFO - run_ner -   ***** Running evaluation on test dataset (56000 step) *****\n",
      "02/14/2024 04:44:03 - INFO - run_ner -     Num examples = 9000\n",
      "02/14/2024 04:44:03 - INFO - run_ner -     Eval Batch size = 128\n"
     ]
    },
    {
     "name": "stdout",
     "output_type": "stream",
     "text": [
      " |████████████████████████████████████████| 100.00% [71/71 00:01<00:00]\r"
     ]
    },
    {
     "name": "stderr",
     "output_type": "stream",
     "text": [
      "02/14/2024 04:44:06 - INFO - run_ner -   ***** Eval results on test dataset *****\n",
      "02/14/2024 04:44:06 - INFO - run_ner -     f1 = 0.8583528136328219\n",
      "02/14/2024 04:44:06 - INFO - run_ner -     loss = 0.2680170412214709\n",
      "02/14/2024 04:44:06 - INFO - run_ner -     precision = 0.8506009534680723\n",
      "02/14/2024 04:44:06 - INFO - run_ner -     recall = 0.8662472647702407\n",
      "02/14/2024 04:44:06 - INFO - run_ner -   \n",
      "              precision    recall  f1-score   support\n",
      "\n",
      "         AFW       0.58      0.61      0.60       394\n",
      "         ANM       0.76      0.80      0.78       701\n",
      "         CVL       0.83      0.85      0.84      5758\n",
      "         DAT       0.91      0.93      0.92      2521\n",
      "         EVT       0.77      0.78      0.78      1094\n",
      "         FLD       0.59      0.68      0.64       228\n",
      "         LOC       0.83      0.87      0.85      2126\n",
      "         MAT       0.15      0.17      0.16        12\n",
      "         NUM       0.91      0.93      0.92      5590\n",
      "         ORG       0.89      0.86      0.87      4086\n",
      "         PER       0.88      0.88      0.88      4426\n",
      "         PLT       0.38      0.24      0.29        34\n",
      "         TIM       0.84      0.94      0.89       314\n",
      "         TRM       0.72      0.75      0.73      1964\n",
      "\n",
      "   micro avg       0.85      0.87      0.86     29248\n",
      "   macro avg       0.72      0.74      0.73     29248\n",
      "weighted avg       0.85      0.87      0.86     29248\n",
      "\n"
     ]
    },
    {
     "name": "stdout",
     "output_type": "stream",
     "text": [
      "Epoch 23/30 : |████████████████████--------------------| 50.87% [1288/2532 00:27<00:26]\r"
     ]
    },
    {
     "name": "stderr",
     "output_type": "stream",
     "text": [
      "02/14/2024 04:44:26 - INFO - run_ner -   ***** Running evaluation on test dataset (57000 step) *****\n",
      "02/14/2024 04:44:26 - INFO - run_ner -     Num examples = 9000\n",
      "02/14/2024 04:44:26 - INFO - run_ner -     Eval Batch size = 128\n"
     ]
    },
    {
     "name": "stdout",
     "output_type": "stream",
     "text": [
      " |████████████████████████████████████████| 100.00% [71/71 00:02<00:00]\r"
     ]
    },
    {
     "name": "stderr",
     "output_type": "stream",
     "text": [
      "02/14/2024 04:44:28 - INFO - run_ner -   ***** Eval results on test dataset *****\n",
      "02/14/2024 04:44:28 - INFO - run_ner -     f1 = 0.8584793735805566\n",
      "02/14/2024 04:44:28 - INFO - run_ner -     loss = 0.270263843553167\n",
      "02/14/2024 04:44:28 - INFO - run_ner -     precision = 0.8511796733212341\n",
      "02/14/2024 04:44:28 - INFO - run_ner -     recall = 0.8659053610503282\n",
      "02/14/2024 04:44:29 - INFO - run_ner -   \n",
      "              precision    recall  f1-score   support\n",
      "\n",
      "         AFW       0.59      0.61      0.60       394\n",
      "         ANM       0.76      0.79      0.77       701\n",
      "         CVL       0.82      0.86      0.84      5758\n",
      "         DAT       0.92      0.93      0.92      2521\n",
      "         EVT       0.77      0.77      0.77      1094\n",
      "         FLD       0.61      0.68      0.64       228\n",
      "         LOC       0.85      0.86      0.85      2126\n",
      "         MAT       0.15      0.17      0.16        12\n",
      "         NUM       0.91      0.93      0.92      5590\n",
      "         ORG       0.88      0.86      0.87      4086\n",
      "         PER       0.87      0.89      0.88      4426\n",
      "         PLT       0.25      0.15      0.19        34\n",
      "         TIM       0.86      0.93      0.89       314\n",
      "         TRM       0.75      0.73      0.74      1964\n",
      "\n",
      "   micro avg       0.85      0.87      0.86     29248\n",
      "   macro avg       0.71      0.73      0.72     29248\n",
      "weighted avg       0.85      0.87      0.86     29248\n",
      "\n"
     ]
    },
    {
     "name": "stdout",
     "output_type": "stream",
     "text": [
      "Epoch 23/30 : |████████████████████████████████████----| 90.48% [2291/2532 00:50<00:05]\r"
     ]
    },
    {
     "name": "stderr",
     "output_type": "stream",
     "text": [
      "02/14/2024 04:44:48 - INFO - run_ner -   ***** Running evaluation on test dataset (58000 step) *****\n",
      "02/14/2024 04:44:48 - INFO - run_ner -     Num examples = 9000\n",
      "02/14/2024 04:44:48 - INFO - run_ner -     Eval Batch size = 128\n"
     ]
    },
    {
     "name": "stdout",
     "output_type": "stream",
     "text": [
      " |████████████████████████████████████████| 100.00% [71/71 00:01<00:00]\r"
     ]
    },
    {
     "name": "stderr",
     "output_type": "stream",
     "text": [
      "02/14/2024 04:44:50 - INFO - run_ner -   ***** Eval results on test dataset *****\n",
      "02/14/2024 04:44:50 - INFO - run_ner -     f1 = 0.8571138555235999\n",
      "02/14/2024 04:44:50 - INFO - run_ner -     loss = 0.2700109450330197\n",
      "02/14/2024 04:44:50 - INFO - run_ner -     precision = 0.8483021900743419\n",
      "02/14/2024 04:44:50 - INFO - run_ner -     recall = 0.8661105032822757\n",
      "02/14/2024 04:44:51 - INFO - run_ner -   \n",
      "              precision    recall  f1-score   support\n",
      "\n",
      "         AFW       0.55      0.61      0.58       394\n",
      "         ANM       0.75      0.80      0.77       701\n",
      "         CVL       0.84      0.84      0.84      5758\n",
      "         DAT       0.92      0.93      0.92      2521\n",
      "         EVT       0.76      0.78      0.77      1094\n",
      "         FLD       0.58      0.70      0.63       228\n",
      "         LOC       0.82      0.87      0.85      2126\n",
      "         MAT       0.25      0.25      0.25        12\n",
      "         NUM       0.91      0.93      0.92      5590\n",
      "         ORG       0.87      0.87      0.87      4086\n",
      "         PER       0.87      0.89      0.88      4426\n",
      "         PLT       0.27      0.18      0.21        34\n",
      "         TIM       0.85      0.94      0.89       314\n",
      "         TRM       0.73      0.75      0.74      1964\n",
      "\n",
      "   micro avg       0.85      0.87      0.86     29248\n",
      "   macro avg       0.71      0.74      0.72     29248\n",
      "weighted avg       0.85      0.87      0.86     29248\n",
      "\n"
     ]
    },
    {
     "name": "stdout",
     "output_type": "stream",
     "text": [
      "Epoch 23 done                                                                           \n",
      "Epoch 24/30 : |███████████-----------------------------| 29.82% [755/2532 00:13<00:32]\r"
     ]
    },
    {
     "name": "stderr",
     "output_type": "stream",
     "text": [
      "02/14/2024 04:45:10 - INFO - run_ner -   ***** Running evaluation on test dataset (59000 step) *****\n",
      "02/14/2024 04:45:10 - INFO - run_ner -     Num examples = 9000\n",
      "02/14/2024 04:45:10 - INFO - run_ner -     Eval Batch size = 128\n"
     ]
    },
    {
     "name": "stdout",
     "output_type": "stream",
     "text": [
      " |████████████████████████████████████████| 100.00% [71/71 00:01<00:00]\r"
     ]
    },
    {
     "name": "stderr",
     "output_type": "stream",
     "text": [
      "02/14/2024 04:45:13 - INFO - run_ner -   ***** Eval results on test dataset *****\n",
      "02/14/2024 04:45:13 - INFO - run_ner -     f1 = 0.8592326098392927\n",
      "02/14/2024 04:45:13 - INFO - run_ner -     loss = 0.2734677105302542\n",
      "02/14/2024 04:45:13 - INFO - run_ner -     precision = 0.852993699248627\n",
      "02/14/2024 04:45:13 - INFO - run_ner -     recall = 0.8655634573304157\n",
      "02/14/2024 04:45:13 - INFO - run_ner -   \n",
      "              precision    recall  f1-score   support\n",
      "\n",
      "         AFW       0.61      0.61      0.61       394\n",
      "         ANM       0.76      0.78      0.77       701\n",
      "         CVL       0.83      0.85      0.84      5758\n",
      "         DAT       0.91      0.93      0.92      2521\n",
      "         EVT       0.77      0.78      0.77      1094\n",
      "         FLD       0.62      0.67      0.64       228\n",
      "         LOC       0.85      0.86      0.85      2126\n",
      "         MAT       0.17      0.17      0.17        12\n",
      "         NUM       0.91      0.93      0.92      5590\n",
      "         ORG       0.87      0.87      0.87      4086\n",
      "         PER       0.88      0.88      0.88      4426\n",
      "         PLT       0.30      0.18      0.22        34\n",
      "         TIM       0.85      0.93      0.89       314\n",
      "         TRM       0.74      0.75      0.74      1964\n",
      "\n",
      "   micro avg       0.85      0.87      0.86     29248\n",
      "   macro avg       0.72      0.73      0.72     29248\n",
      "weighted avg       0.85      0.87      0.86     29248\n",
      "\n",
      "02/14/2024 04:45:14 - INFO - run_ner -   Saving best model checkpoint to ../../../../models/KoELECTRA/koelectra-small-v3-naver-ner-ckpt/checkpoint-best\n"
     ]
    },
    {
     "name": "stdout",
     "output_type": "stream",
     "text": [
      "############## save model -- 1000 ##############\n",
      "Epoch 24/30 : |███████████████████████████-------------| 69.47% [1759/2532 00:36<00:15]\r"
     ]
    },
    {
     "name": "stderr",
     "output_type": "stream",
     "text": [
      "02/14/2024 04:45:33 - INFO - run_ner -   ***** Running evaluation on test dataset (60000 step) *****\n",
      "02/14/2024 04:45:33 - INFO - run_ner -     Num examples = 9000\n",
      "02/14/2024 04:45:33 - INFO - run_ner -     Eval Batch size = 128\n"
     ]
    },
    {
     "name": "stdout",
     "output_type": "stream",
     "text": [
      " |████████████████████████████████████████| 100.00% [71/71 00:02<00:00]\r"
     ]
    },
    {
     "name": "stderr",
     "output_type": "stream",
     "text": [
      "02/14/2024 04:45:35 - INFO - run_ner -   ***** Eval results on test dataset *****\n",
      "02/14/2024 04:45:35 - INFO - run_ner -     f1 = 0.8591170564008305\n",
      "02/14/2024 04:45:35 - INFO - run_ner -     loss = 0.2736474080404765\n",
      "02/14/2024 04:45:35 - INFO - run_ner -     precision = 0.8553032870213487\n",
      "02/14/2024 04:45:35 - INFO - run_ner -     recall = 0.8629649890590809\n",
      "02/14/2024 04:45:36 - INFO - run_ner -   \n",
      "              precision    recall  f1-score   support\n",
      "\n",
      "         AFW       0.57      0.60      0.58       394\n",
      "         ANM       0.77      0.78      0.78       701\n",
      "         CVL       0.84      0.85      0.84      5758\n",
      "         DAT       0.92      0.93      0.92      2521\n",
      "         EVT       0.76      0.78      0.77      1094\n",
      "         FLD       0.60      0.67      0.63       228\n",
      "         LOC       0.85      0.86      0.85      2126\n",
      "         MAT       0.09      0.08      0.09        12\n",
      "         NUM       0.92      0.93      0.92      5590\n",
      "         ORG       0.88      0.86      0.87      4086\n",
      "         PER       0.88      0.88      0.88      4426\n",
      "         PLT       0.29      0.18      0.22        34\n",
      "         TIM       0.86      0.92      0.89       314\n",
      "         TRM       0.74      0.74      0.74      1964\n",
      "\n",
      "   micro avg       0.86      0.86      0.86     29248\n",
      "   macro avg       0.71      0.72      0.71     29248\n",
      "weighted avg       0.86      0.86      0.86     29248\n",
      "\n"
     ]
    },
    {
     "name": "stdout",
     "output_type": "stream",
     "text": [
      "Epoch 24 done                                                                           \n",
      "Epoch 25/30 : |███-------------------------------------| 8.89% [225/2532 00:04<00:42]\r"
     ]
    },
    {
     "name": "stderr",
     "output_type": "stream",
     "text": [
      "02/14/2024 04:45:55 - INFO - run_ner -   ***** Running evaluation on test dataset (61000 step) *****\n",
      "02/14/2024 04:45:55 - INFO - run_ner -     Num examples = 9000\n",
      "02/14/2024 04:45:55 - INFO - run_ner -     Eval Batch size = 128\n"
     ]
    },
    {
     "name": "stdout",
     "output_type": "stream",
     "text": [
      " |████████████████████████████████████████| 100.00% [71/71 00:01<00:00]\r"
     ]
    },
    {
     "name": "stderr",
     "output_type": "stream",
     "text": [
      "02/14/2024 04:45:57 - INFO - run_ner -   ***** Eval results on test dataset *****\n",
      "02/14/2024 04:45:57 - INFO - run_ner -     f1 = 0.8579673734064405\n",
      "02/14/2024 04:45:57 - INFO - run_ner -     loss = 0.27552649483714303\n",
      "02/14/2024 04:45:57 - INFO - run_ner -     precision = 0.8519942011395435\n",
      "02/14/2024 04:45:57 - INFO - run_ner -     recall = 0.8640248905908097\n",
      "02/14/2024 04:45:58 - INFO - run_ner -   \n",
      "              precision    recall  f1-score   support\n",
      "\n",
      "         AFW       0.55      0.62      0.58       394\n",
      "         ANM       0.76      0.79      0.78       701\n",
      "         CVL       0.84      0.84      0.84      5758\n",
      "         DAT       0.92      0.93      0.92      2521\n",
      "         EVT       0.76      0.78      0.77      1094\n",
      "         FLD       0.59      0.66      0.62       228\n",
      "         LOC       0.85      0.86      0.85      2126\n",
      "         MAT       0.15      0.17      0.16        12\n",
      "         NUM       0.91      0.93      0.92      5590\n",
      "         ORG       0.88      0.86      0.87      4086\n",
      "         PER       0.87      0.89      0.88      4426\n",
      "         PLT       0.29      0.18      0.22        34\n",
      "         TIM       0.85      0.93      0.89       314\n",
      "         TRM       0.73      0.75      0.74      1964\n",
      "\n",
      "   micro avg       0.85      0.86      0.86     29248\n",
      "   macro avg       0.71      0.73      0.72     29248\n",
      "weighted avg       0.85      0.86      0.86     29248\n",
      "\n"
     ]
    },
    {
     "name": "stdout",
     "output_type": "stream",
     "text": [
      "Epoch 25/30 : |███████████████████---------------------| 48.54% [1229/2532 00:26<00:28]\r"
     ]
    },
    {
     "name": "stderr",
     "output_type": "stream",
     "text": [
      "02/14/2024 04:46:17 - INFO - run_ner -   ***** Running evaluation on test dataset (62000 step) *****\n",
      "02/14/2024 04:46:17 - INFO - run_ner -     Num examples = 9000\n",
      "02/14/2024 04:46:17 - INFO - run_ner -     Eval Batch size = 128\n"
     ]
    },
    {
     "name": "stdout",
     "output_type": "stream",
     "text": [
      " |████████████████████████████████████████| 100.00% [71/71 00:01<00:00]\r"
     ]
    },
    {
     "name": "stderr",
     "output_type": "stream",
     "text": [
      "02/14/2024 04:46:20 - INFO - run_ner -   ***** Eval results on test dataset *****\n",
      "02/14/2024 04:46:20 - INFO - run_ner -     f1 = 0.8590592659089753\n",
      "02/14/2024 04:46:20 - INFO - run_ner -     loss = 0.27886323735747537\n",
      "02/14/2024 04:46:20 - INFO - run_ner -     precision = 0.8512302373199959\n",
      "02/14/2024 04:46:20 - INFO - run_ner -     recall = 0.8670336433260394\n",
      "02/14/2024 04:46:20 - INFO - run_ner -   \n",
      "              precision    recall  f1-score   support\n",
      "\n",
      "         AFW       0.57      0.61      0.59       394\n",
      "         ANM       0.74      0.80      0.77       701\n",
      "         CVL       0.83      0.85      0.84      5758\n",
      "         DAT       0.92      0.93      0.92      2521\n",
      "         EVT       0.77      0.78      0.78      1094\n",
      "         FLD       0.60      0.67      0.63       228\n",
      "         LOC       0.85      0.86      0.85      2126\n",
      "         MAT       0.17      0.17      0.17        12\n",
      "         NUM       0.91      0.93      0.92      5590\n",
      "         ORG       0.88      0.87      0.87      4086\n",
      "         PER       0.88      0.89      0.88      4426\n",
      "         PLT       0.26      0.18      0.21        34\n",
      "         TIM       0.86      0.93      0.89       314\n",
      "         TRM       0.72      0.76      0.74      1964\n",
      "\n",
      "   micro avg       0.85      0.87      0.86     29248\n",
      "   macro avg       0.71      0.73      0.72     29248\n",
      "weighted avg       0.85      0.87      0.86     29248\n",
      "\n"
     ]
    },
    {
     "name": "stdout",
     "output_type": "stream",
     "text": [
      "Epoch 25/30 : |███████████████████████████████████-----| 88.03% [2229/2532 00:48<00:06]\r"
     ]
    },
    {
     "name": "stderr",
     "output_type": "stream",
     "text": [
      "02/14/2024 04:46:39 - INFO - run_ner -   ***** Running evaluation on test dataset (63000 step) *****\n",
      "02/14/2024 04:46:39 - INFO - run_ner -     Num examples = 9000\n",
      "02/14/2024 04:46:39 - INFO - run_ner -     Eval Batch size = 128\n"
     ]
    },
    {
     "name": "stdout",
     "output_type": "stream",
     "text": [
      " |████████████████████████████████████████| 100.00% [71/71 00:01<00:00]\r"
     ]
    },
    {
     "name": "stderr",
     "output_type": "stream",
     "text": [
      "02/14/2024 04:46:42 - INFO - run_ner -   ***** Eval results on test dataset *****\n",
      "02/14/2024 04:46:42 - INFO - run_ner -     f1 = 0.858564924916763\n",
      "02/14/2024 04:46:42 - INFO - run_ner -     loss = 0.2750276723797892\n",
      "02/14/2024 04:46:42 - INFO - run_ner -     precision = 0.8531735313977042\n",
      "02/14/2024 04:46:42 - INFO - run_ner -     recall = 0.8640248905908097\n",
      "02/14/2024 04:46:43 - INFO - run_ner -   \n",
      "              precision    recall  f1-score   support\n",
      "\n",
      "         AFW       0.56      0.62      0.59       394\n",
      "         ANM       0.78      0.77      0.77       701\n",
      "         CVL       0.84      0.84      0.84      5758\n",
      "         DAT       0.92      0.93      0.92      2521\n",
      "         EVT       0.77      0.79      0.78      1094\n",
      "         FLD       0.59      0.68      0.63       228\n",
      "         LOC       0.84      0.86      0.85      2126\n",
      "         MAT       0.14      0.17      0.15        12\n",
      "         NUM       0.91      0.93      0.92      5590\n",
      "         ORG       0.87      0.87      0.87      4086\n",
      "         PER       0.88      0.89      0.88      4426\n",
      "         PLT       0.26      0.18      0.21        34\n",
      "         TIM       0.87      0.93      0.90       314\n",
      "         TRM       0.74      0.74      0.74      1964\n",
      "\n",
      "   micro avg       0.85      0.86      0.86     29248\n",
      "   macro avg       0.71      0.73      0.72     29248\n",
      "weighted avg       0.85      0.86      0.86     29248\n",
      "\n"
     ]
    },
    {
     "name": "stdout",
     "output_type": "stream",
     "text": [
      "Epoch 25 done                                                                           \n",
      "Epoch 26/30 : |██████████------------------------------| 27.45% [695/2532 00:12<00:33]\r"
     ]
    },
    {
     "name": "stderr",
     "output_type": "stream",
     "text": [
      "02/14/2024 04:47:02 - INFO - run_ner -   ***** Running evaluation on test dataset (64000 step) *****\n",
      "02/14/2024 04:47:02 - INFO - run_ner -     Num examples = 9000\n",
      "02/14/2024 04:47:02 - INFO - run_ner -     Eval Batch size = 128\n"
     ]
    },
    {
     "name": "stdout",
     "output_type": "stream",
     "text": [
      " |████████████████████████████████████████| 100.00% [71/71 00:01<00:00]\r"
     ]
    },
    {
     "name": "stderr",
     "output_type": "stream",
     "text": [
      "02/14/2024 04:47:04 - INFO - run_ner -   ***** Eval results on test dataset *****\n",
      "02/14/2024 04:47:04 - INFO - run_ner -     f1 = 0.8589268093504373\n",
      "02/14/2024 04:47:04 - INFO - run_ner -     loss = 0.27784512559293023\n",
      "02/14/2024 04:47:04 - INFO - run_ner -     precision = 0.8548256010836438\n",
      "02/14/2024 04:47:04 - INFO - run_ner -     recall = 0.8630675601750547\n",
      "02/14/2024 04:47:05 - INFO - run_ner -   \n",
      "              precision    recall  f1-score   support\n",
      "\n",
      "         AFW       0.59      0.61      0.60       394\n",
      "         ANM       0.76      0.79      0.77       701\n",
      "         CVL       0.84      0.84      0.84      5758\n",
      "         DAT       0.92      0.93      0.92      2521\n",
      "         EVT       0.78      0.78      0.78      1094\n",
      "         FLD       0.59      0.66      0.62       228\n",
      "         LOC       0.84      0.86      0.85      2126\n",
      "         MAT       0.22      0.17      0.19        12\n",
      "         NUM       0.91      0.93      0.92      5590\n",
      "         ORG       0.88      0.87      0.87      4086\n",
      "         PER       0.87      0.89      0.88      4426\n",
      "         PLT       0.32      0.21      0.25        34\n",
      "         TIM       0.86      0.93      0.90       314\n",
      "         TRM       0.75      0.74      0.74      1964\n",
      "\n",
      "   micro avg       0.85      0.86      0.86     29248\n",
      "   macro avg       0.72      0.73      0.72     29248\n",
      "weighted avg       0.85      0.86      0.86     29248\n",
      "\n"
     ]
    },
    {
     "name": "stdout",
     "output_type": "stream",
     "text": [
      "Epoch 26/30 : |██████████████████████████--------------| 66.98% [1696/2532 00:35<00:17]\r"
     ]
    },
    {
     "name": "stderr",
     "output_type": "stream",
     "text": [
      "02/14/2024 04:47:24 - INFO - run_ner -   ***** Running evaluation on test dataset (65000 step) *****\n",
      "02/14/2024 04:47:24 - INFO - run_ner -     Num examples = 9000\n",
      "02/14/2024 04:47:24 - INFO - run_ner -     Eval Batch size = 128\n"
     ]
    },
    {
     "name": "stdout",
     "output_type": "stream",
     "text": [
      " |████████████████████████████████████████| 100.00% [71/71 00:01<00:00]\r"
     ]
    },
    {
     "name": "stderr",
     "output_type": "stream",
     "text": [
      "02/14/2024 04:47:26 - INFO - run_ner -   ***** Eval results on test dataset *****\n",
      "02/14/2024 04:47:26 - INFO - run_ner -     f1 = 0.8595285874630114\n",
      "02/14/2024 04:47:26 - INFO - run_ner -     loss = 0.27796548248176844\n",
      "02/14/2024 04:47:26 - INFO - run_ner -     precision = 0.8550788387358733\n",
      "02/14/2024 04:47:26 - INFO - run_ner -     recall = 0.8640248905908097\n",
      "02/14/2024 04:47:27 - INFO - run_ner -   \n",
      "              precision    recall  f1-score   support\n",
      "\n",
      "         AFW       0.60      0.61      0.61       394\n",
      "         ANM       0.77      0.78      0.78       701\n",
      "         CVL       0.83      0.85      0.84      5758\n",
      "         DAT       0.92      0.93      0.93      2521\n",
      "         EVT       0.77      0.79      0.78      1094\n",
      "         FLD       0.60      0.65      0.62       228\n",
      "         LOC       0.85      0.86      0.86      2126\n",
      "         MAT       0.18      0.17      0.17        12\n",
      "         NUM       0.91      0.93      0.92      5590\n",
      "         ORG       0.88      0.87      0.87      4086\n",
      "         PER       0.88      0.88      0.88      4426\n",
      "         PLT       0.30      0.18      0.22        34\n",
      "         TIM       0.86      0.93      0.89       314\n",
      "         TRM       0.73      0.74      0.74      1964\n",
      "\n",
      "   micro avg       0.86      0.86      0.86     29248\n",
      "   macro avg       0.72      0.73      0.72     29248\n",
      "weighted avg       0.86      0.86      0.86     29248\n",
      "\n"
     ]
    },
    {
     "name": "stdout",
     "output_type": "stream",
     "text": [
      "Epoch 26 done                                                                           \n",
      "Epoch 27/30 : |██--------------------------------------| 6.52% [165/2532 00:03<00:44]\r"
     ]
    },
    {
     "name": "stderr",
     "output_type": "stream",
     "text": [
      "02/14/2024 04:47:46 - INFO - run_ner -   ***** Running evaluation on test dataset (66000 step) *****\n",
      "02/14/2024 04:47:46 - INFO - run_ner -     Num examples = 9000\n",
      "02/14/2024 04:47:46 - INFO - run_ner -     Eval Batch size = 128\n"
     ]
    },
    {
     "name": "stdout",
     "output_type": "stream",
     "text": [
      " |████████████████████████████████████████| 100.00% [71/71 00:01<00:00]\r"
     ]
    },
    {
     "name": "stderr",
     "output_type": "stream",
     "text": [
      "02/14/2024 04:47:49 - INFO - run_ner -   ***** Eval results on test dataset *****\n",
      "02/14/2024 04:47:49 - INFO - run_ner -     f1 = 0.858617061000034\n",
      "02/14/2024 04:47:49 - INFO - run_ner -     loss = 0.27955468817495965\n",
      "02/14/2024 04:47:49 - INFO - run_ner -     precision = 0.8525109538254129\n",
      "02/14/2024 04:47:49 - INFO - run_ner -     recall = 0.8648112691466083\n",
      "02/14/2024 04:47:49 - INFO - run_ner -   \n",
      "              precision    recall  f1-score   support\n",
      "\n",
      "         AFW       0.59      0.61      0.60       394\n",
      "         ANM       0.77      0.79      0.78       701\n",
      "         CVL       0.83      0.85      0.84      5758\n",
      "         DAT       0.92      0.93      0.92      2521\n",
      "         EVT       0.78      0.78      0.78      1094\n",
      "         FLD       0.61      0.67      0.64       228\n",
      "         LOC       0.85      0.86      0.85      2126\n",
      "         MAT       0.14      0.17      0.15        12\n",
      "         NUM       0.91      0.93      0.92      5590\n",
      "         ORG       0.87      0.87      0.87      4086\n",
      "         PER       0.87      0.89      0.88      4426\n",
      "         PLT       0.26      0.18      0.21        34\n",
      "         TIM       0.87      0.93      0.90       314\n",
      "         TRM       0.74      0.74      0.74      1964\n",
      "\n",
      "   micro avg       0.85      0.86      0.86     29248\n",
      "   macro avg       0.72      0.73      0.72     29248\n",
      "weighted avg       0.85      0.86      0.86     29248\n",
      "\n"
     ]
    },
    {
     "name": "stdout",
     "output_type": "stream",
     "text": [
      "Epoch 27/30 : |██████████████████----------------------| 46.09% [1167/2532 00:25<00:30]\r"
     ]
    },
    {
     "name": "stderr",
     "output_type": "stream",
     "text": [
      "02/14/2024 04:48:09 - INFO - run_ner -   ***** Running evaluation on test dataset (67000 step) *****\n",
      "02/14/2024 04:48:09 - INFO - run_ner -     Num examples = 9000\n",
      "02/14/2024 04:48:09 - INFO - run_ner -     Eval Batch size = 128\n"
     ]
    },
    {
     "name": "stdout",
     "output_type": "stream",
     "text": [
      " |████████████████████████████████████████| 100.00% [71/71 00:01<00:00]\r"
     ]
    },
    {
     "name": "stderr",
     "output_type": "stream",
     "text": [
      "02/14/2024 04:48:11 - INFO - run_ner -   ***** Eval results on test dataset *****\n",
      "02/14/2024 04:48:11 - INFO - run_ner -     f1 = 0.8591513422647853\n",
      "02/14/2024 04:48:11 - INFO - run_ner -     loss = 0.28099812021557713\n",
      "02/14/2024 04:48:11 - INFO - run_ner -     precision = 0.8533985495024456\n",
      "02/14/2024 04:48:11 - INFO - run_ner -     recall = 0.8649822210065645\n",
      "02/14/2024 04:48:12 - INFO - run_ner -   \n",
      "              precision    recall  f1-score   support\n",
      "\n",
      "         AFW       0.57      0.63      0.60       394\n",
      "         ANM       0.76      0.79      0.78       701\n",
      "         CVL       0.84      0.85      0.84      5758\n",
      "         DAT       0.91      0.93      0.92      2521\n",
      "         EVT       0.76      0.78      0.77      1094\n",
      "         FLD       0.61      0.67      0.64       228\n",
      "         LOC       0.84      0.87      0.85      2126\n",
      "         MAT       0.13      0.17      0.15        12\n",
      "         NUM       0.91      0.93      0.92      5590\n",
      "         ORG       0.88      0.86      0.87      4086\n",
      "         PER       0.88      0.89      0.88      4426\n",
      "         PLT       0.29      0.21      0.24        34\n",
      "         TIM       0.85      0.93      0.89       314\n",
      "         TRM       0.74      0.75      0.74      1964\n",
      "\n",
      "   micro avg       0.85      0.86      0.86     29248\n",
      "   macro avg       0.71      0.73      0.72     29248\n",
      "weighted avg       0.85      0.86      0.86     29248\n",
      "\n"
     ]
    },
    {
     "name": "stdout",
     "output_type": "stream",
     "text": [
      "Epoch 27/30 : |██████████████████████████████████------| 85.35% [2161/2532 00:47<00:08]\r"
     ]
    },
    {
     "name": "stderr",
     "output_type": "stream",
     "text": [
      "02/14/2024 04:48:31 - INFO - run_ner -   ***** Running evaluation on test dataset (68000 step) *****\n",
      "02/14/2024 04:48:31 - INFO - run_ner -     Num examples = 9000\n",
      "02/14/2024 04:48:31 - INFO - run_ner -     Eval Batch size = 128\n"
     ]
    },
    {
     "name": "stdout",
     "output_type": "stream",
     "text": [
      " |████████████████████████████████████████| 100.00% [71/71 00:01<00:00]\r"
     ]
    },
    {
     "name": "stderr",
     "output_type": "stream",
     "text": [
      "02/14/2024 04:48:34 - INFO - run_ner -   ***** Eval results on test dataset *****\n",
      "02/14/2024 04:48:34 - INFO - run_ner -     f1 = 0.85913197038647\n",
      "02/14/2024 04:48:34 - INFO - run_ner -     loss = 0.2805967320438842\n",
      "02/14/2024 04:48:34 - INFO - run_ner -     precision = 0.8533936041020105\n",
      "02/14/2024 04:48:34 - INFO - run_ner -     recall = 0.8649480306345733\n",
      "02/14/2024 04:48:34 - INFO - run_ner -   \n",
      "              precision    recall  f1-score   support\n",
      "\n",
      "         AFW       0.58      0.62      0.60       394\n",
      "         ANM       0.76      0.79      0.77       701\n",
      "         CVL       0.84      0.84      0.84      5758\n",
      "         DAT       0.92      0.93      0.92      2521\n",
      "         EVT       0.76      0.78      0.77      1094\n",
      "         FLD       0.59      0.68      0.63       228\n",
      "         LOC       0.85      0.86      0.86      2126\n",
      "         MAT       0.15      0.17      0.16        12\n",
      "         NUM       0.91      0.93      0.92      5590\n",
      "         ORG       0.88      0.87      0.87      4086\n",
      "         PER       0.88      0.89      0.88      4426\n",
      "         PLT       0.29      0.21      0.24        34\n",
      "         TIM       0.86      0.93      0.89       314\n",
      "         TRM       0.73      0.75      0.74      1964\n",
      "\n",
      "   micro avg       0.85      0.86      0.86     29248\n",
      "   macro avg       0.72      0.73      0.72     29248\n",
      "weighted avg       0.85      0.86      0.86     29248\n",
      "\n"
     ]
    },
    {
     "name": "stdout",
     "output_type": "stream",
     "text": [
      "Epoch 27 done                                                                           \n",
      "Epoch 28/30 : |██████████------------------------------| 25.08% [635/2532 00:11<00:35]\r"
     ]
    },
    {
     "name": "stderr",
     "output_type": "stream",
     "text": [
      "02/14/2024 04:48:53 - INFO - run_ner -   ***** Running evaluation on test dataset (69000 step) *****\n",
      "02/14/2024 04:48:53 - INFO - run_ner -     Num examples = 9000\n",
      "02/14/2024 04:48:53 - INFO - run_ner -     Eval Batch size = 128\n"
     ]
    },
    {
     "name": "stdout",
     "output_type": "stream",
     "text": [
      " |████████████████████████████████████████| 100.00% [71/71 00:01<00:00]\r"
     ]
    },
    {
     "name": "stderr",
     "output_type": "stream",
     "text": [
      "02/14/2024 04:48:56 - INFO - run_ner -   ***** Eval results on test dataset *****\n",
      "02/14/2024 04:48:56 - INFO - run_ner -     f1 = 0.8602406362585819\n",
      "02/14/2024 04:48:56 - INFO - run_ner -     loss = 0.2840070350908897\n",
      "02/14/2024 04:48:56 - INFO - run_ner -     precision = 0.8551831328557913\n",
      "02/14/2024 04:48:56 - INFO - run_ner -     recall = 0.8653583150984683\n",
      "02/14/2024 04:48:56 - INFO - run_ner -   \n",
      "              precision    recall  f1-score   support\n",
      "\n",
      "         AFW       0.61      0.62      0.62       394\n",
      "         ANM       0.76      0.79      0.77       701\n",
      "         CVL       0.84      0.85      0.84      5758\n",
      "         DAT       0.92      0.93      0.93      2521\n",
      "         EVT       0.77      0.78      0.77      1094\n",
      "         FLD       0.61      0.67      0.63       228\n",
      "         LOC       0.85      0.86      0.85      2126\n",
      "         MAT       0.18      0.17      0.17        12\n",
      "         NUM       0.92      0.93      0.92      5590\n",
      "         ORG       0.88      0.87      0.87      4086\n",
      "         PER       0.88      0.89      0.88      4426\n",
      "         PLT       0.35      0.24      0.28        34\n",
      "         TIM       0.85      0.94      0.89       314\n",
      "         TRM       0.74      0.74      0.74      1964\n",
      "\n",
      "   micro avg       0.86      0.87      0.86     29248\n",
      "   macro avg       0.72      0.73      0.73     29248\n",
      "weighted avg       0.86      0.87      0.86     29248\n",
      "\n"
     ]
    },
    {
     "name": "stdout",
     "output_type": "stream",
     "text": [
      "Epoch 28/30 : |█████████████████████████---------------| 64.30% [1628/2532 00:33<00:18]\r"
     ]
    },
    {
     "name": "stderr",
     "output_type": "stream",
     "text": [
      "02/14/2024 04:49:15 - INFO - run_ner -   ***** Running evaluation on test dataset (70000 step) *****\n",
      "02/14/2024 04:49:15 - INFO - run_ner -     Num examples = 9000\n",
      "02/14/2024 04:49:15 - INFO - run_ner -     Eval Batch size = 128\n"
     ]
    },
    {
     "name": "stdout",
     "output_type": "stream",
     "text": [
      " |████████████████████████████████████████| 100.00% [71/71 00:02<00:00]\r"
     ]
    },
    {
     "name": "stderr",
     "output_type": "stream",
     "text": [
      "02/14/2024 04:49:18 - INFO - run_ner -   ***** Eval results on test dataset *****\n",
      "02/14/2024 04:49:18 - INFO - run_ner -     f1 = 0.8598909035294917\n",
      "02/14/2024 04:49:18 - INFO - run_ner -     loss = 0.28322955735132727\n",
      "02/14/2024 04:49:18 - INFO - run_ner -     precision = 0.8547923916348525\n",
      "02/14/2024 04:49:18 - INFO - run_ner -     recall = 0.865050601750547\n",
      "02/14/2024 04:49:19 - INFO - run_ner -   \n",
      "              precision    recall  f1-score   support\n",
      "\n",
      "         AFW       0.58      0.61      0.60       394\n",
      "         ANM       0.77      0.78      0.78       701\n",
      "         CVL       0.84      0.84      0.84      5758\n",
      "         DAT       0.92      0.93      0.92      2521\n",
      "         EVT       0.77      0.78      0.78      1094\n",
      "         FLD       0.60      0.68      0.64       228\n",
      "         LOC       0.84      0.87      0.86      2126\n",
      "         MAT       0.17      0.17      0.17        12\n",
      "         NUM       0.91      0.93      0.92      5590\n",
      "         ORG       0.88      0.87      0.87      4086\n",
      "         PER       0.88      0.89      0.88      4426\n",
      "         PLT       0.32      0.21      0.25        34\n",
      "         TIM       0.86      0.93      0.90       314\n",
      "         TRM       0.73      0.75      0.74      1964\n",
      "\n",
      "   micro avg       0.85      0.87      0.86     29248\n",
      "   macro avg       0.72      0.73      0.72     29248\n",
      "weighted avg       0.86      0.87      0.86     29248\n",
      "\n"
     ]
    },
    {
     "name": "stdout",
     "output_type": "stream",
     "text": [
      "Epoch 28 done                                                                           \n",
      "Epoch 29/30 : |█---------------------------------------| 3.75% [95/2532 00:01<00:45]\r"
     ]
    },
    {
     "name": "stderr",
     "output_type": "stream",
     "text": [
      "02/14/2024 04:49:38 - INFO - run_ner -   ***** Running evaluation on test dataset (71000 step) *****\n",
      "02/14/2024 04:49:38 - INFO - run_ner -     Num examples = 9000\n",
      "02/14/2024 04:49:38 - INFO - run_ner -     Eval Batch size = 128\n"
     ]
    },
    {
     "name": "stdout",
     "output_type": "stream",
     "text": [
      " |████████████████████████████████████████| 100.00% [71/71 00:01<00:00]\r"
     ]
    },
    {
     "name": "stderr",
     "output_type": "stream",
     "text": [
      "02/14/2024 04:49:40 - INFO - run_ner -   ***** Eval results on test dataset *****\n",
      "02/14/2024 04:49:40 - INFO - run_ner -     f1 = 0.859241375792713\n",
      "02/14/2024 04:49:40 - INFO - run_ner -     loss = 0.2840086563792027\n",
      "02/14/2024 04:49:40 - INFO - run_ner -     precision = 0.8545774290642226\n",
      "02/14/2024 04:49:40 - INFO - run_ner -     recall = 0.8639565098468271\n",
      "02/14/2024 04:49:41 - INFO - run_ner -   \n",
      "              precision    recall  f1-score   support\n",
      "\n",
      "         AFW       0.58      0.62      0.60       394\n",
      "         ANM       0.76      0.78      0.77       701\n",
      "         CVL       0.84      0.84      0.84      5758\n",
      "         DAT       0.92      0.93      0.92      2521\n",
      "         EVT       0.77      0.78      0.78      1094\n",
      "         FLD       0.60      0.67      0.63       228\n",
      "         LOC       0.84      0.86      0.85      2126\n",
      "         MAT       0.17      0.17      0.17        12\n",
      "         NUM       0.92      0.93      0.92      5590\n",
      "         ORG       0.88      0.87      0.87      4086\n",
      "         PER       0.88      0.89      0.88      4426\n",
      "         PLT       0.27      0.18      0.21        34\n",
      "         TIM       0.86      0.93      0.90       314\n",
      "         TRM       0.73      0.74      0.74      1964\n",
      "\n",
      "   micro avg       0.85      0.86      0.86     29248\n",
      "   macro avg       0.72      0.73      0.72     29248\n",
      "weighted avg       0.85      0.86      0.86     29248\n",
      "\n"
     ]
    },
    {
     "name": "stdout",
     "output_type": "stream",
     "text": [
      "Epoch 29/30 : |█████████████████-----------------------| 43.44% [1100/2532 00:23<00:31]\r"
     ]
    },
    {
     "name": "stderr",
     "output_type": "stream",
     "text": [
      "02/14/2024 04:50:00 - INFO - run_ner -   ***** Running evaluation on test dataset (72000 step) *****\n",
      "02/14/2024 04:50:00 - INFO - run_ner -     Num examples = 9000\n",
      "02/14/2024 04:50:00 - INFO - run_ner -     Eval Batch size = 128\n"
     ]
    },
    {
     "name": "stdout",
     "output_type": "stream",
     "text": [
      " |████████████████████████████████████████| 100.00% [71/71 00:01<00:00]\r"
     ]
    },
    {
     "name": "stderr",
     "output_type": "stream",
     "text": [
      "02/14/2024 04:50:02 - INFO - run_ner -   ***** Eval results on test dataset *****\n",
      "02/14/2024 04:50:02 - INFO - run_ner -     f1 = 0.859064963305246\n",
      "02/14/2024 04:50:02 - INFO - run_ner -     loss = 0.2837323863321627\n",
      "02/14/2024 04:50:02 - INFO - run_ner -     precision = 0.8537277147487844\n",
      "02/14/2024 04:50:02 - INFO - run_ner -     recall = 0.8644693654266958\n",
      "02/14/2024 04:50:03 - INFO - run_ner -   \n",
      "              precision    recall  f1-score   support\n",
      "\n",
      "         AFW       0.57      0.62      0.59       394\n",
      "         ANM       0.76      0.78      0.77       701\n",
      "         CVL       0.84      0.84      0.84      5758\n",
      "         DAT       0.92      0.93      0.92      2521\n",
      "         EVT       0.77      0.78      0.78      1094\n",
      "         FLD       0.61      0.67      0.64       228\n",
      "         LOC       0.84      0.87      0.85      2126\n",
      "         MAT       0.20      0.17      0.18        12\n",
      "         NUM       0.92      0.93      0.92      5590\n",
      "         ORG       0.88      0.87      0.87      4086\n",
      "         PER       0.88      0.89      0.88      4426\n",
      "         PLT       0.30      0.21      0.25        34\n",
      "         TIM       0.86      0.93      0.89       314\n",
      "         TRM       0.73      0.75      0.74      1964\n",
      "\n",
      "   micro avg       0.85      0.86      0.86     29248\n",
      "   macro avg       0.72      0.73      0.72     29248\n",
      "weighted avg       0.85      0.86      0.86     29248\n",
      "\n"
     ]
    },
    {
     "name": "stdout",
     "output_type": "stream",
     "text": [
      "Epoch 29/30 : |█████████████████████████████████-------| 83.02% [2102/2532 00:46<00:09]\r"
     ]
    },
    {
     "name": "stderr",
     "output_type": "stream",
     "text": [
      "02/14/2024 04:50:22 - INFO - run_ner -   ***** Running evaluation on test dataset (73000 step) *****\n",
      "02/14/2024 04:50:22 - INFO - run_ner -     Num examples = 9000\n",
      "02/14/2024 04:50:22 - INFO - run_ner -     Eval Batch size = 128\n"
     ]
    },
    {
     "name": "stdout",
     "output_type": "stream",
     "text": [
      " |████████████████████████████████████████| 100.00% [71/71 00:01<00:00]\r"
     ]
    },
    {
     "name": "stderr",
     "output_type": "stream",
     "text": [
      "02/14/2024 04:50:24 - INFO - run_ner -   ***** Eval results on test dataset *****\n",
      "02/14/2024 04:50:24 - INFO - run_ner -     f1 = 0.8593789789993719\n",
      "02/14/2024 04:50:24 - INFO - run_ner -     loss = 0.2847441623748188\n",
      "02/14/2024 04:50:24 - INFO - run_ner -     precision = 0.85348170628899\n",
      "02/14/2024 04:50:24 - INFO - run_ner -     recall = 0.8653583150984683\n",
      "02/14/2024 04:50:25 - INFO - run_ner -   \n",
      "              precision    recall  f1-score   support\n",
      "\n",
      "         AFW       0.59      0.61      0.60       394\n",
      "         ANM       0.76      0.79      0.77       701\n",
      "         CVL       0.84      0.84      0.84      5758\n",
      "         DAT       0.92      0.93      0.92      2521\n",
      "         EVT       0.76      0.79      0.77      1094\n",
      "         FLD       0.61      0.67      0.64       228\n",
      "         LOC       0.85      0.86      0.86      2126\n",
      "         MAT       0.15      0.17      0.16        12\n",
      "         NUM       0.91      0.93      0.92      5590\n",
      "         ORG       0.88      0.87      0.87      4086\n",
      "         PER       0.88      0.89      0.88      4426\n",
      "         PLT       0.27      0.18      0.21        34\n",
      "         TIM       0.86      0.93      0.89       314\n",
      "         TRM       0.73      0.76      0.74      1964\n",
      "\n",
      "   micro avg       0.85      0.87      0.86     29248\n",
      "   macro avg       0.72      0.73      0.72     29248\n",
      "weighted avg       0.85      0.87      0.86     29248\n",
      "\n"
     ]
    },
    {
     "name": "stdout",
     "output_type": "stream",
     "text": [
      "Epoch 29 done                                                                           \n",
      "Epoch 30/30 : |████████--------------------------------| 22.31% [565/2532 00:10<00:36]\r"
     ]
    },
    {
     "name": "stderr",
     "output_type": "stream",
     "text": [
      "02/14/2024 04:50:44 - INFO - run_ner -   ***** Running evaluation on test dataset (74000 step) *****\n",
      "02/14/2024 04:50:44 - INFO - run_ner -     Num examples = 9000\n",
      "02/14/2024 04:50:44 - INFO - run_ner -     Eval Batch size = 128\n"
     ]
    },
    {
     "name": "stdout",
     "output_type": "stream",
     "text": [
      " |████████████████████████████████████████| 100.00% [71/71 00:01<00:00]\r"
     ]
    },
    {
     "name": "stderr",
     "output_type": "stream",
     "text": [
      "02/14/2024 04:50:47 - INFO - run_ner -   ***** Eval results on test dataset *****\n",
      "02/14/2024 04:50:47 - INFO - run_ner -     f1 = 0.8589604397095745\n",
      "02/14/2024 04:50:47 - INFO - run_ner -     loss = 0.2845107449192396\n",
      "02/14/2024 04:50:47 - INFO - run_ner -     precision = 0.8524242424242424\n",
      "02/14/2024 04:50:47 - INFO - run_ner -     recall = 0.865597647702407\n",
      "02/14/2024 04:50:47 - INFO - run_ner -   \n",
      "              precision    recall  f1-score   support\n",
      "\n",
      "         AFW       0.58      0.62      0.60       394\n",
      "         ANM       0.76      0.79      0.78       701\n",
      "         CVL       0.84      0.84      0.84      5758\n",
      "         DAT       0.92      0.93      0.92      2521\n",
      "         EVT       0.77      0.78      0.78      1094\n",
      "         FLD       0.58      0.68      0.63       228\n",
      "         LOC       0.85      0.86      0.85      2126\n",
      "         MAT       0.17      0.17      0.17        12\n",
      "         NUM       0.91      0.93      0.92      5590\n",
      "         ORG       0.87      0.87      0.87      4086\n",
      "         PER       0.88      0.89      0.88      4426\n",
      "         PLT       0.27      0.18      0.21        34\n",
      "         TIM       0.86      0.93      0.90       314\n",
      "         TRM       0.72      0.76      0.74      1964\n",
      "\n",
      "   micro avg       0.85      0.87      0.86     29248\n",
      "   macro avg       0.71      0.73      0.72     29248\n",
      "weighted avg       0.85      0.87      0.86     29248\n",
      "\n"
     ]
    },
    {
     "name": "stdout",
     "output_type": "stream",
     "text": [
      "Epoch 30/30 : |████████████████████████----------------| 61.89% [1567/2532 00:32<00:20]\r"
     ]
    },
    {
     "name": "stderr",
     "output_type": "stream",
     "text": [
      "02/14/2024 04:51:06 - INFO - run_ner -   ***** Running evaluation on test dataset (75000 step) *****\n",
      "02/14/2024 04:51:06 - INFO - run_ner -     Num examples = 9000\n",
      "02/14/2024 04:51:06 - INFO - run_ner -     Eval Batch size = 128\n"
     ]
    },
    {
     "name": "stdout",
     "output_type": "stream",
     "text": [
      " |████████████████████████████████████████| 100.00% [71/71 00:01<00:00]\r"
     ]
    },
    {
     "name": "stderr",
     "output_type": "stream",
     "text": [
      "02/14/2024 04:51:09 - INFO - run_ner -   ***** Eval results on test dataset *****\n",
      "02/14/2024 04:51:09 - INFO - run_ner -     f1 = 0.8594204130194611\n",
      "02/14/2024 04:51:09 - INFO - run_ner -     loss = 0.2844202115502156\n",
      "02/14/2024 04:51:09 - INFO - run_ner -     precision = 0.8544969074255585\n",
      "02/14/2024 04:51:09 - INFO - run_ner -     recall = 0.8644009846827133\n",
      "02/14/2024 04:51:09 - INFO - run_ner -   \n",
      "              precision    recall  f1-score   support\n",
      "\n",
      "         AFW       0.58      0.61      0.60       394\n",
      "         ANM       0.77      0.78      0.78       701\n",
      "         CVL       0.84      0.84      0.84      5758\n",
      "         DAT       0.92      0.93      0.92      2521\n",
      "         EVT       0.77      0.78      0.78      1094\n",
      "         FLD       0.60      0.68      0.63       228\n",
      "         LOC       0.85      0.86      0.85      2126\n",
      "         MAT       0.17      0.17      0.17        12\n",
      "         NUM       0.92      0.93      0.92      5590\n",
      "         ORG       0.88      0.87      0.87      4086\n",
      "         PER       0.88      0.89      0.88      4426\n",
      "         PLT       0.27      0.18      0.21        34\n",
      "         TIM       0.86      0.93      0.90       314\n",
      "         TRM       0.73      0.74      0.74      1964\n",
      "\n",
      "   micro avg       0.85      0.86      0.86     29248\n",
      "   macro avg       0.72      0.73      0.72     29248\n",
      "weighted avg       0.85      0.86      0.86     29248\n",
      "\n",
      "02/14/2024 04:51:10 - INFO - run_ner -   Saving best model checkpoint to ../../../../models/KoELECTRA/koelectra-small-v3-naver-ner-ckpt/checkpoint-best\n"
     ]
    },
    {
     "name": "stdout",
     "output_type": "stream",
     "text": [
      "############## save model -- 1000 ##############\n",
      "Epoch 30/30 :                                                                           \r"
     ]
    },
    {
     "name": "stderr",
     "output_type": "stream",
     "text": [
      "02/14/2024 04:51:28 - INFO - __main__ -    global_step = 75960, average loss = 0.11107933940319933\n"
     ]
    },
    {
     "name": "stdout",
     "output_type": "stream",
     "text": [
      "Epoch 30 done\n"
     ]
    }
   ],
   "source": [
    "if dev_dataset == None:\n",
    "    args.evaluate_test_during_training = True  # If there is no dev dataset, only use testset\n",
    "\n",
    "if args.do_train:\n",
    "    global_step, tr_loss = train_v2(args, model, train_dataset, dev_dataset, test_dataset)\n",
    "    logger.info(\" global_step = {}, average loss = {}\".format(global_step, tr_loss))\n"
   ]
  },
  {
   "cell_type": "code",
   "execution_count": 9,
   "metadata": {},
   "outputs": [
    {
     "name": "stderr",
     "output_type": "stream",
     "text": [
      "02/14/2024 04:55:44 - INFO - __main__ -   Evaluate the following checkpoints: ['../../../../models/KoELECTRA/koelectra-small-v3-naver-ner-ckpt/checkpoint-best']\n",
      "02/14/2024 04:55:44 - INFO - run_ner -   ***** Running evaluation on test dataset (best step) *****\n",
      "02/14/2024 04:55:44 - INFO - run_ner -     Num examples = 9000\n",
      "02/14/2024 04:55:44 - INFO - run_ner -     Eval Batch size = 128\n"
     ]
    },
    {
     "name": "stdout",
     "output_type": "stream",
     "text": [
      "['../../../../models/KoELECTRA/koelectra-small-v3-naver-ner-ckpt/checkpoint-best']\n",
      " |████████████████████████████████████████| 100.00% [71/71 00:02<00:00]\r"
     ]
    },
    {
     "name": "stderr",
     "output_type": "stream",
     "text": [
      "02/14/2024 04:55:47 - INFO - run_ner -   ***** Eval results on test dataset *****\n",
      "02/14/2024 04:55:47 - INFO - run_ner -     f1 = 0.8594204130194611\n",
      "02/14/2024 04:55:47 - INFO - run_ner -     loss = 0.2844202115502156\n",
      "02/14/2024 04:55:47 - INFO - run_ner -     precision = 0.8544969074255585\n",
      "02/14/2024 04:55:47 - INFO - run_ner -     recall = 0.8644009846827133\n",
      "02/14/2024 04:55:48 - INFO - run_ner -   \n",
      "              precision    recall  f1-score   support\n",
      "\n",
      "         AFW       0.58      0.61      0.60       394\n",
      "         ANM       0.77      0.78      0.78       701\n",
      "         CVL       0.84      0.84      0.84      5758\n",
      "         DAT       0.92      0.93      0.92      2521\n",
      "         EVT       0.77      0.78      0.78      1094\n",
      "         FLD       0.60      0.68      0.63       228\n",
      "         LOC       0.85      0.86      0.85      2126\n",
      "         MAT       0.17      0.17      0.17        12\n",
      "         NUM       0.92      0.93      0.92      5590\n",
      "         ORG       0.88      0.87      0.87      4086\n",
      "         PER       0.88      0.89      0.88      4426\n",
      "         PLT       0.27      0.18      0.21        34\n",
      "         TIM       0.86      0.93      0.90       314\n",
      "         TRM       0.73      0.74      0.74      1964\n",
      "\n",
      "   micro avg       0.85      0.86      0.86     29248\n",
      "   macro avg       0.72      0.73      0.72     29248\n",
      "weighted avg       0.85      0.86      0.86     29248\n",
      "\n"
     ]
    }
   ],
   "source": [
    "\n",
    "results = {}\n",
    "if args.do_eval:\n",
    "    checkpoints = list(os.path.dirname(c) for c in\n",
    "                        # sorted(glob.glob(args.output_dir + \"/**/\" + \"pytorch_model.bin\", recursive=True), key=lambda path_with_step: list(map(int, re.findall(r\"\\d+\", path_with_step)))[-1]))\n",
    "                        sorted(glob.glob(args.output_dir + \"/**/\" + \"training_args.bin\", recursive=True), key=lambda path_with_step: list(map(int, re.findall(r\"\\d+\", path_with_step)))[-1]))\n",
    "\n",
    "    print(checkpoints)\n",
    "    if not args.eval_all_checkpoints:\n",
    "        checkpoints = checkpoints[-1:]\n",
    "    else:\n",
    "        logging.getLogger(\"transformers.configuration_utils\").setLevel(logging.WARN)  # Reduce logging\n",
    "        logging.getLogger(\"transformers.modeling_utils\").setLevel(logging.WARN)  # Reduce logging\n",
    "    logger.info(\"Evaluate the following checkpoints: %s\", checkpoints)\n",
    "    for checkpoint in checkpoints:\n",
    "        global_step = checkpoint.split(\"-\")[-1]\n",
    "        model = MODEL_FOR_TOKEN_CLASSIFICATION[args.model_type].from_pretrained(checkpoint)\n",
    "        model.to(args.device)\n",
    "        result = evaluate(args, model, test_dataset, mode=\"test\", global_step=global_step)\n",
    "        result = dict((k + \"_{}\".format(global_step), v) for k, v in result.items())\n",
    "        results.update(result)\n",
    "\n",
    "    output_eval_file = os.path.join(args.output_dir, \"eval_results.txt\")\n",
    "    with open(output_eval_file, \"w\") as f_w:\n",
    "        if len(checkpoints) > 1:\n",
    "            for key in sorted(results.keys(), key=lambda key_with_step: (\n",
    "                    \"\".join(re.findall(r'[^_]+_', key_with_step)),\n",
    "                    int(re.findall(r\"_\\d+\", key_with_step)[-1][1:])\n",
    "            )):\n",
    "                f_w.write(\"{} = {}\\n\".format(key, str(results[key])))\n",
    "        else:\n",
    "            for key in sorted(results.keys()):\n",
    "                f_w.write(\"{} = {}\\n\".format(key, str(results[key])))\n"
   ]
  }
 ],
 "metadata": {
  "kernelspec": {
   "display_name": "CSU",
   "language": "python",
   "name": "python3"
  },
  "language_info": {
   "codemirror_mode": {
    "name": "ipython",
    "version": 3
   },
   "file_extension": ".py",
   "mimetype": "text/x-python",
   "name": "python",
   "nbconvert_exporter": "python",
   "pygments_lexer": "ipython3",
   "version": "3.8.18"
  }
 },
 "nbformat": 4,
 "nbformat_minor": 2
}
